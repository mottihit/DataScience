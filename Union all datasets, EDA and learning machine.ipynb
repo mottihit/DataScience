{
 "cells": [
  {
   "cell_type": "code",
   "execution_count": 2117,
   "id": "ce94193b",
   "metadata": {},
   "outputs": [],
   "source": [
    "import pandas as pd\n",
    "import numpy as np\n",
    "import matplotlib as mpl\n",
    "from matplotlib import pyplot as plt\n",
    "import seaborn as sns\n",
    "%matplotlib inline\n",
    "import re\n",
    "from sklearn.feature_extraction.text import CountVectorizer\n",
    "from sklearn import tree\n",
    "from sklearn.ensemble import RandomForestClassifier\n",
    "from sklearn.model_selection import train_test_split\n",
    "from sklearn import metrics"
   ]
  },
  {
   "cell_type": "markdown",
   "id": "07908329",
   "metadata": {},
   "source": [
    "<h3>Create dataframes from CSV files</h3>"
   ]
  },
  {
   "cell_type": "code",
   "execution_count": 2118,
   "id": "e9b411bf",
   "metadata": {},
   "outputs": [],
   "source": [
    "df_football = pd.read_csv(\"Football.csv\")\n",
    "df_baseball = pd.read_csv(\"Baseball.csv\")\n",
    "df_basketball = pd.read_csv(\"Basketball.csv\")\n",
    "df_hockey = pd.read_csv(\"Hockey.csv\")"
   ]
  },
  {
   "cell_type": "markdown",
   "id": "cdaed144",
   "metadata": {},
   "source": [
    "<h3>Define categorial number for each sport</h3>\n",
    "I am adding categorial number for each df (instead of name of sport)\n",
    "<ul>\n",
    "<li>1 - Football\n",
    "<li>2 - Baseball\n",
    "<li>3 - Basketball\n",
    "<li>4 - Hockey\n",
    "</ul>"
   ]
  },
  {
   "cell_type": "code",
   "execution_count": 2119,
   "id": "fde56f55",
   "metadata": {},
   "outputs": [],
   "source": [
    "df_football['cat'] = 1\n",
    "df_football.drop(df_football.columns[0], inplace=True, axis=1)\n",
    "df_football.to_csv(\"Football.csv\")\n",
    "df_baseball['cat'] = 2\n",
    "df_baseball.drop(df_baseball.columns[0], inplace=True, axis=1)\n",
    "df_baseball.to_csv(\"Baseball.csv\")\n",
    "df_basketball['cat'] = 3\n",
    "df_basketball.drop(df_basketball.columns[0], inplace=True, axis=1)\n",
    "df_basketball.to_csv(\"Basketball.csv\")\n",
    "df_hockey['cat'] = 4\n",
    "df_hockey.drop(df_hockey.columns[0], inplace=True, axis=1)\n",
    "df_hockey.to_csv(\"Hockey.csv\")"
   ]
  },
  {
   "cell_type": "markdown",
   "id": "a547406b",
   "metadata": {},
   "source": [
    "Concatenate all dfs into one df and save to CSV file"
   ]
  },
  {
   "cell_type": "code",
   "execution_count": 2120,
   "id": "ea3be4b6",
   "metadata": {},
   "outputs": [
    {
     "data": {
      "text/html": [
       "<div>\n",
       "<style scoped>\n",
       "    .dataframe tbody tr th:only-of-type {\n",
       "        vertical-align: middle;\n",
       "    }\n",
       "\n",
       "    .dataframe tbody tr th {\n",
       "        vertical-align: top;\n",
       "    }\n",
       "\n",
       "    .dataframe thead th {\n",
       "        text-align: right;\n",
       "    }\n",
       "</style>\n",
       "<table border=\"1\" class=\"dataframe\">\n",
       "  <thead>\n",
       "    <tr style=\"text-align: right;\">\n",
       "      <th></th>\n",
       "      <th>title</th>\n",
       "      <th>bids</th>\n",
       "      <th>err_bids</th>\n",
       "      <th>link</th>\n",
       "      <th>price</th>\n",
       "      <th>weekday</th>\n",
       "      <th>date</th>\n",
       "      <th>err_date</th>\n",
       "      <th>hour</th>\n",
       "      <th>ampm</th>\n",
       "      <th>Description</th>\n",
       "      <th>cat</th>\n",
       "      <th>price_cln</th>\n",
       "    </tr>\n",
       "  </thead>\n",
       "  <tbody>\n",
       "    <tr>\n",
       "      <th>0</th>\n",
       "      <td>2000 Playoff Contenders Championship Ticket Au...</td>\n",
       "      <td>10</td>\n",
       "      <td>0</td>\n",
       "      <td>https://goldin.co/item/2000-playoff-contender-...</td>\n",
       "      <td>$114,000</td>\n",
       "      <td>Thu</td>\n",
       "      <td>3/30/2023</td>\n",
       "      <td>0</td>\n",
       "      <td>4:30</td>\n",
       "      <td>AM</td>\n",
       "      <td>Encapsulated and assessed \"Authentic\" by PSA, ...</td>\n",
       "      <td>1</td>\n",
       "      <td>NaN</td>\n",
       "    </tr>\n",
       "    <tr>\n",
       "      <th>1</th>\n",
       "      <td>1976 Topps #148 Walter Payton Rookie Card – PS...</td>\n",
       "      <td>23</td>\n",
       "      <td>0</td>\n",
       "      <td>https://goldin.co/item/1976-topps-148-walter-p...</td>\n",
       "      <td>$61,200</td>\n",
       "      <td>Thu</td>\n",
       "      <td>3/16/2023</td>\n",
       "      <td>0</td>\n",
       "      <td>3:30</td>\n",
       "      <td>AM</td>\n",
       "      <td>Graded GEM MT 10 by PSA (63938572). Hall of Fa...</td>\n",
       "      <td>1</td>\n",
       "      <td>NaN</td>\n",
       "    </tr>\n",
       "    <tr>\n",
       "      <th>2</th>\n",
       "      <td>2021 Panini National Treasures Rookie Patch Au...</td>\n",
       "      <td>32</td>\n",
       "      <td>0</td>\n",
       "      <td>https://goldin.co/item/2021-panini-national-tr...</td>\n",
       "      <td>$264,000</td>\n",
       "      <td>Thu</td>\n",
       "      <td>3/30/2023</td>\n",
       "      <td>0</td>\n",
       "      <td>5:44</td>\n",
       "      <td>AM</td>\n",
       "      <td>Graded NM-MT 8 by BGS, with Autograph Grade 10...</td>\n",
       "      <td>1</td>\n",
       "      <td>NaN</td>\n",
       "    </tr>\n",
       "    <tr>\n",
       "      <th>3</th>\n",
       "      <td>2000 Playoff Contenders Championship Ticket Au...</td>\n",
       "      <td>23</td>\n",
       "      <td>0</td>\n",
       "      <td>https://goldin.co/item/2000-playoff-contenders...</td>\n",
       "      <td>$570,000</td>\n",
       "      <td>Thu</td>\n",
       "      <td>3/2/2023</td>\n",
       "      <td>0</td>\n",
       "      <td>5:03</td>\n",
       "      <td>AM</td>\n",
       "      <td>Graded NM-MT 8 by PSA (19778427). Rookie Card....</td>\n",
       "      <td>1</td>\n",
       "      <td>NaN</td>\n",
       "    </tr>\n",
       "    <tr>\n",
       "      <th>4</th>\n",
       "      <td>1933 Sport Kings #6 Jim Thorpe, Football - PSA...</td>\n",
       "      <td>18</td>\n",
       "      <td>0</td>\n",
       "      <td>https://goldin.co/item/1933-sport-kings-footba...</td>\n",
       "      <td>$43,200</td>\n",
       "      <td>Thu</td>\n",
       "      <td>5/18/2023</td>\n",
       "      <td>0</td>\n",
       "      <td>5:49</td>\n",
       "      <td>AM</td>\n",
       "      <td>Graded NM-MT 8 by PSA (09031682). Hall of Fame...</td>\n",
       "      <td>1</td>\n",
       "      <td>NaN</td>\n",
       "    </tr>\n",
       "    <tr>\n",
       "      <th>...</th>\n",
       "      <td>...</td>\n",
       "      <td>...</td>\n",
       "      <td>...</td>\n",
       "      <td>...</td>\n",
       "      <td>...</td>\n",
       "      <td>...</td>\n",
       "      <td>...</td>\n",
       "      <td>...</td>\n",
       "      <td>...</td>\n",
       "      <td>...</td>\n",
       "      <td>...</td>\n",
       "      <td>...</td>\n",
       "      <td>...</td>\n",
       "    </tr>\n",
       "    <tr>\n",
       "      <th>24235</th>\n",
       "      <td>1963 Parkhurst #55 Gordie Howe - PSA VG-EX 4</td>\n",
       "      <td>17</td>\n",
       "      <td>0</td>\n",
       "      <td>https://goldin.co/item/1963-parkhurst-55-gordi...</td>\n",
       "      <td>$198</td>\n",
       "      <td>Fri</td>\n",
       "      <td>3/3/2023</td>\n",
       "      <td>0</td>\n",
       "      <td>4:15</td>\n",
       "      <td>AM</td>\n",
       "      <td>No Data</td>\n",
       "      <td>4</td>\n",
       "      <td>NaN</td>\n",
       "    </tr>\n",
       "    <tr>\n",
       "      <th>24236</th>\n",
       "      <td>1993-94 Pinnacle Nifty Fifty #10 Brett Hull – ...</td>\n",
       "      <td>2</td>\n",
       "      <td>0</td>\n",
       "      <td>https://goldin.co/item/1993-pinnacle-nifty-fif...</td>\n",
       "      <td>$8</td>\n",
       "      <td>Fri</td>\n",
       "      <td>3/17/2023</td>\n",
       "      <td>0</td>\n",
       "      <td>3:15</td>\n",
       "      <td>AM</td>\n",
       "      <td>No Data</td>\n",
       "      <td>4</td>\n",
       "      <td>NaN</td>\n",
       "    </tr>\n",
       "    <tr>\n",
       "      <th>24237</th>\n",
       "      <td>1993-94 Pinnacle Nifty Fifty #15 Jeremy Roenic...</td>\n",
       "      <td>2</td>\n",
       "      <td>0</td>\n",
       "      <td>https://goldin.co/item/1993-pinnacle-nifty-fif...</td>\n",
       "      <td>$8</td>\n",
       "      <td>Fri</td>\n",
       "      <td>3/17/2023</td>\n",
       "      <td>0</td>\n",
       "      <td>3:15</td>\n",
       "      <td>AM</td>\n",
       "      <td>No Data</td>\n",
       "      <td>4</td>\n",
       "      <td>NaN</td>\n",
       "    </tr>\n",
       "    <tr>\n",
       "      <th>24238</th>\n",
       "      <td>1996-97 Upper Deck Collector's Choice MVP #UD1...</td>\n",
       "      <td>5</td>\n",
       "      <td>0</td>\n",
       "      <td>https://goldin.co/item/1996-collector-s-choice...</td>\n",
       "      <td>$16</td>\n",
       "      <td>Fri</td>\n",
       "      <td>3/10/2023</td>\n",
       "      <td>0</td>\n",
       "      <td>4:26</td>\n",
       "      <td>AM</td>\n",
       "      <td>No Data</td>\n",
       "      <td>4</td>\n",
       "      <td>NaN</td>\n",
       "    </tr>\n",
       "    <tr>\n",
       "      <th>24239</th>\n",
       "      <td>1979-80 O-Pee-Chee #18 Wayne Gretzky Rookie Ca...</td>\n",
       "      <td>10</td>\n",
       "      <td>0</td>\n",
       "      <td>https://goldin.co/item/1979-80-o-pee-chee-18-w...</td>\n",
       "      <td>$114,000</td>\n",
       "      <td>Thu</td>\n",
       "      <td>5/18/2023</td>\n",
       "      <td>0</td>\n",
       "      <td>4:44</td>\n",
       "      <td>AM</td>\n",
       "      <td>Graded MINT 9 by PSA (31546256). Hall of Famer...</td>\n",
       "      <td>4</td>\n",
       "      <td>NaN</td>\n",
       "    </tr>\n",
       "  </tbody>\n",
       "</table>\n",
       "<p>24240 rows × 13 columns</p>\n",
       "</div>"
      ],
      "text/plain": [
       "                                                   title  bids  err_bids  \\\n",
       "0      2000 Playoff Contenders Championship Ticket Au...    10         0   \n",
       "1      1976 Topps #148 Walter Payton Rookie Card – PS...    23         0   \n",
       "2      2021 Panini National Treasures Rookie Patch Au...    32         0   \n",
       "3      2000 Playoff Contenders Championship Ticket Au...    23         0   \n",
       "4      1933 Sport Kings #6 Jim Thorpe, Football - PSA...    18         0   \n",
       "...                                                  ...   ...       ...   \n",
       "24235       1963 Parkhurst #55 Gordie Howe - PSA VG-EX 4    17         0   \n",
       "24236  1993-94 Pinnacle Nifty Fifty #10 Brett Hull – ...     2         0   \n",
       "24237  1993-94 Pinnacle Nifty Fifty #15 Jeremy Roenic...     2         0   \n",
       "24238  1996-97 Upper Deck Collector's Choice MVP #UD1...     5         0   \n",
       "24239  1979-80 O-Pee-Chee #18 Wayne Gretzky Rookie Ca...    10         0   \n",
       "\n",
       "                                                    link      price weekday  \\\n",
       "0      https://goldin.co/item/2000-playoff-contender-...  $114,000      Thu   \n",
       "1      https://goldin.co/item/1976-topps-148-walter-p...   $61,200      Thu   \n",
       "2      https://goldin.co/item/2021-panini-national-tr...  $264,000      Thu   \n",
       "3      https://goldin.co/item/2000-playoff-contenders...  $570,000      Thu   \n",
       "4      https://goldin.co/item/1933-sport-kings-footba...   $43,200      Thu   \n",
       "...                                                  ...        ...     ...   \n",
       "24235  https://goldin.co/item/1963-parkhurst-55-gordi...      $198      Fri   \n",
       "24236  https://goldin.co/item/1993-pinnacle-nifty-fif...        $8      Fri   \n",
       "24237  https://goldin.co/item/1993-pinnacle-nifty-fif...        $8      Fri   \n",
       "24238  https://goldin.co/item/1996-collector-s-choice...       $16      Fri   \n",
       "24239  https://goldin.co/item/1979-80-o-pee-chee-18-w...  $114,000      Thu   \n",
       "\n",
       "            date  err_date  hour ampm  \\\n",
       "0      3/30/2023         0  4:30   AM   \n",
       "1      3/16/2023         0  3:30   AM   \n",
       "2      3/30/2023         0  5:44   AM   \n",
       "3       3/2/2023         0  5:03   AM   \n",
       "4      5/18/2023         0  5:49   AM   \n",
       "...          ...       ...   ...  ...   \n",
       "24235   3/3/2023         0  4:15   AM   \n",
       "24236  3/17/2023         0  3:15   AM   \n",
       "24237  3/17/2023         0  3:15   AM   \n",
       "24238  3/10/2023         0  4:26   AM   \n",
       "24239  5/18/2023         0  4:44   AM   \n",
       "\n",
       "                                             Description  cat  price_cln  \n",
       "0      Encapsulated and assessed \"Authentic\" by PSA, ...    1        NaN  \n",
       "1      Graded GEM MT 10 by PSA (63938572). Hall of Fa...    1        NaN  \n",
       "2      Graded NM-MT 8 by BGS, with Autograph Grade 10...    1        NaN  \n",
       "3      Graded NM-MT 8 by PSA (19778427). Rookie Card....    1        NaN  \n",
       "4      Graded NM-MT 8 by PSA (09031682). Hall of Fame...    1        NaN  \n",
       "...                                                  ...  ...        ...  \n",
       "24235                                            No Data    4        NaN  \n",
       "24236                                            No Data    4        NaN  \n",
       "24237                                            No Data    4        NaN  \n",
       "24238                                            No Data    4        NaN  \n",
       "24239  Graded MINT 9 by PSA (31546256). Hall of Famer...    4        NaN  \n",
       "\n",
       "[24240 rows x 13 columns]"
      ]
     },
     "execution_count": 2120,
     "metadata": {},
     "output_type": "execute_result"
    }
   ],
   "source": [
    "full_data = pd.concat([df_football,df_baseball,df_basketball,df_hockey], ignore_index=True, sort=False)\n",
    "full_data.to_csv(\"full_data.csv\")\n",
    "full_data"
   ]
  },
  {
   "cell_type": "markdown",
   "id": "7660b6bd",
   "metadata": {},
   "source": [
    "Let's check how many records we have..."
   ]
  },
  {
   "cell_type": "code",
   "execution_count": 2121,
   "id": "e45d32a1",
   "metadata": {},
   "outputs": [
    {
     "name": "stdout",
     "output_type": "stream",
     "text": [
      "There are 24240 records\n"
     ]
    }
   ],
   "source": [
    "print(\"There are {} records\".format(len(full_data)))"
   ]
  },
  {
   "cell_type": "markdown",
   "id": "e913cb23",
   "metadata": {},
   "source": [
    "We have 24240 records"
   ]
  },
  {
   "cell_type": "markdown",
   "id": "6816fbae",
   "metadata": {},
   "source": [
    "Let's show the df"
   ]
  },
  {
   "cell_type": "code",
   "execution_count": 2122,
   "id": "1c7a4c60",
   "metadata": {},
   "outputs": [
    {
     "data": {
      "text/html": [
       "<div>\n",
       "<style scoped>\n",
       "    .dataframe tbody tr th:only-of-type {\n",
       "        vertical-align: middle;\n",
       "    }\n",
       "\n",
       "    .dataframe tbody tr th {\n",
       "        vertical-align: top;\n",
       "    }\n",
       "\n",
       "    .dataframe thead th {\n",
       "        text-align: right;\n",
       "    }\n",
       "</style>\n",
       "<table border=\"1\" class=\"dataframe\">\n",
       "  <thead>\n",
       "    <tr style=\"text-align: right;\">\n",
       "      <th></th>\n",
       "      <th>title</th>\n",
       "      <th>bids</th>\n",
       "      <th>err_bids</th>\n",
       "      <th>link</th>\n",
       "      <th>price</th>\n",
       "      <th>weekday</th>\n",
       "      <th>date</th>\n",
       "      <th>err_date</th>\n",
       "      <th>hour</th>\n",
       "      <th>ampm</th>\n",
       "      <th>Description</th>\n",
       "      <th>cat</th>\n",
       "      <th>price_cln</th>\n",
       "    </tr>\n",
       "  </thead>\n",
       "  <tbody>\n",
       "    <tr>\n",
       "      <th>0</th>\n",
       "      <td>2000 Playoff Contenders Championship Ticket Au...</td>\n",
       "      <td>10</td>\n",
       "      <td>0</td>\n",
       "      <td>https://goldin.co/item/2000-playoff-contender-...</td>\n",
       "      <td>$114,000</td>\n",
       "      <td>Thu</td>\n",
       "      <td>3/30/2023</td>\n",
       "      <td>0</td>\n",
       "      <td>4:30</td>\n",
       "      <td>AM</td>\n",
       "      <td>Encapsulated and assessed \"Authentic\" by PSA, ...</td>\n",
       "      <td>1</td>\n",
       "      <td>NaN</td>\n",
       "    </tr>\n",
       "    <tr>\n",
       "      <th>1</th>\n",
       "      <td>1976 Topps #148 Walter Payton Rookie Card – PS...</td>\n",
       "      <td>23</td>\n",
       "      <td>0</td>\n",
       "      <td>https://goldin.co/item/1976-topps-148-walter-p...</td>\n",
       "      <td>$61,200</td>\n",
       "      <td>Thu</td>\n",
       "      <td>3/16/2023</td>\n",
       "      <td>0</td>\n",
       "      <td>3:30</td>\n",
       "      <td>AM</td>\n",
       "      <td>Graded GEM MT 10 by PSA (63938572). Hall of Fa...</td>\n",
       "      <td>1</td>\n",
       "      <td>NaN</td>\n",
       "    </tr>\n",
       "    <tr>\n",
       "      <th>2</th>\n",
       "      <td>2021 Panini National Treasures Rookie Patch Au...</td>\n",
       "      <td>32</td>\n",
       "      <td>0</td>\n",
       "      <td>https://goldin.co/item/2021-panini-national-tr...</td>\n",
       "      <td>$264,000</td>\n",
       "      <td>Thu</td>\n",
       "      <td>3/30/2023</td>\n",
       "      <td>0</td>\n",
       "      <td>5:44</td>\n",
       "      <td>AM</td>\n",
       "      <td>Graded NM-MT 8 by BGS, with Autograph Grade 10...</td>\n",
       "      <td>1</td>\n",
       "      <td>NaN</td>\n",
       "    </tr>\n",
       "    <tr>\n",
       "      <th>3</th>\n",
       "      <td>2000 Playoff Contenders Championship Ticket Au...</td>\n",
       "      <td>23</td>\n",
       "      <td>0</td>\n",
       "      <td>https://goldin.co/item/2000-playoff-contenders...</td>\n",
       "      <td>$570,000</td>\n",
       "      <td>Thu</td>\n",
       "      <td>3/2/2023</td>\n",
       "      <td>0</td>\n",
       "      <td>5:03</td>\n",
       "      <td>AM</td>\n",
       "      <td>Graded NM-MT 8 by PSA (19778427). Rookie Card....</td>\n",
       "      <td>1</td>\n",
       "      <td>NaN</td>\n",
       "    </tr>\n",
       "    <tr>\n",
       "      <th>4</th>\n",
       "      <td>1933 Sport Kings #6 Jim Thorpe, Football - PSA...</td>\n",
       "      <td>18</td>\n",
       "      <td>0</td>\n",
       "      <td>https://goldin.co/item/1933-sport-kings-footba...</td>\n",
       "      <td>$43,200</td>\n",
       "      <td>Thu</td>\n",
       "      <td>5/18/2023</td>\n",
       "      <td>0</td>\n",
       "      <td>5:49</td>\n",
       "      <td>AM</td>\n",
       "      <td>Graded NM-MT 8 by PSA (09031682). Hall of Fame...</td>\n",
       "      <td>1</td>\n",
       "      <td>NaN</td>\n",
       "    </tr>\n",
       "    <tr>\n",
       "      <th>...</th>\n",
       "      <td>...</td>\n",
       "      <td>...</td>\n",
       "      <td>...</td>\n",
       "      <td>...</td>\n",
       "      <td>...</td>\n",
       "      <td>...</td>\n",
       "      <td>...</td>\n",
       "      <td>...</td>\n",
       "      <td>...</td>\n",
       "      <td>...</td>\n",
       "      <td>...</td>\n",
       "      <td>...</td>\n",
       "      <td>...</td>\n",
       "    </tr>\n",
       "    <tr>\n",
       "      <th>24235</th>\n",
       "      <td>1963 Parkhurst #55 Gordie Howe - PSA VG-EX 4</td>\n",
       "      <td>17</td>\n",
       "      <td>0</td>\n",
       "      <td>https://goldin.co/item/1963-parkhurst-55-gordi...</td>\n",
       "      <td>$198</td>\n",
       "      <td>Fri</td>\n",
       "      <td>3/3/2023</td>\n",
       "      <td>0</td>\n",
       "      <td>4:15</td>\n",
       "      <td>AM</td>\n",
       "      <td>No Data</td>\n",
       "      <td>4</td>\n",
       "      <td>NaN</td>\n",
       "    </tr>\n",
       "    <tr>\n",
       "      <th>24236</th>\n",
       "      <td>1993-94 Pinnacle Nifty Fifty #10 Brett Hull – ...</td>\n",
       "      <td>2</td>\n",
       "      <td>0</td>\n",
       "      <td>https://goldin.co/item/1993-pinnacle-nifty-fif...</td>\n",
       "      <td>$8</td>\n",
       "      <td>Fri</td>\n",
       "      <td>3/17/2023</td>\n",
       "      <td>0</td>\n",
       "      <td>3:15</td>\n",
       "      <td>AM</td>\n",
       "      <td>No Data</td>\n",
       "      <td>4</td>\n",
       "      <td>NaN</td>\n",
       "    </tr>\n",
       "    <tr>\n",
       "      <th>24237</th>\n",
       "      <td>1993-94 Pinnacle Nifty Fifty #15 Jeremy Roenic...</td>\n",
       "      <td>2</td>\n",
       "      <td>0</td>\n",
       "      <td>https://goldin.co/item/1993-pinnacle-nifty-fif...</td>\n",
       "      <td>$8</td>\n",
       "      <td>Fri</td>\n",
       "      <td>3/17/2023</td>\n",
       "      <td>0</td>\n",
       "      <td>3:15</td>\n",
       "      <td>AM</td>\n",
       "      <td>No Data</td>\n",
       "      <td>4</td>\n",
       "      <td>NaN</td>\n",
       "    </tr>\n",
       "    <tr>\n",
       "      <th>24238</th>\n",
       "      <td>1996-97 Upper Deck Collector's Choice MVP #UD1...</td>\n",
       "      <td>5</td>\n",
       "      <td>0</td>\n",
       "      <td>https://goldin.co/item/1996-collector-s-choice...</td>\n",
       "      <td>$16</td>\n",
       "      <td>Fri</td>\n",
       "      <td>3/10/2023</td>\n",
       "      <td>0</td>\n",
       "      <td>4:26</td>\n",
       "      <td>AM</td>\n",
       "      <td>No Data</td>\n",
       "      <td>4</td>\n",
       "      <td>NaN</td>\n",
       "    </tr>\n",
       "    <tr>\n",
       "      <th>24239</th>\n",
       "      <td>1979-80 O-Pee-Chee #18 Wayne Gretzky Rookie Ca...</td>\n",
       "      <td>10</td>\n",
       "      <td>0</td>\n",
       "      <td>https://goldin.co/item/1979-80-o-pee-chee-18-w...</td>\n",
       "      <td>$114,000</td>\n",
       "      <td>Thu</td>\n",
       "      <td>5/18/2023</td>\n",
       "      <td>0</td>\n",
       "      <td>4:44</td>\n",
       "      <td>AM</td>\n",
       "      <td>Graded MINT 9 by PSA (31546256). Hall of Famer...</td>\n",
       "      <td>4</td>\n",
       "      <td>NaN</td>\n",
       "    </tr>\n",
       "  </tbody>\n",
       "</table>\n",
       "<p>24240 rows × 13 columns</p>\n",
       "</div>"
      ],
      "text/plain": [
       "                                                   title  bids  err_bids  \\\n",
       "0      2000 Playoff Contenders Championship Ticket Au...    10         0   \n",
       "1      1976 Topps #148 Walter Payton Rookie Card – PS...    23         0   \n",
       "2      2021 Panini National Treasures Rookie Patch Au...    32         0   \n",
       "3      2000 Playoff Contenders Championship Ticket Au...    23         0   \n",
       "4      1933 Sport Kings #6 Jim Thorpe, Football - PSA...    18         0   \n",
       "...                                                  ...   ...       ...   \n",
       "24235       1963 Parkhurst #55 Gordie Howe - PSA VG-EX 4    17         0   \n",
       "24236  1993-94 Pinnacle Nifty Fifty #10 Brett Hull – ...     2         0   \n",
       "24237  1993-94 Pinnacle Nifty Fifty #15 Jeremy Roenic...     2         0   \n",
       "24238  1996-97 Upper Deck Collector's Choice MVP #UD1...     5         0   \n",
       "24239  1979-80 O-Pee-Chee #18 Wayne Gretzky Rookie Ca...    10         0   \n",
       "\n",
       "                                                    link      price weekday  \\\n",
       "0      https://goldin.co/item/2000-playoff-contender-...  $114,000      Thu   \n",
       "1      https://goldin.co/item/1976-topps-148-walter-p...   $61,200      Thu   \n",
       "2      https://goldin.co/item/2021-panini-national-tr...  $264,000      Thu   \n",
       "3      https://goldin.co/item/2000-playoff-contenders...  $570,000      Thu   \n",
       "4      https://goldin.co/item/1933-sport-kings-footba...   $43,200      Thu   \n",
       "...                                                  ...        ...     ...   \n",
       "24235  https://goldin.co/item/1963-parkhurst-55-gordi...      $198      Fri   \n",
       "24236  https://goldin.co/item/1993-pinnacle-nifty-fif...        $8      Fri   \n",
       "24237  https://goldin.co/item/1993-pinnacle-nifty-fif...        $8      Fri   \n",
       "24238  https://goldin.co/item/1996-collector-s-choice...       $16      Fri   \n",
       "24239  https://goldin.co/item/1979-80-o-pee-chee-18-w...  $114,000      Thu   \n",
       "\n",
       "            date  err_date  hour ampm  \\\n",
       "0      3/30/2023         0  4:30   AM   \n",
       "1      3/16/2023         0  3:30   AM   \n",
       "2      3/30/2023         0  5:44   AM   \n",
       "3       3/2/2023         0  5:03   AM   \n",
       "4      5/18/2023         0  5:49   AM   \n",
       "...          ...       ...   ...  ...   \n",
       "24235   3/3/2023         0  4:15   AM   \n",
       "24236  3/17/2023         0  3:15   AM   \n",
       "24237  3/17/2023         0  3:15   AM   \n",
       "24238  3/10/2023         0  4:26   AM   \n",
       "24239  5/18/2023         0  4:44   AM   \n",
       "\n",
       "                                             Description  cat  price_cln  \n",
       "0      Encapsulated and assessed \"Authentic\" by PSA, ...    1        NaN  \n",
       "1      Graded GEM MT 10 by PSA (63938572). Hall of Fa...    1        NaN  \n",
       "2      Graded NM-MT 8 by BGS, with Autograph Grade 10...    1        NaN  \n",
       "3      Graded NM-MT 8 by PSA (19778427). Rookie Card....    1        NaN  \n",
       "4      Graded NM-MT 8 by PSA (09031682). Hall of Fame...    1        NaN  \n",
       "...                                                  ...  ...        ...  \n",
       "24235                                            No Data    4        NaN  \n",
       "24236                                            No Data    4        NaN  \n",
       "24237                                            No Data    4        NaN  \n",
       "24238                                            No Data    4        NaN  \n",
       "24239  Graded MINT 9 by PSA (31546256). Hall of Famer...    4        NaN  \n",
       "\n",
       "[24240 rows x 13 columns]"
      ]
     },
     "execution_count": 2122,
     "metadata": {},
     "output_type": "execute_result"
    }
   ],
   "source": [
    "\n",
    "full_data.to_csv(\"full_data.csv\")\n",
    "full_data\n"
   ]
  },
  {
   "cell_type": "markdown",
   "id": "27855c2a",
   "metadata": {},
   "source": [
    "Remove columns of \"err_bids\" and \"err_date\", those columns irravlent for us"
   ]
  },
  {
   "cell_type": "code",
   "execution_count": 2123,
   "id": "8f90d655",
   "metadata": {},
   "outputs": [
    {
     "data": {
      "text/html": [
       "<div>\n",
       "<style scoped>\n",
       "    .dataframe tbody tr th:only-of-type {\n",
       "        vertical-align: middle;\n",
       "    }\n",
       "\n",
       "    .dataframe tbody tr th {\n",
       "        vertical-align: top;\n",
       "    }\n",
       "\n",
       "    .dataframe thead th {\n",
       "        text-align: right;\n",
       "    }\n",
       "</style>\n",
       "<table border=\"1\" class=\"dataframe\">\n",
       "  <thead>\n",
       "    <tr style=\"text-align: right;\">\n",
       "      <th></th>\n",
       "      <th>title</th>\n",
       "      <th>bids</th>\n",
       "      <th>link</th>\n",
       "      <th>price</th>\n",
       "      <th>weekday</th>\n",
       "      <th>date</th>\n",
       "      <th>hour</th>\n",
       "      <th>ampm</th>\n",
       "      <th>Description</th>\n",
       "      <th>cat</th>\n",
       "      <th>price_cln</th>\n",
       "    </tr>\n",
       "  </thead>\n",
       "  <tbody>\n",
       "    <tr>\n",
       "      <th>0</th>\n",
       "      <td>2000 Playoff Contenders Championship Ticket Au...</td>\n",
       "      <td>10</td>\n",
       "      <td>https://goldin.co/item/2000-playoff-contender-...</td>\n",
       "      <td>$114,000</td>\n",
       "      <td>Thu</td>\n",
       "      <td>3/30/2023</td>\n",
       "      <td>4:30</td>\n",
       "      <td>AM</td>\n",
       "      <td>Encapsulated and assessed \"Authentic\" by PSA, ...</td>\n",
       "      <td>1</td>\n",
       "      <td>NaN</td>\n",
       "    </tr>\n",
       "    <tr>\n",
       "      <th>1</th>\n",
       "      <td>1976 Topps #148 Walter Payton Rookie Card – PS...</td>\n",
       "      <td>23</td>\n",
       "      <td>https://goldin.co/item/1976-topps-148-walter-p...</td>\n",
       "      <td>$61,200</td>\n",
       "      <td>Thu</td>\n",
       "      <td>3/16/2023</td>\n",
       "      <td>3:30</td>\n",
       "      <td>AM</td>\n",
       "      <td>Graded GEM MT 10 by PSA (63938572). Hall of Fa...</td>\n",
       "      <td>1</td>\n",
       "      <td>NaN</td>\n",
       "    </tr>\n",
       "    <tr>\n",
       "      <th>2</th>\n",
       "      <td>2021 Panini National Treasures Rookie Patch Au...</td>\n",
       "      <td>32</td>\n",
       "      <td>https://goldin.co/item/2021-panini-national-tr...</td>\n",
       "      <td>$264,000</td>\n",
       "      <td>Thu</td>\n",
       "      <td>3/30/2023</td>\n",
       "      <td>5:44</td>\n",
       "      <td>AM</td>\n",
       "      <td>Graded NM-MT 8 by BGS, with Autograph Grade 10...</td>\n",
       "      <td>1</td>\n",
       "      <td>NaN</td>\n",
       "    </tr>\n",
       "    <tr>\n",
       "      <th>3</th>\n",
       "      <td>2000 Playoff Contenders Championship Ticket Au...</td>\n",
       "      <td>23</td>\n",
       "      <td>https://goldin.co/item/2000-playoff-contenders...</td>\n",
       "      <td>$570,000</td>\n",
       "      <td>Thu</td>\n",
       "      <td>3/2/2023</td>\n",
       "      <td>5:03</td>\n",
       "      <td>AM</td>\n",
       "      <td>Graded NM-MT 8 by PSA (19778427). Rookie Card....</td>\n",
       "      <td>1</td>\n",
       "      <td>NaN</td>\n",
       "    </tr>\n",
       "    <tr>\n",
       "      <th>4</th>\n",
       "      <td>1933 Sport Kings #6 Jim Thorpe, Football - PSA...</td>\n",
       "      <td>18</td>\n",
       "      <td>https://goldin.co/item/1933-sport-kings-footba...</td>\n",
       "      <td>$43,200</td>\n",
       "      <td>Thu</td>\n",
       "      <td>5/18/2023</td>\n",
       "      <td>5:49</td>\n",
       "      <td>AM</td>\n",
       "      <td>Graded NM-MT 8 by PSA (09031682). Hall of Fame...</td>\n",
       "      <td>1</td>\n",
       "      <td>NaN</td>\n",
       "    </tr>\n",
       "    <tr>\n",
       "      <th>...</th>\n",
       "      <td>...</td>\n",
       "      <td>...</td>\n",
       "      <td>...</td>\n",
       "      <td>...</td>\n",
       "      <td>...</td>\n",
       "      <td>...</td>\n",
       "      <td>...</td>\n",
       "      <td>...</td>\n",
       "      <td>...</td>\n",
       "      <td>...</td>\n",
       "      <td>...</td>\n",
       "    </tr>\n",
       "    <tr>\n",
       "      <th>24235</th>\n",
       "      <td>1963 Parkhurst #55 Gordie Howe - PSA VG-EX 4</td>\n",
       "      <td>17</td>\n",
       "      <td>https://goldin.co/item/1963-parkhurst-55-gordi...</td>\n",
       "      <td>$198</td>\n",
       "      <td>Fri</td>\n",
       "      <td>3/3/2023</td>\n",
       "      <td>4:15</td>\n",
       "      <td>AM</td>\n",
       "      <td>No Data</td>\n",
       "      <td>4</td>\n",
       "      <td>NaN</td>\n",
       "    </tr>\n",
       "    <tr>\n",
       "      <th>24236</th>\n",
       "      <td>1993-94 Pinnacle Nifty Fifty #10 Brett Hull – ...</td>\n",
       "      <td>2</td>\n",
       "      <td>https://goldin.co/item/1993-pinnacle-nifty-fif...</td>\n",
       "      <td>$8</td>\n",
       "      <td>Fri</td>\n",
       "      <td>3/17/2023</td>\n",
       "      <td>3:15</td>\n",
       "      <td>AM</td>\n",
       "      <td>No Data</td>\n",
       "      <td>4</td>\n",
       "      <td>NaN</td>\n",
       "    </tr>\n",
       "    <tr>\n",
       "      <th>24237</th>\n",
       "      <td>1993-94 Pinnacle Nifty Fifty #15 Jeremy Roenic...</td>\n",
       "      <td>2</td>\n",
       "      <td>https://goldin.co/item/1993-pinnacle-nifty-fif...</td>\n",
       "      <td>$8</td>\n",
       "      <td>Fri</td>\n",
       "      <td>3/17/2023</td>\n",
       "      <td>3:15</td>\n",
       "      <td>AM</td>\n",
       "      <td>No Data</td>\n",
       "      <td>4</td>\n",
       "      <td>NaN</td>\n",
       "    </tr>\n",
       "    <tr>\n",
       "      <th>24238</th>\n",
       "      <td>1996-97 Upper Deck Collector's Choice MVP #UD1...</td>\n",
       "      <td>5</td>\n",
       "      <td>https://goldin.co/item/1996-collector-s-choice...</td>\n",
       "      <td>$16</td>\n",
       "      <td>Fri</td>\n",
       "      <td>3/10/2023</td>\n",
       "      <td>4:26</td>\n",
       "      <td>AM</td>\n",
       "      <td>No Data</td>\n",
       "      <td>4</td>\n",
       "      <td>NaN</td>\n",
       "    </tr>\n",
       "    <tr>\n",
       "      <th>24239</th>\n",
       "      <td>1979-80 O-Pee-Chee #18 Wayne Gretzky Rookie Ca...</td>\n",
       "      <td>10</td>\n",
       "      <td>https://goldin.co/item/1979-80-o-pee-chee-18-w...</td>\n",
       "      <td>$114,000</td>\n",
       "      <td>Thu</td>\n",
       "      <td>5/18/2023</td>\n",
       "      <td>4:44</td>\n",
       "      <td>AM</td>\n",
       "      <td>Graded MINT 9 by PSA (31546256). Hall of Famer...</td>\n",
       "      <td>4</td>\n",
       "      <td>NaN</td>\n",
       "    </tr>\n",
       "  </tbody>\n",
       "</table>\n",
       "<p>24240 rows × 11 columns</p>\n",
       "</div>"
      ],
      "text/plain": [
       "                                                   title  bids  \\\n",
       "0      2000 Playoff Contenders Championship Ticket Au...    10   \n",
       "1      1976 Topps #148 Walter Payton Rookie Card – PS...    23   \n",
       "2      2021 Panini National Treasures Rookie Patch Au...    32   \n",
       "3      2000 Playoff Contenders Championship Ticket Au...    23   \n",
       "4      1933 Sport Kings #6 Jim Thorpe, Football - PSA...    18   \n",
       "...                                                  ...   ...   \n",
       "24235       1963 Parkhurst #55 Gordie Howe - PSA VG-EX 4    17   \n",
       "24236  1993-94 Pinnacle Nifty Fifty #10 Brett Hull – ...     2   \n",
       "24237  1993-94 Pinnacle Nifty Fifty #15 Jeremy Roenic...     2   \n",
       "24238  1996-97 Upper Deck Collector's Choice MVP #UD1...     5   \n",
       "24239  1979-80 O-Pee-Chee #18 Wayne Gretzky Rookie Ca...    10   \n",
       "\n",
       "                                                    link      price weekday  \\\n",
       "0      https://goldin.co/item/2000-playoff-contender-...  $114,000      Thu   \n",
       "1      https://goldin.co/item/1976-topps-148-walter-p...   $61,200      Thu   \n",
       "2      https://goldin.co/item/2021-panini-national-tr...  $264,000      Thu   \n",
       "3      https://goldin.co/item/2000-playoff-contenders...  $570,000      Thu   \n",
       "4      https://goldin.co/item/1933-sport-kings-footba...   $43,200      Thu   \n",
       "...                                                  ...        ...     ...   \n",
       "24235  https://goldin.co/item/1963-parkhurst-55-gordi...      $198      Fri   \n",
       "24236  https://goldin.co/item/1993-pinnacle-nifty-fif...        $8      Fri   \n",
       "24237  https://goldin.co/item/1993-pinnacle-nifty-fif...        $8      Fri   \n",
       "24238  https://goldin.co/item/1996-collector-s-choice...       $16      Fri   \n",
       "24239  https://goldin.co/item/1979-80-o-pee-chee-18-w...  $114,000      Thu   \n",
       "\n",
       "            date  hour ampm  \\\n",
       "0      3/30/2023  4:30   AM   \n",
       "1      3/16/2023  3:30   AM   \n",
       "2      3/30/2023  5:44   AM   \n",
       "3       3/2/2023  5:03   AM   \n",
       "4      5/18/2023  5:49   AM   \n",
       "...          ...   ...  ...   \n",
       "24235   3/3/2023  4:15   AM   \n",
       "24236  3/17/2023  3:15   AM   \n",
       "24237  3/17/2023  3:15   AM   \n",
       "24238  3/10/2023  4:26   AM   \n",
       "24239  5/18/2023  4:44   AM   \n",
       "\n",
       "                                             Description  cat  price_cln  \n",
       "0      Encapsulated and assessed \"Authentic\" by PSA, ...    1        NaN  \n",
       "1      Graded GEM MT 10 by PSA (63938572). Hall of Fa...    1        NaN  \n",
       "2      Graded NM-MT 8 by BGS, with Autograph Grade 10...    1        NaN  \n",
       "3      Graded NM-MT 8 by PSA (19778427). Rookie Card....    1        NaN  \n",
       "4      Graded NM-MT 8 by PSA (09031682). Hall of Fame...    1        NaN  \n",
       "...                                                  ...  ...        ...  \n",
       "24235                                            No Data    4        NaN  \n",
       "24236                                            No Data    4        NaN  \n",
       "24237                                            No Data    4        NaN  \n",
       "24238                                            No Data    4        NaN  \n",
       "24239  Graded MINT 9 by PSA (31546256). Hall of Famer...    4        NaN  \n",
       "\n",
       "[24240 rows x 11 columns]"
      ]
     },
     "execution_count": 2123,
     "metadata": {},
     "output_type": "execute_result"
    }
   ],
   "source": [
    "full_data.drop(full_data.columns[2], inplace=True, axis=1)\n",
    "full_data.drop(full_data.columns[6], inplace=True, axis=1)\n",
    "full_data.to_csv(\"full_data.csv\")\n",
    "full_data"
   ]
  },
  {
   "cell_type": "markdown",
   "id": "a39ba4ce",
   "metadata": {},
   "source": [
    "<h3>Create a new column of price that is numerial without sign of dollar and its name is 'price_cln'</h3>\n",
    "I created it by using of Regular Expressions"
   ]
  },
  {
   "cell_type": "code",
   "execution_count": 2124,
   "id": "36acd3aa",
   "metadata": {},
   "outputs": [
    {
     "data": {
      "text/html": [
       "<div>\n",
       "<style scoped>\n",
       "    .dataframe tbody tr th:only-of-type {\n",
       "        vertical-align: middle;\n",
       "    }\n",
       "\n",
       "    .dataframe tbody tr th {\n",
       "        vertical-align: top;\n",
       "    }\n",
       "\n",
       "    .dataframe thead th {\n",
       "        text-align: right;\n",
       "    }\n",
       "</style>\n",
       "<table border=\"1\" class=\"dataframe\">\n",
       "  <thead>\n",
       "    <tr style=\"text-align: right;\">\n",
       "      <th></th>\n",
       "      <th>title</th>\n",
       "      <th>bids</th>\n",
       "      <th>link</th>\n",
       "      <th>price</th>\n",
       "      <th>weekday</th>\n",
       "      <th>date</th>\n",
       "      <th>hour</th>\n",
       "      <th>ampm</th>\n",
       "      <th>Description</th>\n",
       "      <th>cat</th>\n",
       "      <th>price_cln</th>\n",
       "    </tr>\n",
       "  </thead>\n",
       "  <tbody>\n",
       "    <tr>\n",
       "      <th>0</th>\n",
       "      <td>2000 Playoff Contenders Championship Ticket Au...</td>\n",
       "      <td>10</td>\n",
       "      <td>https://goldin.co/item/2000-playoff-contender-...</td>\n",
       "      <td>$114,000</td>\n",
       "      <td>Thu</td>\n",
       "      <td>3/30/2023</td>\n",
       "      <td>4:30</td>\n",
       "      <td>AM</td>\n",
       "      <td>Encapsulated and assessed \"Authentic\" by PSA, ...</td>\n",
       "      <td>1</td>\n",
       "      <td>114000</td>\n",
       "    </tr>\n",
       "    <tr>\n",
       "      <th>1</th>\n",
       "      <td>1976 Topps #148 Walter Payton Rookie Card – PS...</td>\n",
       "      <td>23</td>\n",
       "      <td>https://goldin.co/item/1976-topps-148-walter-p...</td>\n",
       "      <td>$61,200</td>\n",
       "      <td>Thu</td>\n",
       "      <td>3/16/2023</td>\n",
       "      <td>3:30</td>\n",
       "      <td>AM</td>\n",
       "      <td>Graded GEM MT 10 by PSA (63938572). Hall of Fa...</td>\n",
       "      <td>1</td>\n",
       "      <td>61200</td>\n",
       "    </tr>\n",
       "    <tr>\n",
       "      <th>2</th>\n",
       "      <td>2021 Panini National Treasures Rookie Patch Au...</td>\n",
       "      <td>32</td>\n",
       "      <td>https://goldin.co/item/2021-panini-national-tr...</td>\n",
       "      <td>$264,000</td>\n",
       "      <td>Thu</td>\n",
       "      <td>3/30/2023</td>\n",
       "      <td>5:44</td>\n",
       "      <td>AM</td>\n",
       "      <td>Graded NM-MT 8 by BGS, with Autograph Grade 10...</td>\n",
       "      <td>1</td>\n",
       "      <td>264000</td>\n",
       "    </tr>\n",
       "    <tr>\n",
       "      <th>3</th>\n",
       "      <td>2000 Playoff Contenders Championship Ticket Au...</td>\n",
       "      <td>23</td>\n",
       "      <td>https://goldin.co/item/2000-playoff-contenders...</td>\n",
       "      <td>$570,000</td>\n",
       "      <td>Thu</td>\n",
       "      <td>3/2/2023</td>\n",
       "      <td>5:03</td>\n",
       "      <td>AM</td>\n",
       "      <td>Graded NM-MT 8 by PSA (19778427). Rookie Card....</td>\n",
       "      <td>1</td>\n",
       "      <td>570000</td>\n",
       "    </tr>\n",
       "    <tr>\n",
       "      <th>4</th>\n",
       "      <td>1933 Sport Kings #6 Jim Thorpe, Football - PSA...</td>\n",
       "      <td>18</td>\n",
       "      <td>https://goldin.co/item/1933-sport-kings-footba...</td>\n",
       "      <td>$43,200</td>\n",
       "      <td>Thu</td>\n",
       "      <td>5/18/2023</td>\n",
       "      <td>5:49</td>\n",
       "      <td>AM</td>\n",
       "      <td>Graded NM-MT 8 by PSA (09031682). Hall of Fame...</td>\n",
       "      <td>1</td>\n",
       "      <td>43200</td>\n",
       "    </tr>\n",
       "    <tr>\n",
       "      <th>...</th>\n",
       "      <td>...</td>\n",
       "      <td>...</td>\n",
       "      <td>...</td>\n",
       "      <td>...</td>\n",
       "      <td>...</td>\n",
       "      <td>...</td>\n",
       "      <td>...</td>\n",
       "      <td>...</td>\n",
       "      <td>...</td>\n",
       "      <td>...</td>\n",
       "      <td>...</td>\n",
       "    </tr>\n",
       "    <tr>\n",
       "      <th>24235</th>\n",
       "      <td>1963 Parkhurst #55 Gordie Howe - PSA VG-EX 4</td>\n",
       "      <td>17</td>\n",
       "      <td>https://goldin.co/item/1963-parkhurst-55-gordi...</td>\n",
       "      <td>$198</td>\n",
       "      <td>Fri</td>\n",
       "      <td>3/3/2023</td>\n",
       "      <td>4:15</td>\n",
       "      <td>AM</td>\n",
       "      <td>No Data</td>\n",
       "      <td>4</td>\n",
       "      <td>198</td>\n",
       "    </tr>\n",
       "    <tr>\n",
       "      <th>24236</th>\n",
       "      <td>1993-94 Pinnacle Nifty Fifty #10 Brett Hull – ...</td>\n",
       "      <td>2</td>\n",
       "      <td>https://goldin.co/item/1993-pinnacle-nifty-fif...</td>\n",
       "      <td>$8</td>\n",
       "      <td>Fri</td>\n",
       "      <td>3/17/2023</td>\n",
       "      <td>3:15</td>\n",
       "      <td>AM</td>\n",
       "      <td>No Data</td>\n",
       "      <td>4</td>\n",
       "      <td>8</td>\n",
       "    </tr>\n",
       "    <tr>\n",
       "      <th>24237</th>\n",
       "      <td>1993-94 Pinnacle Nifty Fifty #15 Jeremy Roenic...</td>\n",
       "      <td>2</td>\n",
       "      <td>https://goldin.co/item/1993-pinnacle-nifty-fif...</td>\n",
       "      <td>$8</td>\n",
       "      <td>Fri</td>\n",
       "      <td>3/17/2023</td>\n",
       "      <td>3:15</td>\n",
       "      <td>AM</td>\n",
       "      <td>No Data</td>\n",
       "      <td>4</td>\n",
       "      <td>8</td>\n",
       "    </tr>\n",
       "    <tr>\n",
       "      <th>24238</th>\n",
       "      <td>1996-97 Upper Deck Collector's Choice MVP #UD1...</td>\n",
       "      <td>5</td>\n",
       "      <td>https://goldin.co/item/1996-collector-s-choice...</td>\n",
       "      <td>$16</td>\n",
       "      <td>Fri</td>\n",
       "      <td>3/10/2023</td>\n",
       "      <td>4:26</td>\n",
       "      <td>AM</td>\n",
       "      <td>No Data</td>\n",
       "      <td>4</td>\n",
       "      <td>16</td>\n",
       "    </tr>\n",
       "    <tr>\n",
       "      <th>24239</th>\n",
       "      <td>1979-80 O-Pee-Chee #18 Wayne Gretzky Rookie Ca...</td>\n",
       "      <td>10</td>\n",
       "      <td>https://goldin.co/item/1979-80-o-pee-chee-18-w...</td>\n",
       "      <td>$114,000</td>\n",
       "      <td>Thu</td>\n",
       "      <td>5/18/2023</td>\n",
       "      <td>4:44</td>\n",
       "      <td>AM</td>\n",
       "      <td>Graded MINT 9 by PSA (31546256). Hall of Famer...</td>\n",
       "      <td>4</td>\n",
       "      <td>114000</td>\n",
       "    </tr>\n",
       "  </tbody>\n",
       "</table>\n",
       "<p>24240 rows × 11 columns</p>\n",
       "</div>"
      ],
      "text/plain": [
       "                                                   title  bids  \\\n",
       "0      2000 Playoff Contenders Championship Ticket Au...    10   \n",
       "1      1976 Topps #148 Walter Payton Rookie Card – PS...    23   \n",
       "2      2021 Panini National Treasures Rookie Patch Au...    32   \n",
       "3      2000 Playoff Contenders Championship Ticket Au...    23   \n",
       "4      1933 Sport Kings #6 Jim Thorpe, Football - PSA...    18   \n",
       "...                                                  ...   ...   \n",
       "24235       1963 Parkhurst #55 Gordie Howe - PSA VG-EX 4    17   \n",
       "24236  1993-94 Pinnacle Nifty Fifty #10 Brett Hull – ...     2   \n",
       "24237  1993-94 Pinnacle Nifty Fifty #15 Jeremy Roenic...     2   \n",
       "24238  1996-97 Upper Deck Collector's Choice MVP #UD1...     5   \n",
       "24239  1979-80 O-Pee-Chee #18 Wayne Gretzky Rookie Ca...    10   \n",
       "\n",
       "                                                    link      price weekday  \\\n",
       "0      https://goldin.co/item/2000-playoff-contender-...  $114,000      Thu   \n",
       "1      https://goldin.co/item/1976-topps-148-walter-p...   $61,200      Thu   \n",
       "2      https://goldin.co/item/2021-panini-national-tr...  $264,000      Thu   \n",
       "3      https://goldin.co/item/2000-playoff-contenders...  $570,000      Thu   \n",
       "4      https://goldin.co/item/1933-sport-kings-footba...   $43,200      Thu   \n",
       "...                                                  ...        ...     ...   \n",
       "24235  https://goldin.co/item/1963-parkhurst-55-gordi...      $198      Fri   \n",
       "24236  https://goldin.co/item/1993-pinnacle-nifty-fif...        $8      Fri   \n",
       "24237  https://goldin.co/item/1993-pinnacle-nifty-fif...        $8      Fri   \n",
       "24238  https://goldin.co/item/1996-collector-s-choice...       $16      Fri   \n",
       "24239  https://goldin.co/item/1979-80-o-pee-chee-18-w...  $114,000      Thu   \n",
       "\n",
       "            date  hour ampm  \\\n",
       "0      3/30/2023  4:30   AM   \n",
       "1      3/16/2023  3:30   AM   \n",
       "2      3/30/2023  5:44   AM   \n",
       "3       3/2/2023  5:03   AM   \n",
       "4      5/18/2023  5:49   AM   \n",
       "...          ...   ...  ...   \n",
       "24235   3/3/2023  4:15   AM   \n",
       "24236  3/17/2023  3:15   AM   \n",
       "24237  3/17/2023  3:15   AM   \n",
       "24238  3/10/2023  4:26   AM   \n",
       "24239  5/18/2023  4:44   AM   \n",
       "\n",
       "                                             Description  cat  price_cln  \n",
       "0      Encapsulated and assessed \"Authentic\" by PSA, ...    1     114000  \n",
       "1      Graded GEM MT 10 by PSA (63938572). Hall of Fa...    1      61200  \n",
       "2      Graded NM-MT 8 by BGS, with Autograph Grade 10...    1     264000  \n",
       "3      Graded NM-MT 8 by PSA (19778427). Rookie Card....    1     570000  \n",
       "4      Graded NM-MT 8 by PSA (09031682). Hall of Fame...    1      43200  \n",
       "...                                                  ...  ...        ...  \n",
       "24235                                            No Data    4        198  \n",
       "24236                                            No Data    4          8  \n",
       "24237                                            No Data    4          8  \n",
       "24238                                            No Data    4         16  \n",
       "24239  Graded MINT 9 by PSA (31546256). Hall of Famer...    4     114000  \n",
       "\n",
       "[24240 rows x 11 columns]"
      ]
     },
     "execution_count": 2124,
     "metadata": {},
     "output_type": "execute_result"
    }
   ],
   "source": [
    "for i in range(0,len(full_data)):\n",
    "    full_data.at[i, 'price_cln'] = re.match(\"\\$(.*)\", full_data.at[i,'price']).groups(0)[0]\n",
    "    full_data.at[i, 'price_cln'] = re.sub(\"\\,\", \"\", full_data.at[i, 'price_cln'])\n",
    "full_data['price_cln'] = full_data['price_cln'].astype(int)\n",
    "full_data"
   ]
  },
  {
   "cell_type": "markdown",
   "id": "fe0d3e21",
   "metadata": {},
   "source": [
    "<H3>Let's show how many cards we have for each sport by Pie chart</H3>"
   ]
  },
  {
   "cell_type": "code",
   "execution_count": 2125,
   "id": "a172f604",
   "metadata": {},
   "outputs": [
    {
     "data": {
      "text/plain": [
       "<AxesSubplot:ylabel='cat'>"
      ]
     },
     "execution_count": 2125,
     "metadata": {},
     "output_type": "execute_result"
    },
    {
     "data": {
      "image/png": "[encoded data removed]",
      "text/plain": [
       "<Figure size 640x480 with 1 Axes>"
      ]
     },
     "metadata": {},
     "output_type": "display_data"
    }
   ],
   "source": [
    "labels = [\"Football\",\"Baseball\",\"Basketball\",\"Hockey\"]\n",
    "full_data['cat'].value_counts().plot(kind='pie', autopct='%1.1f%%', labels=labels)\n"
   ]
  },
  {
   "cell_type": "markdown",
   "id": "b96cb188",
   "metadata": {},
   "source": [
    "<h3>Let's try to find the 100 most common words in title  by CountVectorizer</h3>"
   ]
  },
  {
   "cell_type": "code",
   "execution_count": 2257,
   "id": "c8b11c81",
   "metadata": {},
   "outputs": [
    {
     "data": {
      "text/plain": [
       "array(['04', '06', '08', '10', '100', '13', '15', '18', '19', '1996',\n",
       "       '1997', '1998', '1999', '20', '2000', '2003', '2007', '2017',\n",
       "       '2018', '2019', '2020', '2021', '2022', '21', '22', '23', '25',\n",
       "       '50', '97', '98', '99', 'Authentic', 'Autograph', 'Autographs',\n",
       "       'BGS', 'Beckett', 'Black', 'Blue', 'Bowman', 'Bryant', 'Card',\n",
       "       'Chrome', 'Collection', 'DNA', 'Deck', 'Donruss', 'Draft', 'Dual',\n",
       "       'EX', 'Encased', 'Exquisite', 'Finest', 'Fleer', 'GEM', 'Game',\n",
       "       'Gold', 'Green', 'James', 'Jersey', 'Joe', 'Jordan', 'Jr', 'Kobe',\n",
       "       'LeBron', 'MINT', 'MT', 'Metal', 'Michael', 'Mosaic', 'NM',\n",
       "       'National', 'Optic', 'Orange', 'PSA', 'Panini', 'Patch', 'Picks',\n",
       "       'Pop', 'Premium', 'Prizm', 'Prospect', 'Prospects', 'Purple',\n",
       "       'Red', 'Refractor', 'Relic', 'Rookie', 'SGC', 'SP', 'Select',\n",
       "       'Signatures', 'Signed', 'Silver', 'SkyBox', 'The', 'Tom', 'Topps',\n",
       "       'Treasures', 'Upper', 'VG'], dtype=object)"
      ]
     },
     "execution_count": 2257,
     "metadata": {},
     "output_type": "execute_result"
    }
   ],
   "source": [
    "vectorizer = CountVectorizer(stop_words ='english', lowercase=False, max_features=100)\n",
    "vectorizer.fit_transform(full_data['title'].values.astype('U'))\n",
    "vectorizer.get_feature_names_out()"
   ]
  },
  {
   "cell_type": "markdown",
   "id": "ff49c850",
   "metadata": {},
   "source": [
    "<h3>Let's see what are categories for those values</h3>\n",
    "<ul>\n",
    "    <li><i>04,06,100,21, ...</i>- those numbers have some meanings like number of shirt or amount of cards in the market,years,  etc...</li>\n",
    "    <li><i>2003, 2020, 2021, 2022, ...</i> -  years of cards' series</li>\n",
    "    <li><i>Authentic, Autograph, Autographs, Signatures, Signed</i> - those are special addings for cards</li>\n",
    "    <li><i>BGS, PSA, Beckett, GEM, DNA, SGC, ...</i> - sports and trading card grading companies</li>\n",
    "    <li><i>Black, Blue, Chrome, Gold, ...</i> - colors' meaning is rank of rarity, Gold sometimes can be rariest</li>\n",
    "    <li><i>Optic, Mosaic, Prizm, Flawless, ...</i>,... - type of pack, Flawless is the most expensive </li>\n",
    "    <li><i>James, Kobe, Jordan, Bryant, ...</i> - names of players</li>\n",
    "    <li><i>MINT, MT, NM, EX, VG...</i>- cards condition</li>\n",
    "    <li><i>Panini, Topps, SkyBox ...</i> - trading cards manufacturing companies</li>\n",
    "\n",
    "</ul>"
   ]
  },
  {
   "cell_type": "markdown",
   "id": "e6cee50b",
   "metadata": {},
   "source": [
    "<h1>Let's begin with names of players, I searched on Google who are 15 best players of all time for each sport and check what are average price of card with those names by using of Regular Expressions on title</h1>"
   ]
  },
  {
   "cell_type": "markdown",
   "id": "92b15a0f",
   "metadata": {},
   "source": [
    "<h2>Basketball</h2>"
   ]
  },
  {
   "cell_type": "code",
   "execution_count": 2127,
   "id": "dbf34503",
   "metadata": {},
   "outputs": [],
   "source": [
    "patterns_basketball_player = ['Jordan', 'LeBron', 'Kareem', 'Magic', 'Bryant', \"Shaquille\", 'Bird', 'Chamberlain', 'Russell', 'Curry','Duncan','Durant','Robertson','Olajuwon','Garnett']\n",
    "\n",
    "for pattern in patterns_basketball_player:\n",
    "    full_data[pattern+'_basketball'] = 0\n",
    "    for i in range(len(full_data)):\n",
    "        try:\n",
    "            if(re.match(\".*\"+pattern+\".*\", full_data.at[i,'title'])):\n",
    "                full_data.at[i,pattern+'_basketball']=1\n",
    "        except:\n",
    "                full_data.at[i,pattern+'_basketball']=0\n"
   ]
  },
  {
   "cell_type": "code",
   "execution_count": 2128,
   "id": "04e20553",
   "metadata": {},
   "outputs": [
    {
     "name": "stderr",
     "output_type": "stream",
     "text": [
      "C:\\Users\\motti\\anaconda3\\lib\\site-packages\\IPython\\core\\displayhook.py:275: UserWarning: Output cache limit (currently 1000 entries) hit.\n",
      "Flushing oldest 200 entries.\n",
      "  warn('Output cache limit (currently {sz} entries) hit.\\n'\n"
     ]
    },
    {
     "data": {
      "text/html": [
       "<div>\n",
       "<style scoped>\n",
       "    .dataframe tbody tr th:only-of-type {\n",
       "        vertical-align: middle;\n",
       "    }\n",
       "\n",
       "    .dataframe tbody tr th {\n",
       "        vertical-align: top;\n",
       "    }\n",
       "\n",
       "    .dataframe thead th {\n",
       "        text-align: right;\n",
       "    }\n",
       "</style>\n",
       "<table border=\"1\" class=\"dataframe\">\n",
       "  <thead>\n",
       "    <tr style=\"text-align: right;\">\n",
       "      <th></th>\n",
       "      <th>player</th>\n",
       "      <th>average</th>\n",
       "    </tr>\n",
       "  </thead>\n",
       "  <tbody>\n",
       "    <tr>\n",
       "      <th>0</th>\n",
       "      <td>Garnett</td>\n",
       "      <td>403.8863636363636</td>\n",
       "    </tr>\n",
       "    <tr>\n",
       "      <th>1</th>\n",
       "      <td>Olajuwon</td>\n",
       "      <td>1021.0</td>\n",
       "    </tr>\n",
       "    <tr>\n",
       "      <th>2</th>\n",
       "      <td>Robertson</td>\n",
       "      <td>145.77777777777777</td>\n",
       "    </tr>\n",
       "    <tr>\n",
       "      <th>3</th>\n",
       "      <td>Durant</td>\n",
       "      <td>1703.2721518987341</td>\n",
       "    </tr>\n",
       "    <tr>\n",
       "      <th>4</th>\n",
       "      <td>Duncan</td>\n",
       "      <td>571.1261261261261</td>\n",
       "    </tr>\n",
       "    <tr>\n",
       "      <th>5</th>\n",
       "      <td>Curry</td>\n",
       "      <td>4054.8342541436464</td>\n",
       "    </tr>\n",
       "    <tr>\n",
       "      <th>6</th>\n",
       "      <td>Russell</td>\n",
       "      <td>3245.063829787234</td>\n",
       "    </tr>\n",
       "    <tr>\n",
       "      <th>7</th>\n",
       "      <td>Chamberlain</td>\n",
       "      <td>1316.7027027027027</td>\n",
       "    </tr>\n",
       "    <tr>\n",
       "      <th>8</th>\n",
       "      <td>Bird</td>\n",
       "      <td>8125.219178082192</td>\n",
       "    </tr>\n",
       "    <tr>\n",
       "      <th>9</th>\n",
       "      <td>Shaquille</td>\n",
       "      <td>917.1016042780749</td>\n",
       "    </tr>\n",
       "    <tr>\n",
       "      <th>10</th>\n",
       "      <td>Bryant</td>\n",
       "      <td>2701.8878357030017</td>\n",
       "    </tr>\n",
       "    <tr>\n",
       "      <th>11</th>\n",
       "      <td>Magic</td>\n",
       "      <td>8018.070422535211</td>\n",
       "    </tr>\n",
       "    <tr>\n",
       "      <th>12</th>\n",
       "      <td>Kareem</td>\n",
       "      <td>1234.974358974359</td>\n",
       "    </tr>\n",
       "    <tr>\n",
       "      <th>13</th>\n",
       "      <td>LeBron</td>\n",
       "      <td>4896.570546737214</td>\n",
       "    </tr>\n",
       "    <tr>\n",
       "      <th>14</th>\n",
       "      <td>Jordan</td>\n",
       "      <td>3930.391434262948</td>\n",
       "    </tr>\n",
       "  </tbody>\n",
       "</table>\n",
       "</div>"
      ],
      "text/plain": [
       "         player             average\n",
       "0       Garnett   403.8863636363636\n",
       "1      Olajuwon              1021.0\n",
       "2     Robertson  145.77777777777777\n",
       "3        Durant  1703.2721518987341\n",
       "4        Duncan   571.1261261261261\n",
       "5         Curry  4054.8342541436464\n",
       "6       Russell   3245.063829787234\n",
       "7   Chamberlain  1316.7027027027027\n",
       "8          Bird   8125.219178082192\n",
       "9     Shaquille   917.1016042780749\n",
       "10       Bryant  2701.8878357030017\n",
       "11        Magic   8018.070422535211\n",
       "12       Kareem   1234.974358974359\n",
       "13       LeBron   4896.570546737214\n",
       "14       Jordan   3930.391434262948"
      ]
     },
     "execution_count": 2128,
     "metadata": {},
     "output_type": "execute_result"
    }
   ],
   "source": [
    "df_average_basketball_player = pd.DataFrame()\n",
    "for i in range(len(patterns)):\n",
    "    row = pd.DataFrame({'player':patterns_basketball_player[i], 'average':str(full_data[(full_data['cat']==3) & full_data[patterns_basketball_player[i]+'_basketball']==1].price_cln.mean())}, index=[0])\n",
    "    df_average_basketball_player = pd.concat([row,df_average_basketball_player.loc[:]]).reset_index(drop=True)\n",
    "df_average_basketball_player"
   ]
  },
  {
   "cell_type": "code",
   "execution_count": 2258,
   "id": "7fa39d39",
   "metadata": {},
   "outputs": [
    {
     "name": "stdout",
     "output_type": "stream",
     "text": [
      "<class 'numpy.float64'>\n"
     ]
    },
    {
     "data": {
      "text/plain": [
       "<BarContainer object of 15 artists>"
      ]
     },
     "execution_count": 2258,
     "metadata": {},
     "output_type": "execute_result"
    },
    {
     "data": {
      "image/png": "[encoded data removed]",
      "text/plain": [
       "<Figure size 640x480 with 1 Axes>"
      ]
     },
     "metadata": {},
     "output_type": "display_data"
    }
   ],
   "source": [
    "x = np.array(df_average_basketball[df_average_basketball['average']!='nan'].player)\n",
    "y = np.array(df_average_basketball[df_average_basketball['average']!='nan'].average)\n",
    "y = y.astype(np.float64)\n",
    "print(type(y[0]))\n",
    "\n",
    "plt.barh(x, y)"
   ]
  },
  {
   "cell_type": "markdown",
   "id": "9ddff304",
   "metadata": {},
   "source": [
    "<h2>Baseball</h2>"
   ]
  },
  {
   "cell_type": "code",
   "execution_count": 2130,
   "id": "0e15bd7f",
   "metadata": {},
   "outputs": [],
   "source": [
    "patterns_baseball_player = ['Babe', 'Mays', 'Bonds', 'Williams', 'Aaron', 'Johnson', 'Cobb', 'Musial', 'Honus', 'Clemens','Gehrig','Mantle','Musial','Martinez','Griffey']\n",
    "\n",
    "for pattern in patterns_baseball_player:\n",
    "    full_data[pattern+'_baseball'] = 0\n",
    "    for i in range(len(full_data)):\n",
    "        try:\n",
    "            if(re.match(\".*\"+pattern+\".*\", full_data.at[i,'title'])):\n",
    "                full_data.at[i,pattern+'_baseball']=1\n",
    "        except:\n",
    "                full_data.at[i,pattern+'_baseball']=0"
   ]
  },
  {
   "cell_type": "code",
   "execution_count": 2131,
   "id": "0c5535a9",
   "metadata": {},
   "outputs": [
    {
     "data": {
      "text/html": [
       "<div>\n",
       "<style scoped>\n",
       "    .dataframe tbody tr th:only-of-type {\n",
       "        vertical-align: middle;\n",
       "    }\n",
       "\n",
       "    .dataframe tbody tr th {\n",
       "        vertical-align: top;\n",
       "    }\n",
       "\n",
       "    .dataframe thead th {\n",
       "        text-align: right;\n",
       "    }\n",
       "</style>\n",
       "<table border=\"1\" class=\"dataframe\">\n",
       "  <thead>\n",
       "    <tr style=\"text-align: right;\">\n",
       "      <th></th>\n",
       "      <th>player</th>\n",
       "      <th>average</th>\n",
       "    </tr>\n",
       "  </thead>\n",
       "  <tbody>\n",
       "    <tr>\n",
       "      <th>0</th>\n",
       "      <td>Griffey</td>\n",
       "      <td>935.5945017182131</td>\n",
       "    </tr>\n",
       "    <tr>\n",
       "      <th>1</th>\n",
       "      <td>Martinez</td>\n",
       "      <td>344.8709677419355</td>\n",
       "    </tr>\n",
       "    <tr>\n",
       "      <th>2</th>\n",
       "      <td>Musial</td>\n",
       "      <td>398.8</td>\n",
       "    </tr>\n",
       "    <tr>\n",
       "      <th>3</th>\n",
       "      <td>Mantle</td>\n",
       "      <td>3595.1079545454545</td>\n",
       "    </tr>\n",
       "    <tr>\n",
       "      <th>4</th>\n",
       "      <td>Gehrig</td>\n",
       "      <td>12130.375</td>\n",
       "    </tr>\n",
       "    <tr>\n",
       "      <th>5</th>\n",
       "      <td>Clemens</td>\n",
       "      <td>136.45</td>\n",
       "    </tr>\n",
       "    <tr>\n",
       "      <th>6</th>\n",
       "      <td>Honus</td>\n",
       "      <td>6967.4</td>\n",
       "    </tr>\n",
       "    <tr>\n",
       "      <th>7</th>\n",
       "      <td>Musial</td>\n",
       "      <td>398.8</td>\n",
       "    </tr>\n",
       "    <tr>\n",
       "      <th>8</th>\n",
       "      <td>Cobb</td>\n",
       "      <td>6265.375</td>\n",
       "    </tr>\n",
       "    <tr>\n",
       "      <th>9</th>\n",
       "      <td>Johnson</td>\n",
       "      <td>396.1875</td>\n",
       "    </tr>\n",
       "    <tr>\n",
       "      <th>10</th>\n",
       "      <td>Aaron</td>\n",
       "      <td>738.4269230769231</td>\n",
       "    </tr>\n",
       "    <tr>\n",
       "      <th>11</th>\n",
       "      <td>Williams</td>\n",
       "      <td>1426.5283018867924</td>\n",
       "    </tr>\n",
       "    <tr>\n",
       "      <th>12</th>\n",
       "      <td>Bonds</td>\n",
       "      <td>147.65573770491804</td>\n",
       "    </tr>\n",
       "    <tr>\n",
       "      <th>13</th>\n",
       "      <td>Mays</td>\n",
       "      <td>6483.541666666667</td>\n",
       "    </tr>\n",
       "    <tr>\n",
       "      <th>14</th>\n",
       "      <td>Babe</td>\n",
       "      <td>6632.15306122449</td>\n",
       "    </tr>\n",
       "  </tbody>\n",
       "</table>\n",
       "</div>"
      ],
      "text/plain": [
       "      player             average\n",
       "0    Griffey   935.5945017182131\n",
       "1   Martinez   344.8709677419355\n",
       "2     Musial               398.8\n",
       "3     Mantle  3595.1079545454545\n",
       "4     Gehrig           12130.375\n",
       "5    Clemens              136.45\n",
       "6      Honus              6967.4\n",
       "7     Musial               398.8\n",
       "8       Cobb            6265.375\n",
       "9    Johnson            396.1875\n",
       "10     Aaron   738.4269230769231\n",
       "11  Williams  1426.5283018867924\n",
       "12     Bonds  147.65573770491804\n",
       "13      Mays   6483.541666666667\n",
       "14      Babe    6632.15306122449"
      ]
     },
     "execution_count": 2131,
     "metadata": {},
     "output_type": "execute_result"
    }
   ],
   "source": [
    "df_average_baseball_player = pd.DataFrame()\n",
    "for i in range(len(patterns_baseball_player)):\n",
    "    row = pd.DataFrame({'player':patterns_baseball_player[i], 'average':str(full_data[(full_data['cat']==2) & full_data[patterns_baseball_player[i]+'_baseball']==1].price_cln.mean())}, index=[0])\n",
    "    df_average_baseball_player = pd.concat([row,df_average_baseball_player.loc[:]]).reset_index(drop=True)\n",
    "df_average_baseball_player"
   ]
  },
  {
   "cell_type": "code",
   "execution_count": 2132,
   "id": "b476f602",
   "metadata": {},
   "outputs": [
    {
     "name": "stderr",
     "output_type": "stream",
     "text": [
      "C:\\Users\\motti\\AppData\\Local\\Temp\\ipykernel_19792\\69172509.py:3: DeprecationWarning: `np.float` is a deprecated alias for the builtin `float`. To silence this warning, use `float` by itself. Doing this will not modify any behavior and is safe. If you specifically wanted the numpy scalar type, use `np.float64` here.\n",
      "Deprecated in NumPy 1.20; for more details and guidance: https://numpy.org/devdocs/release/1.20.0-notes.html#deprecations\n",
      "  y = y.astype(np.float)\n"
     ]
    },
    {
     "data": {
      "text/plain": [
       "<BarContainer object of 15 artists>"
      ]
     },
     "execution_count": 2132,
     "metadata": {},
     "output_type": "execute_result"
    },
    {
     "data": {
      "image/png": "[encoded data removed]",
      "text/plain": [
       "<Figure size 640x480 with 1 Axes>"
      ]
     },
     "metadata": {},
     "output_type": "display_data"
    }
   ],
   "source": [
    "x = np.array(df_average_baseball_player[df_average_baseball_player['average']!='nan'].player)\n",
    "y = np.array(df_average_baseball_player[df_average_baseball_player['average']!='nan'].average)\n",
    "y = y.astype(np.float)\n",
    "plt.barh(x, y)"
   ]
  },
  {
   "cell_type": "markdown",
   "id": "a4a98c5c",
   "metadata": {},
   "source": [
    "<h2>Football</h2>"
   ]
  },
  {
   "cell_type": "code",
   "execution_count": 2133,
   "id": "65c91ec7",
   "metadata": {},
   "outputs": [],
   "source": [
    "patterns_football_player = ['Brady', 'Rice', 'Taylor', 'Brown', 'Montana', 'Payton', 'Reggie', 'Unitas', 'Manning', 'Emmitt','Green','Lott','Elway','Butkus','Lewis']\n",
    "\n",
    "for pattern in patterns_football_player:\n",
    "    full_data[pattern+'_football'] = 0\n",
    "    for i in range(len(full_data)):\n",
    "        try:\n",
    "            if(re.match(\".*\"+pattern+\".*\", full_data.at[i,'title'])):\n",
    "                full_data.at[i,pattern+'_football']=1\n",
    "        except:\n",
    "                full_data.at[i,pattern+'_football']=0"
   ]
  },
  {
   "cell_type": "code",
   "execution_count": 2134,
   "id": "74277e67",
   "metadata": {},
   "outputs": [
    {
     "data": {
      "text/html": [
       "<div>\n",
       "<style scoped>\n",
       "    .dataframe tbody tr th:only-of-type {\n",
       "        vertical-align: middle;\n",
       "    }\n",
       "\n",
       "    .dataframe tbody tr th {\n",
       "        vertical-align: top;\n",
       "    }\n",
       "\n",
       "    .dataframe thead th {\n",
       "        text-align: right;\n",
       "    }\n",
       "</style>\n",
       "<table border=\"1\" class=\"dataframe\">\n",
       "  <thead>\n",
       "    <tr style=\"text-align: right;\">\n",
       "      <th></th>\n",
       "      <th>player</th>\n",
       "      <th>average</th>\n",
       "    </tr>\n",
       "  </thead>\n",
       "  <tbody>\n",
       "    <tr>\n",
       "      <th>0</th>\n",
       "      <td>Lewis</td>\n",
       "      <td>157.92857142857142</td>\n",
       "    </tr>\n",
       "    <tr>\n",
       "      <th>1</th>\n",
       "      <td>Butkus</td>\n",
       "      <td>660.2727272727273</td>\n",
       "    </tr>\n",
       "    <tr>\n",
       "      <th>2</th>\n",
       "      <td>Elway</td>\n",
       "      <td>37.816326530612244</td>\n",
       "    </tr>\n",
       "    <tr>\n",
       "      <th>3</th>\n",
       "      <td>Lott</td>\n",
       "      <td>188.28571428571428</td>\n",
       "    </tr>\n",
       "    <tr>\n",
       "      <th>4</th>\n",
       "      <td>Green</td>\n",
       "      <td>1345.2645502645503</td>\n",
       "    </tr>\n",
       "    <tr>\n",
       "      <th>5</th>\n",
       "      <td>Emmitt</td>\n",
       "      <td>120.9090909090909</td>\n",
       "    </tr>\n",
       "    <tr>\n",
       "      <th>6</th>\n",
       "      <td>Manning</td>\n",
       "      <td>327.58469945355193</td>\n",
       "    </tr>\n",
       "    <tr>\n",
       "      <th>7</th>\n",
       "      <td>Unitas</td>\n",
       "      <td>181.23076923076923</td>\n",
       "    </tr>\n",
       "    <tr>\n",
       "      <th>8</th>\n",
       "      <td>Reggie</td>\n",
       "      <td>174.5</td>\n",
       "    </tr>\n",
       "    <tr>\n",
       "      <th>9</th>\n",
       "      <td>Payton</td>\n",
       "      <td>1567.8035714285713</td>\n",
       "    </tr>\n",
       "    <tr>\n",
       "      <th>10</th>\n",
       "      <td>Montana</td>\n",
       "      <td>964.7339449541284</td>\n",
       "    </tr>\n",
       "    <tr>\n",
       "      <th>11</th>\n",
       "      <td>Brown</td>\n",
       "      <td>867.3559322033898</td>\n",
       "    </tr>\n",
       "    <tr>\n",
       "      <th>12</th>\n",
       "      <td>Taylor</td>\n",
       "      <td>331.719298245614</td>\n",
       "    </tr>\n",
       "    <tr>\n",
       "      <th>13</th>\n",
       "      <td>Rice</td>\n",
       "      <td>277.45512820512823</td>\n",
       "    </tr>\n",
       "    <tr>\n",
       "      <th>14</th>\n",
       "      <td>Brady</td>\n",
       "      <td>5114.0779569892475</td>\n",
       "    </tr>\n",
       "  </tbody>\n",
       "</table>\n",
       "</div>"
      ],
      "text/plain": [
       "     player             average\n",
       "0     Lewis  157.92857142857142\n",
       "1    Butkus   660.2727272727273\n",
       "2     Elway  37.816326530612244\n",
       "3      Lott  188.28571428571428\n",
       "4     Green  1345.2645502645503\n",
       "5    Emmitt   120.9090909090909\n",
       "6   Manning  327.58469945355193\n",
       "7    Unitas  181.23076923076923\n",
       "8    Reggie               174.5\n",
       "9    Payton  1567.8035714285713\n",
       "10  Montana   964.7339449541284\n",
       "11    Brown   867.3559322033898\n",
       "12   Taylor    331.719298245614\n",
       "13     Rice  277.45512820512823\n",
       "14    Brady  5114.0779569892475"
      ]
     },
     "execution_count": 2134,
     "metadata": {},
     "output_type": "execute_result"
    }
   ],
   "source": [
    "df_average_football_player = pd.DataFrame()\n",
    "for i in range(len(patterns_football_player)):\n",
    "    row = pd.DataFrame({'player':patterns_football_player[i], 'average':str(full_data[(full_data['cat']==1) & full_data[patterns_football_player[i]+'_football']==1].price_cln.mean())}, index=[0])\n",
    "    df_average_football_player = pd.concat([row,df_average_football_player.loc[:]]).reset_index(drop=True)\n",
    "df_average_football_player"
   ]
  },
  {
   "cell_type": "code",
   "execution_count": 2135,
   "id": "6b5ab057",
   "metadata": {},
   "outputs": [
    {
     "name": "stderr",
     "output_type": "stream",
     "text": [
      "C:\\Users\\motti\\AppData\\Local\\Temp\\ipykernel_19792\\3372097524.py:3: DeprecationWarning: `np.float` is a deprecated alias for the builtin `float`. To silence this warning, use `float` by itself. Doing this will not modify any behavior and is safe. If you specifically wanted the numpy scalar type, use `np.float64` here.\n",
      "Deprecated in NumPy 1.20; for more details and guidance: https://numpy.org/devdocs/release/1.20.0-notes.html#deprecations\n",
      "  y = y.astype(np.float)\n"
     ]
    },
    {
     "data": {
      "text/plain": [
       "<BarContainer object of 75 artists>"
      ]
     },
     "execution_count": 2135,
     "metadata": {},
     "output_type": "execute_result"
    },
    {
     "data": {
      "image/png": "[encoded data removed]",
      "text/plain": [
       "<Figure size 640x480 with 1 Axes>"
      ]
     },
     "metadata": {},
     "output_type": "display_data"
    }
   ],
   "source": [
    "x = np.array(df_average_football[df_average_football['average']!='nan'].player)\n",
    "y = np.array(df_average_football[df_average_football['average']!='nan'].average)\n",
    "y = y.astype(np.float)\n",
    "plt.barh(x, y)"
   ]
  },
  {
   "cell_type": "markdown",
   "id": "b7b978a4",
   "metadata": {},
   "source": [
    "<h2>Hockey</h2>"
   ]
  },
  {
   "cell_type": "code",
   "execution_count": 2136,
   "id": "a8f896ae",
   "metadata": {},
   "outputs": [],
   "source": [
    "patterns_hockey_player = ['Chelios', 'Modano', 'Leetch', 'Tkachuk', 'Broten', 'Brimsek', 'LaFontaine', 'Howe', 'Housley', 'Roenick','Barrasso','Mullen','Richter','Weight','Suter']\n",
    "\n",
    "for pattern in patterns_hockey_player:\n",
    "    full_data[pattern+'_hockey'] = 0\n",
    "    for i in range(len(full_data)):\n",
    "        try:\n",
    "            if(re.match(\".*\"+pattern+\".*\", full_data.at[i,'title'])):\n",
    "                full_data.at[i,pattern+'_hockey']=1\n",
    "        except:\n",
    "                full_data.at[i,pattern+'_hockey']=0"
   ]
  },
  {
   "cell_type": "code",
   "execution_count": 2137,
   "id": "b972bec5",
   "metadata": {},
   "outputs": [
    {
     "data": {
      "text/html": [
       "<div>\n",
       "<style scoped>\n",
       "    .dataframe tbody tr th:only-of-type {\n",
       "        vertical-align: middle;\n",
       "    }\n",
       "\n",
       "    .dataframe tbody tr th {\n",
       "        vertical-align: top;\n",
       "    }\n",
       "\n",
       "    .dataframe thead th {\n",
       "        text-align: right;\n",
       "    }\n",
       "</style>\n",
       "<table border=\"1\" class=\"dataframe\">\n",
       "  <thead>\n",
       "    <tr style=\"text-align: right;\">\n",
       "      <th></th>\n",
       "      <th>player</th>\n",
       "      <th>average</th>\n",
       "    </tr>\n",
       "  </thead>\n",
       "  <tbody>\n",
       "    <tr>\n",
       "      <th>0</th>\n",
       "      <td>Suter</td>\n",
       "      <td>28.0</td>\n",
       "    </tr>\n",
       "    <tr>\n",
       "      <th>1</th>\n",
       "      <td>Weight</td>\n",
       "      <td>nan</td>\n",
       "    </tr>\n",
       "    <tr>\n",
       "      <th>2</th>\n",
       "      <td>Richter</td>\n",
       "      <td>28.0</td>\n",
       "    </tr>\n",
       "    <tr>\n",
       "      <th>3</th>\n",
       "      <td>Mullen</td>\n",
       "      <td>nan</td>\n",
       "    </tr>\n",
       "    <tr>\n",
       "      <th>4</th>\n",
       "      <td>Barrasso</td>\n",
       "      <td>nan</td>\n",
       "    </tr>\n",
       "    <tr>\n",
       "      <th>5</th>\n",
       "      <td>Roenick</td>\n",
       "      <td>12.6</td>\n",
       "    </tr>\n",
       "    <tr>\n",
       "      <th>6</th>\n",
       "      <td>Housley</td>\n",
       "      <td>11.0</td>\n",
       "    </tr>\n",
       "    <tr>\n",
       "      <th>7</th>\n",
       "      <td>Howe</td>\n",
       "      <td>3044.866666666667</td>\n",
       "    </tr>\n",
       "    <tr>\n",
       "      <th>8</th>\n",
       "      <td>LaFontaine</td>\n",
       "      <td>47.0</td>\n",
       "    </tr>\n",
       "    <tr>\n",
       "      <th>9</th>\n",
       "      <td>Brimsek</td>\n",
       "      <td>nan</td>\n",
       "    </tr>\n",
       "    <tr>\n",
       "      <th>10</th>\n",
       "      <td>Broten</td>\n",
       "      <td>nan</td>\n",
       "    </tr>\n",
       "    <tr>\n",
       "      <th>11</th>\n",
       "      <td>Tkachuk</td>\n",
       "      <td>92.5</td>\n",
       "    </tr>\n",
       "    <tr>\n",
       "      <th>12</th>\n",
       "      <td>Leetch</td>\n",
       "      <td>nan</td>\n",
       "    </tr>\n",
       "    <tr>\n",
       "      <th>13</th>\n",
       "      <td>Modano</td>\n",
       "      <td>9.666666666666666</td>\n",
       "    </tr>\n",
       "    <tr>\n",
       "      <th>14</th>\n",
       "      <td>Chelios</td>\n",
       "      <td>15.5</td>\n",
       "    </tr>\n",
       "  </tbody>\n",
       "</table>\n",
       "</div>"
      ],
      "text/plain": [
       "        player            average\n",
       "0        Suter               28.0\n",
       "1       Weight                nan\n",
       "2      Richter               28.0\n",
       "3       Mullen                nan\n",
       "4     Barrasso                nan\n",
       "5      Roenick               12.6\n",
       "6      Housley               11.0\n",
       "7         Howe  3044.866666666667\n",
       "8   LaFontaine               47.0\n",
       "9      Brimsek                nan\n",
       "10      Broten                nan\n",
       "11     Tkachuk               92.5\n",
       "12      Leetch                nan\n",
       "13      Modano  9.666666666666666\n",
       "14     Chelios               15.5"
      ]
     },
     "execution_count": 2137,
     "metadata": {},
     "output_type": "execute_result"
    }
   ],
   "source": [
    "df_average_hockey_player = pd.DataFrame()\n",
    "for i in range(len(patterns_hockey_player)):\n",
    "    row = pd.DataFrame({'player':patterns_hockey_player[i], 'average':str(full_data[(full_data['cat']==4) & full_data[patterns_hockey_player[i]+'_hockey']==1].price_cln.mean())}, index=[0])\n",
    "    df_average_hockey_player = pd.concat([row,df_average_hockey_player.loc[:]]).reset_index(drop=True)\n",
    "df_average_hockey_player"
   ]
  },
  {
   "cell_type": "code",
   "execution_count": 2138,
   "id": "c6ddbffc",
   "metadata": {},
   "outputs": [
    {
     "name": "stderr",
     "output_type": "stream",
     "text": [
      "C:\\Users\\motti\\AppData\\Local\\Temp\\ipykernel_19792\\2064614568.py:3: DeprecationWarning: `np.float` is a deprecated alias for the builtin `float`. To silence this warning, use `float` by itself. Doing this will not modify any behavior and is safe. If you specifically wanted the numpy scalar type, use `np.float64` here.\n",
      "Deprecated in NumPy 1.20; for more details and guidance: https://numpy.org/devdocs/release/1.20.0-notes.html#deprecations\n",
      "  y = y.astype(np.float)\n"
     ]
    },
    {
     "data": {
      "text/plain": [
       "<BarContainer object of 9 artists>"
      ]
     },
     "execution_count": 2138,
     "metadata": {},
     "output_type": "execute_result"
    },
    {
     "data": {
      "image/png": "[encoded data removed]",
      "text/plain": [
       "<Figure size 640x480 with 1 Axes>"
      ]
     },
     "metadata": {},
     "output_type": "display_data"
    }
   ],
   "source": [
    "x = np.array(df_average_hockey_player[df_average_hockey_player['average']!='nan'].player)\n",
    "y = np.array(df_average_hockey_player[df_average_hockey_player['average']!='nan'].average)\n",
    "y = y.astype(np.float)\n",
    "plt.barh(x, y)"
   ]
  },
  {
   "cell_type": "markdown",
   "id": "b1107611",
   "metadata": {},
   "source": [
    "<h1>What about special addings for cards, if a card with autograph is more expensive? Let's see it, we compare those cards to mean of cards</h1>"
   ]
  },
  {
   "cell_type": "markdown",
   "id": "08400f9e",
   "metadata": {},
   "source": [
    "<h2>Football</h2>"
   ]
  },
  {
   "cell_type": "code",
   "execution_count": 2139,
   "id": "278c9483",
   "metadata": {},
   "outputs": [
    {
     "name": "stdout",
     "output_type": "stream",
     "text": [
      "Mean of price:  1257.1060388209921\n"
     ]
    }
   ],
   "source": [
    "print(\"Mean of price: \", full_data[full_data['cat']==1].price_cln.mean())"
   ]
  },
  {
   "cell_type": "code",
   "execution_count": 2140,
   "id": "17f0ea52",
   "metadata": {},
   "outputs": [],
   "source": [
    "patterns_football_addings = ['Authentic', 'Autograph', 'Autographs', 'Signatures', 'Signed']\n",
    "\n",
    "\n",
    "for pattern in patterns_football_addings:\n",
    "    full_data[pattern+\"_football\"]=0\n",
    "    for i in range(len(full_data)):\n",
    "        if(full_data.at[i,'cat']==1):\n",
    "            try:\n",
    "                if(re.match(\".*\"+pattern+\".*\", full_data.at[i,'title'])):\n",
    "                    full_data.at[i,pattern+\"_football\"]=1\n",
    "            except:\n",
    "                    full_data.at[i,pattern+\"_football\"]=0\n",
    "\n",
    "\n"
   ]
  },
  {
   "cell_type": "code",
   "execution_count": 2141,
   "id": "7c0cd48c",
   "metadata": {},
   "outputs": [
    {
     "data": {
      "text/html": [
       "<div>\n",
       "<style scoped>\n",
       "    .dataframe tbody tr th:only-of-type {\n",
       "        vertical-align: middle;\n",
       "    }\n",
       "\n",
       "    .dataframe tbody tr th {\n",
       "        vertical-align: top;\n",
       "    }\n",
       "\n",
       "    .dataframe thead th {\n",
       "        text-align: right;\n",
       "    }\n",
       "</style>\n",
       "<table border=\"1\" class=\"dataframe\">\n",
       "  <thead>\n",
       "    <tr style=\"text-align: right;\">\n",
       "      <th></th>\n",
       "      <th>adding</th>\n",
       "      <th>average</th>\n",
       "    </tr>\n",
       "  </thead>\n",
       "  <tbody>\n",
       "    <tr>\n",
       "      <th>0</th>\n",
       "      <td>Signed</td>\n",
       "      <td>3821.740356083086</td>\n",
       "    </tr>\n",
       "    <tr>\n",
       "      <th>1</th>\n",
       "      <td>Signatures</td>\n",
       "      <td>1389.1385542168675</td>\n",
       "    </tr>\n",
       "    <tr>\n",
       "      <th>2</th>\n",
       "      <td>Autographs</td>\n",
       "      <td>2654.4511278195487</td>\n",
       "    </tr>\n",
       "    <tr>\n",
       "      <th>3</th>\n",
       "      <td>Autograph</td>\n",
       "      <td>5025.740697674419</td>\n",
       "    </tr>\n",
       "    <tr>\n",
       "      <th>4</th>\n",
       "      <td>Authentic</td>\n",
       "      <td>4212.290322580645</td>\n",
       "    </tr>\n",
       "  </tbody>\n",
       "</table>\n",
       "</div>"
      ],
      "text/plain": [
       "       adding             average\n",
       "0      Signed   3821.740356083086\n",
       "1  Signatures  1389.1385542168675\n",
       "2  Autographs  2654.4511278195487\n",
       "3   Autograph   5025.740697674419\n",
       "4   Authentic   4212.290322580645"
      ]
     },
     "execution_count": 2141,
     "metadata": {},
     "output_type": "execute_result"
    }
   ],
   "source": [
    "df_average_football_addings = pd.DataFrame()\n",
    "for i in range(len(patterns_football_addings)):\n",
    "    row = pd.DataFrame({'adding':patterns_football_addings[i], 'average':str(full_data[(full_data['cat']==1) & full_data[patterns_football_addings[i]+'_football']==1].price_cln.mean())}, index=[0])\n",
    "    df_average_football_addings = pd.concat([row,df_average_football_addings.loc[:]]).reset_index(drop=True)\n",
    "df_average_football_addings"
   ]
  },
  {
   "cell_type": "code",
   "execution_count": 2142,
   "id": "2bf3e821",
   "metadata": {},
   "outputs": [
    {
     "name": "stderr",
     "output_type": "stream",
     "text": [
      "C:\\Users\\motti\\AppData\\Local\\Temp\\ipykernel_19792\\1057307590.py:3: DeprecationWarning: `np.float` is a deprecated alias for the builtin `float`. To silence this warning, use `float` by itself. Doing this will not modify any behavior and is safe. If you specifically wanted the numpy scalar type, use `np.float64` here.\n",
      "Deprecated in NumPy 1.20; for more details and guidance: https://numpy.org/devdocs/release/1.20.0-notes.html#deprecations\n",
      "  y = y.astype(np.float)\n"
     ]
    },
    {
     "data": {
      "text/plain": [
       "<BarContainer object of 5 artists>"
      ]
     },
     "execution_count": 2142,
     "metadata": {},
     "output_type": "execute_result"
    },
    {
     "data": {
      "image/png": "[encoded data removed]",
      "text/plain": [
       "<Figure size 640x480 with 1 Axes>"
      ]
     },
     "metadata": {},
     "output_type": "display_data"
    }
   ],
   "source": [
    "x = np.array(df_average_football_addings[df_average_football_addings['average']!='nan'].adding)\n",
    "y = np.array(df_average_football_addings[df_average_football_addings['average']!='nan'].average)\n",
    "y = y.astype(np.float)\n",
    "plt.axvline(full_data[full_data['cat']==1].price_cln.mean(), color='r', linestyle='--')#mean\n",
    "plt.barh(x, y)"
   ]
  },
  {
   "cell_type": "markdown",
   "id": "239de00d",
   "metadata": {},
   "source": [
    "<h2>Basketball</h2>"
   ]
  },
  {
   "cell_type": "code",
   "execution_count": 2143,
   "id": "105fde62",
   "metadata": {},
   "outputs": [
    {
     "name": "stdout",
     "output_type": "stream",
     "text": [
      "Mean of price:  907.9609198141309\n"
     ]
    }
   ],
   "source": [
    "print(\"Mean of price: \", full_data[full_data['cat']==2].price_cln.mean())"
   ]
  },
  {
   "cell_type": "code",
   "execution_count": 2144,
   "id": "97b8bf12",
   "metadata": {},
   "outputs": [],
   "source": [
    "patterns_basketball_addings = ['Authentic', 'Autograph', 'Autographs', 'Signatures', 'Signed']\n",
    "\n",
    "\n",
    "for pattern in patterns_basketball_addings:\n",
    "    full_data[pattern+\"_basketball\"] = 0\n",
    "    for i in range(len(full_data)):\n",
    "        if(full_data.at[i,'cat']==2):\n",
    "            try:\n",
    "                if(re.match(\".*\"+pattern+\".*\", full_data.at[i,'title'])):\n",
    "                    full_data.at[i,pattern+\"_basketball\"]=1\n",
    "            except:\n",
    "                    full_data.at[i,pattern+\"_basketball\"]=0\n",
    "\n",
    "\n"
   ]
  },
  {
   "cell_type": "code",
   "execution_count": 2145,
   "id": "0504dd1e",
   "metadata": {},
   "outputs": [
    {
     "data": {
      "text/html": [
       "<div>\n",
       "<style scoped>\n",
       "    .dataframe tbody tr th:only-of-type {\n",
       "        vertical-align: middle;\n",
       "    }\n",
       "\n",
       "    .dataframe tbody tr th {\n",
       "        vertical-align: top;\n",
       "    }\n",
       "\n",
       "    .dataframe thead th {\n",
       "        text-align: right;\n",
       "    }\n",
       "</style>\n",
       "<table border=\"1\" class=\"dataframe\">\n",
       "  <thead>\n",
       "    <tr style=\"text-align: right;\">\n",
       "      <th></th>\n",
       "      <th>adding</th>\n",
       "      <th>average</th>\n",
       "    </tr>\n",
       "  </thead>\n",
       "  <tbody>\n",
       "    <tr>\n",
       "      <th>0</th>\n",
       "      <td>Signed</td>\n",
       "      <td>1640.5757715338555</td>\n",
       "    </tr>\n",
       "    <tr>\n",
       "      <th>1</th>\n",
       "      <td>Signatures</td>\n",
       "      <td>566.8539325842696</td>\n",
       "    </tr>\n",
       "    <tr>\n",
       "      <th>2</th>\n",
       "      <td>Autographs</td>\n",
       "      <td>2646.028806584362</td>\n",
       "    </tr>\n",
       "    <tr>\n",
       "      <th>3</th>\n",
       "      <td>Autograph</td>\n",
       "      <td>1642.9655537890833</td>\n",
       "    </tr>\n",
       "    <tr>\n",
       "      <th>4</th>\n",
       "      <td>Authentic</td>\n",
       "      <td>2510.5</td>\n",
       "    </tr>\n",
       "  </tbody>\n",
       "</table>\n",
       "</div>"
      ],
      "text/plain": [
       "       adding             average\n",
       "0      Signed  1640.5757715338555\n",
       "1  Signatures   566.8539325842696\n",
       "2  Autographs   2646.028806584362\n",
       "3   Autograph  1642.9655537890833\n",
       "4   Authentic              2510.5"
      ]
     },
     "execution_count": 2145,
     "metadata": {},
     "output_type": "execute_result"
    }
   ],
   "source": [
    "df_average_basketball_addings = pd.DataFrame()\n",
    "for i in range(len(patterns_basketball_addings)):\n",
    "    row = pd.DataFrame({'adding':patterns_basketball_addings[i], 'average':str(full_data[(full_data['cat']==2) & full_data[patterns_basketball_addings[i]+'_basketball']==1].price_cln.mean())}, index=[0])\n",
    "    df_average_basketball_addings = pd.concat([row,df_average_basketball_addings.loc[:]]).reset_index(drop=True)\n",
    "df_average_basketball_addings"
   ]
  },
  {
   "cell_type": "code",
   "execution_count": 2146,
   "id": "7599889b",
   "metadata": {},
   "outputs": [
    {
     "name": "stderr",
     "output_type": "stream",
     "text": [
      "C:\\Users\\motti\\AppData\\Local\\Temp\\ipykernel_19792\\3217517396.py:3: DeprecationWarning: `np.float` is a deprecated alias for the builtin `float`. To silence this warning, use `float` by itself. Doing this will not modify any behavior and is safe. If you specifically wanted the numpy scalar type, use `np.float64` here.\n",
      "Deprecated in NumPy 1.20; for more details and guidance: https://numpy.org/devdocs/release/1.20.0-notes.html#deprecations\n",
      "  y = y.astype(np.float)\n"
     ]
    },
    {
     "data": {
      "text/plain": [
       "<BarContainer object of 5 artists>"
      ]
     },
     "execution_count": 2146,
     "metadata": {},
     "output_type": "execute_result"
    },
    {
     "data": {
      "image/png": "[encoded data removed]",
      "text/plain": [
       "<Figure size 640x480 with 1 Axes>"
      ]
     },
     "metadata": {},
     "output_type": "display_data"
    }
   ],
   "source": [
    "x = np.array(df_average_basketball_addings[df_average_basketball_addings['average']!='nan'].adding)\n",
    "y = np.array(df_average_basketball_addings[df_average_basketball_addings['average']!='nan'].average)\n",
    "y = y.astype(np.float)\n",
    "plt.axvline(full_data[full_data['cat']==2].price_cln.mean(), color='r', linestyle='--')#mean\n",
    "plt.barh(x, y)"
   ]
  },
  {
   "cell_type": "markdown",
   "id": "a2f51484",
   "metadata": {},
   "source": [
    "<h2>Baseball</h2>"
   ]
  },
  {
   "cell_type": "code",
   "execution_count": 2147,
   "id": "4c2c5695",
   "metadata": {},
   "outputs": [
    {
     "name": "stdout",
     "output_type": "stream",
     "text": [
      "Mean of price:  1879.219146608315\n"
     ]
    }
   ],
   "source": [
    "print(\"Mean of price: \", full_data[full_data['cat']==3].price_cln.mean())"
   ]
  },
  {
   "cell_type": "code",
   "execution_count": 2148,
   "id": "ef93901d",
   "metadata": {},
   "outputs": [],
   "source": [
    "patterns_baseball_addings = ['Authentic', 'Autograph', 'Autographs', 'Signatures', 'Signed']\n",
    "\n",
    "\n",
    "for pattern in patterns_baseball_addings:\n",
    "    full_data[pattern+\"_baseball\"] = 0\n",
    "    for i in range(len(full_data)):\n",
    "        if(full_data.at[i,'cat']==3):\n",
    "            try:\n",
    "                if(re.match(\".*\"+pattern+\".*\", full_data.at[i,'title'])):\n",
    "                    full_data.at[i,pattern+\"_baseball\"]=1\n",
    "            except:\n",
    "                    full_data.at[i,pattern+\"_baseball\"]=0\n",
    "\n",
    "\n"
   ]
  },
  {
   "cell_type": "code",
   "execution_count": 2149,
   "id": "45d1ef77",
   "metadata": {},
   "outputs": [
    {
     "data": {
      "text/html": [
       "<div>\n",
       "<style scoped>\n",
       "    .dataframe tbody tr th:only-of-type {\n",
       "        vertical-align: middle;\n",
       "    }\n",
       "\n",
       "    .dataframe tbody tr th {\n",
       "        vertical-align: top;\n",
       "    }\n",
       "\n",
       "    .dataframe thead th {\n",
       "        text-align: right;\n",
       "    }\n",
       "</style>\n",
       "<table border=\"1\" class=\"dataframe\">\n",
       "  <thead>\n",
       "    <tr style=\"text-align: right;\">\n",
       "      <th></th>\n",
       "      <th>adding</th>\n",
       "      <th>average</th>\n",
       "    </tr>\n",
       "  </thead>\n",
       "  <tbody>\n",
       "    <tr>\n",
       "      <th>0</th>\n",
       "      <td>Signed</td>\n",
       "      <td>4856.742547425474</td>\n",
       "    </tr>\n",
       "    <tr>\n",
       "      <th>1</th>\n",
       "      <td>Signatures</td>\n",
       "      <td>2376.5134408602153</td>\n",
       "    </tr>\n",
       "    <tr>\n",
       "      <th>2</th>\n",
       "      <td>Autographs</td>\n",
       "      <td>5598.072948328268</td>\n",
       "    </tr>\n",
       "    <tr>\n",
       "      <th>3</th>\n",
       "      <td>Autograph</td>\n",
       "      <td>5424.236940298508</td>\n",
       "    </tr>\n",
       "    <tr>\n",
       "      <th>4</th>\n",
       "      <td>Authentic</td>\n",
       "      <td>5807.78515625</td>\n",
       "    </tr>\n",
       "  </tbody>\n",
       "</table>\n",
       "</div>"
      ],
      "text/plain": [
       "       adding             average\n",
       "0      Signed   4856.742547425474\n",
       "1  Signatures  2376.5134408602153\n",
       "2  Autographs   5598.072948328268\n",
       "3   Autograph   5424.236940298508\n",
       "4   Authentic       5807.78515625"
      ]
     },
     "execution_count": 2149,
     "metadata": {},
     "output_type": "execute_result"
    }
   ],
   "source": [
    "df_average_baseball_addings = pd.DataFrame()\n",
    "for i in range(len(patterns_baseball_addings)):\n",
    "    row = pd.DataFrame({'adding':patterns_baseball_addings[i], 'average':str(full_data[(full_data['cat']==3) & full_data[patterns_baseball_addings[i]+'_baseball']==1].price_cln.mean())}, index=[0])\n",
    "    df_average_baseball_addings = pd.concat([row,df_average_baseball_addings.loc[:]]).reset_index(drop=True)\n",
    "df_average_baseball_addings"
   ]
  },
  {
   "cell_type": "code",
   "execution_count": 2150,
   "id": "c8d77332",
   "metadata": {},
   "outputs": [
    {
     "name": "stderr",
     "output_type": "stream",
     "text": [
      "C:\\Users\\motti\\AppData\\Local\\Temp\\ipykernel_19792\\869530235.py:3: DeprecationWarning: `np.float` is a deprecated alias for the builtin `float`. To silence this warning, use `float` by itself. Doing this will not modify any behavior and is safe. If you specifically wanted the numpy scalar type, use `np.float64` here.\n",
      "Deprecated in NumPy 1.20; for more details and guidance: https://numpy.org/devdocs/release/1.20.0-notes.html#deprecations\n",
      "  y = y.astype(np.float)\n"
     ]
    },
    {
     "data": {
      "text/plain": [
       "<BarContainer object of 5 artists>"
      ]
     },
     "execution_count": 2150,
     "metadata": {},
     "output_type": "execute_result"
    },
    {
     "data": {
      "image/png": "[encoded data removed]",
      "text/plain": [
       "<Figure size 640x480 with 1 Axes>"
      ]
     },
     "metadata": {},
     "output_type": "display_data"
    }
   ],
   "source": [
    "x = np.array(df_average_baseball_addings[df_average_baseball_addings['average']!='nan'].adding)\n",
    "y = np.array(df_average_baseball_addings[df_average_baseball_addings['average']!='nan'].average)\n",
    "y = y.astype(np.float)\n",
    "plt.axvline(full_data[full_data['cat']==3].price_cln.mean(), color='r', linestyle='--')#mean\n",
    "plt.barh(x, y)"
   ]
  },
  {
   "cell_type": "markdown",
   "id": "c314a10d",
   "metadata": {},
   "source": [
    "<h2>Hockey</h2>"
   ]
  },
  {
   "cell_type": "code",
   "execution_count": 2151,
   "id": "f50a54f0",
   "metadata": {},
   "outputs": [
    {
     "name": "stdout",
     "output_type": "stream",
     "text": [
      "Mean of price:  933.6666666666666\n"
     ]
    }
   ],
   "source": [
    "print(\"Mean of price: \", full_data[full_data['cat']==4].price_cln.mean())"
   ]
  },
  {
   "cell_type": "code",
   "execution_count": 2152,
   "id": "25441ca4",
   "metadata": {},
   "outputs": [],
   "source": [
    "patterns_hockey_addings = ['Authentic', 'Autograph', 'Autographs', 'Signatures', 'Signed']\n",
    "\n",
    "\n",
    "for pattern in patterns_hockey_addings:\n",
    "    full_data[pattern+\"_hockey\"] = 0\n",
    "    for i in range(len(full_data)):\n",
    "        if(full_data.at[i,'cat']==4):\n",
    "            try:\n",
    "                if(re.match(\".*\"+pattern+\".*\", full_data.at[i,'title'])):\n",
    "                    full_data.at[i,pattern+\"_hockey\"]=1\n",
    "            except:\n",
    "                    full_data.at[i,pattern+\"_hockey\"]=0\n",
    "\n",
    "\n"
   ]
  },
  {
   "cell_type": "code",
   "execution_count": 2153,
   "id": "08ec0b78",
   "metadata": {},
   "outputs": [
    {
     "data": {
      "text/html": [
       "<div>\n",
       "<style scoped>\n",
       "    .dataframe tbody tr th:only-of-type {\n",
       "        vertical-align: middle;\n",
       "    }\n",
       "\n",
       "    .dataframe tbody tr th {\n",
       "        vertical-align: top;\n",
       "    }\n",
       "\n",
       "    .dataframe thead th {\n",
       "        text-align: right;\n",
       "    }\n",
       "</style>\n",
       "<table border=\"1\" class=\"dataframe\">\n",
       "  <thead>\n",
       "    <tr style=\"text-align: right;\">\n",
       "      <th></th>\n",
       "      <th>adding</th>\n",
       "      <th>average</th>\n",
       "    </tr>\n",
       "  </thead>\n",
       "  <tbody>\n",
       "    <tr>\n",
       "      <th>0</th>\n",
       "      <td>Signed</td>\n",
       "      <td>1969.3774319066147</td>\n",
       "    </tr>\n",
       "    <tr>\n",
       "      <th>1</th>\n",
       "      <td>Signatures</td>\n",
       "      <td>162.52272727272728</td>\n",
       "    </tr>\n",
       "    <tr>\n",
       "      <th>2</th>\n",
       "      <td>Autographs</td>\n",
       "      <td>3246.2258064516127</td>\n",
       "    </tr>\n",
       "    <tr>\n",
       "      <th>3</th>\n",
       "      <td>Autograph</td>\n",
       "      <td>2779.9241379310347</td>\n",
       "    </tr>\n",
       "    <tr>\n",
       "      <th>4</th>\n",
       "      <td>Authentic</td>\n",
       "      <td>725.6315789473684</td>\n",
       "    </tr>\n",
       "  </tbody>\n",
       "</table>\n",
       "</div>"
      ],
      "text/plain": [
       "       adding             average\n",
       "0      Signed  1969.3774319066147\n",
       "1  Signatures  162.52272727272728\n",
       "2  Autographs  3246.2258064516127\n",
       "3   Autograph  2779.9241379310347\n",
       "4   Authentic   725.6315789473684"
      ]
     },
     "execution_count": 2153,
     "metadata": {},
     "output_type": "execute_result"
    }
   ],
   "source": [
    "df_average_hockey_addings = pd.DataFrame()\n",
    "for i in range(len(patterns_hockey_addings)):\n",
    "    row = pd.DataFrame({'adding':patterns_hockey_addings[i], 'average':str(full_data[(full_data['cat']==4) & full_data[patterns_hockey_addings[i]+'_hockey']==1].price_cln.mean())}, index=[0])\n",
    "    df_average_hockey_addings = pd.concat([row,df_average_hockey_addings.loc[:]]).reset_index(drop=True)\n",
    "df_average_hockey_addings"
   ]
  },
  {
   "cell_type": "code",
   "execution_count": 2154,
   "id": "a0c4cf1e",
   "metadata": {},
   "outputs": [
    {
     "name": "stderr",
     "output_type": "stream",
     "text": [
      "C:\\Users\\motti\\AppData\\Local\\Temp\\ipykernel_19792\\4202114211.py:3: DeprecationWarning: `np.float` is a deprecated alias for the builtin `float`. To silence this warning, use `float` by itself. Doing this will not modify any behavior and is safe. If you specifically wanted the numpy scalar type, use `np.float64` here.\n",
      "Deprecated in NumPy 1.20; for more details and guidance: https://numpy.org/devdocs/release/1.20.0-notes.html#deprecations\n",
      "  y = y.astype(np.float)\n"
     ]
    },
    {
     "data": {
      "text/plain": [
       "<BarContainer object of 5 artists>"
      ]
     },
     "execution_count": 2154,
     "metadata": {},
     "output_type": "execute_result"
    },
    {
     "data": {
      "image/png": "[encoded data removed]",
      "text/plain": [
       "<Figure size 640x480 with 1 Axes>"
      ]
     },
     "metadata": {},
     "output_type": "display_data"
    }
   ],
   "source": [
    "x = np.array(df_average_hockey_addings[df_average_hockey_addings['average']!='nan'].adding)\n",
    "y = np.array(df_average_hockey_addings[df_average_hockey_addings['average']!='nan'].average)\n",
    "y = y.astype(np.float)\n",
    "plt.axvline(full_data[full_data['cat']==4].price_cln.mean(), color='r', linestyle='--')#mean\n",
    "plt.barh(x, y)"
   ]
  },
  {
   "cell_type": "markdown",
   "id": "c62cf158",
   "metadata": {},
   "source": [
    "<h1>What about sports and trading card <u>grading companies</u>? There are companies that are more valuable as grading companies</h1>"
   ]
  },
  {
   "cell_type": "markdown",
   "id": "c1160aa8",
   "metadata": {},
   "source": [
    "<h2>Football</h2>"
   ]
  },
  {
   "cell_type": "code",
   "execution_count": 2155,
   "id": "c39f20a7",
   "metadata": {},
   "outputs": [],
   "source": [
    "patterns_football_grading = ['BGS', 'PSA', 'Beckett', 'GEM', 'DNA', 'SGC', 'CSG', 'HGA', 'ISA', 'GMA']\n",
    "\n",
    "\n",
    "for pattern in patterns_football_grading:\n",
    "    full_data[pattern+\"_football\"] = 0\n",
    "    for i in range(len(full_data)):\n",
    "        if(full_data.at[i,'cat']==1):\n",
    "            try:\n",
    "                if(re.match(\".*\"+pattern+\".*\", full_data.at[i,'title'])):\n",
    "                    full_data.at[i,pattern+\"_football\"]=1\n",
    "            except:\n",
    "                    full_data.at[i,pattern+\"_football\"]=0\n",
    "\n",
    "\n"
   ]
  },
  {
   "cell_type": "code",
   "execution_count": 2156,
   "id": "0e50b8b3",
   "metadata": {},
   "outputs": [
    {
     "data": {
      "text/html": [
       "<div>\n",
       "<style scoped>\n",
       "    .dataframe tbody tr th:only-of-type {\n",
       "        vertical-align: middle;\n",
       "    }\n",
       "\n",
       "    .dataframe tbody tr th {\n",
       "        vertical-align: top;\n",
       "    }\n",
       "\n",
       "    .dataframe thead th {\n",
       "        text-align: right;\n",
       "    }\n",
       "</style>\n",
       "<table border=\"1\" class=\"dataframe\">\n",
       "  <thead>\n",
       "    <tr style=\"text-align: right;\">\n",
       "      <th></th>\n",
       "      <th>grading</th>\n",
       "      <th>average</th>\n",
       "    </tr>\n",
       "  </thead>\n",
       "  <tbody>\n",
       "    <tr>\n",
       "      <th>0</th>\n",
       "      <td>GMA</td>\n",
       "      <td>nan</td>\n",
       "    </tr>\n",
       "    <tr>\n",
       "      <th>1</th>\n",
       "      <td>ISA</td>\n",
       "      <td>nan</td>\n",
       "    </tr>\n",
       "    <tr>\n",
       "      <th>2</th>\n",
       "      <td>HGA</td>\n",
       "      <td>nan</td>\n",
       "    </tr>\n",
       "    <tr>\n",
       "      <th>3</th>\n",
       "      <td>CSG</td>\n",
       "      <td>413.1666666666667</td>\n",
       "    </tr>\n",
       "    <tr>\n",
       "      <th>4</th>\n",
       "      <td>SGC</td>\n",
       "      <td>2959.7511737089203</td>\n",
       "    </tr>\n",
       "    <tr>\n",
       "      <th>5</th>\n",
       "      <td>DNA</td>\n",
       "      <td>2511.577011494253</td>\n",
       "    </tr>\n",
       "    <tr>\n",
       "      <th>6</th>\n",
       "      <td>GEM</td>\n",
       "      <td>1591.9957420924575</td>\n",
       "    </tr>\n",
       "    <tr>\n",
       "      <th>7</th>\n",
       "      <td>Beckett</td>\n",
       "      <td>8582.210970464135</td>\n",
       "    </tr>\n",
       "    <tr>\n",
       "      <th>8</th>\n",
       "      <td>PSA</td>\n",
       "      <td>763.7338523038081</td>\n",
       "    </tr>\n",
       "    <tr>\n",
       "      <th>9</th>\n",
       "      <td>BGS</td>\n",
       "      <td>5622.379310344828</td>\n",
       "    </tr>\n",
       "  </tbody>\n",
       "</table>\n",
       "</div>"
      ],
      "text/plain": [
       "   grading             average\n",
       "0      GMA                 nan\n",
       "1      ISA                 nan\n",
       "2      HGA                 nan\n",
       "3      CSG   413.1666666666667\n",
       "4      SGC  2959.7511737089203\n",
       "5      DNA   2511.577011494253\n",
       "6      GEM  1591.9957420924575\n",
       "7  Beckett   8582.210970464135\n",
       "8      PSA   763.7338523038081\n",
       "9      BGS   5622.379310344828"
      ]
     },
     "execution_count": 2156,
     "metadata": {},
     "output_type": "execute_result"
    }
   ],
   "source": [
    "df_average_football_grading = pd.DataFrame()\n",
    "for i in range(len(patterns_football_grading)):\n",
    "    row = pd.DataFrame({'grading':patterns_football_grading[i], 'average':str(full_data[(full_data['cat']==1) & full_data[patterns_football_grading[i]+'_football']==1].price_cln.mean())}, index=[0])\n",
    "    df_average_football_grading = pd.concat([row,df_average_football_grading.loc[:]]).reset_index(drop=True)\n",
    "df_average_football_grading"
   ]
  },
  {
   "cell_type": "code",
   "execution_count": 2157,
   "id": "ab202c22",
   "metadata": {},
   "outputs": [
    {
     "name": "stderr",
     "output_type": "stream",
     "text": [
      "C:\\Users\\motti\\AppData\\Local\\Temp\\ipykernel_19792\\1547211785.py:3: DeprecationWarning: `np.float` is a deprecated alias for the builtin `float`. To silence this warning, use `float` by itself. Doing this will not modify any behavior and is safe. If you specifically wanted the numpy scalar type, use `np.float64` here.\n",
      "Deprecated in NumPy 1.20; for more details and guidance: https://numpy.org/devdocs/release/1.20.0-notes.html#deprecations\n",
      "  y = y.astype(np.float)\n"
     ]
    },
    {
     "data": {
      "text/plain": [
       "<BarContainer object of 7 artists>"
      ]
     },
     "execution_count": 2157,
     "metadata": {},
     "output_type": "execute_result"
    },
    {
     "data": {
      "image/png": "[encoded data removed]",
      "text/plain": [
       "<Figure size 640x480 with 1 Axes>"
      ]
     },
     "metadata": {},
     "output_type": "display_data"
    }
   ],
   "source": [
    "x = np.array(df_average_football_grading[df_average_football_grading['average']!='nan'].grading)\n",
    "y = np.array(df_average_football_grading[df_average_football_grading['average']!='nan'].average)\n",
    "y = y.astype(np.float)\n",
    "plt.barh(x, y)"
   ]
  },
  {
   "cell_type": "markdown",
   "id": "0159e639",
   "metadata": {},
   "source": [
    "<h2>Baseball</h2>"
   ]
  },
  {
   "cell_type": "code",
   "execution_count": 2158,
   "id": "2fb521cb",
   "metadata": {},
   "outputs": [],
   "source": [
    "patterns_baseball_grading = ['BGS', 'PSA', 'Beckett', 'GEM', 'DNA', 'SGC', 'CSG', 'HGA', 'ISA', 'GMA']\n",
    "\n",
    "\n",
    "for pattern in patterns_baseball_grading:\n",
    "    full_data[pattern+\"_baseball\"] = 0\n",
    "    for i in range(len(full_data)):\n",
    "        if(full_data.at[i,'cat']==2):\n",
    "            try:\n",
    "                if(re.match(\".*\"+pattern+\".*\", full_data.at[i,'title'])):\n",
    "                    full_data.at[i,pattern+\"_baseball\"]=1\n",
    "            except:\n",
    "                    full_data.at[i,pattern+\"_baseball\"]=0\n",
    "\n",
    "\n"
   ]
  },
  {
   "cell_type": "code",
   "execution_count": 2159,
   "id": "17f6ed88",
   "metadata": {},
   "outputs": [
    {
     "data": {
      "text/html": [
       "<div>\n",
       "<style scoped>\n",
       "    .dataframe tbody tr th:only-of-type {\n",
       "        vertical-align: middle;\n",
       "    }\n",
       "\n",
       "    .dataframe tbody tr th {\n",
       "        vertical-align: top;\n",
       "    }\n",
       "\n",
       "    .dataframe thead th {\n",
       "        text-align: right;\n",
       "    }\n",
       "</style>\n",
       "<table border=\"1\" class=\"dataframe\">\n",
       "  <thead>\n",
       "    <tr style=\"text-align: right;\">\n",
       "      <th></th>\n",
       "      <th>grading</th>\n",
       "      <th>average</th>\n",
       "    </tr>\n",
       "  </thead>\n",
       "  <tbody>\n",
       "    <tr>\n",
       "      <th>0</th>\n",
       "      <td>GMA</td>\n",
       "      <td>nan</td>\n",
       "    </tr>\n",
       "    <tr>\n",
       "      <th>1</th>\n",
       "      <td>ISA</td>\n",
       "      <td>nan</td>\n",
       "    </tr>\n",
       "    <tr>\n",
       "      <th>2</th>\n",
       "      <td>HGA</td>\n",
       "      <td>nan</td>\n",
       "    </tr>\n",
       "    <tr>\n",
       "      <th>3</th>\n",
       "      <td>CSG</td>\n",
       "      <td>32.5</td>\n",
       "    </tr>\n",
       "    <tr>\n",
       "      <th>4</th>\n",
       "      <td>SGC</td>\n",
       "      <td>1954.5303514376997</td>\n",
       "    </tr>\n",
       "    <tr>\n",
       "      <th>5</th>\n",
       "      <td>DNA</td>\n",
       "      <td>1894.5291666666667</td>\n",
       "    </tr>\n",
       "    <tr>\n",
       "      <th>6</th>\n",
       "      <td>GEM</td>\n",
       "      <td>1023.8390367553866</td>\n",
       "    </tr>\n",
       "    <tr>\n",
       "      <th>7</th>\n",
       "      <td>Beckett</td>\n",
       "      <td>4388.946700507614</td>\n",
       "    </tr>\n",
       "    <tr>\n",
       "      <th>8</th>\n",
       "      <td>PSA</td>\n",
       "      <td>638.4844499246473</td>\n",
       "    </tr>\n",
       "    <tr>\n",
       "      <th>9</th>\n",
       "      <td>BGS</td>\n",
       "      <td>3419.017571884984</td>\n",
       "    </tr>\n",
       "  </tbody>\n",
       "</table>\n",
       "</div>"
      ],
      "text/plain": [
       "   grading             average\n",
       "0      GMA                 nan\n",
       "1      ISA                 nan\n",
       "2      HGA                 nan\n",
       "3      CSG                32.5\n",
       "4      SGC  1954.5303514376997\n",
       "5      DNA  1894.5291666666667\n",
       "6      GEM  1023.8390367553866\n",
       "7  Beckett   4388.946700507614\n",
       "8      PSA   638.4844499246473\n",
       "9      BGS   3419.017571884984"
      ]
     },
     "execution_count": 2159,
     "metadata": {},
     "output_type": "execute_result"
    }
   ],
   "source": [
    "df_average_baseball_grading = pd.DataFrame()\n",
    "for i in range(len(patterns_baseball_grading)):\n",
    "    row = pd.DataFrame({'grading':patterns_baseball_grading[i], 'average':str(full_data[(full_data['cat']==2) & full_data[patterns_baseball_grading[i]+'_baseball']==1].price_cln.mean())}, index=[0])\n",
    "    df_average_baseball_grading = pd.concat([row,df_average_baseball_grading.loc[:]]).reset_index(drop=True)\n",
    "df_average_baseball_grading"
   ]
  },
  {
   "cell_type": "code",
   "execution_count": 2160,
   "id": "98c16470",
   "metadata": {},
   "outputs": [
    {
     "name": "stderr",
     "output_type": "stream",
     "text": [
      "C:\\Users\\motti\\AppData\\Local\\Temp\\ipykernel_19792\\558153303.py:3: DeprecationWarning: `np.float` is a deprecated alias for the builtin `float`. To silence this warning, use `float` by itself. Doing this will not modify any behavior and is safe. If you specifically wanted the numpy scalar type, use `np.float64` here.\n",
      "Deprecated in NumPy 1.20; for more details and guidance: https://numpy.org/devdocs/release/1.20.0-notes.html#deprecations\n",
      "  y = y.astype(np.float)\n"
     ]
    },
    {
     "data": {
      "text/plain": [
       "<BarContainer object of 7 artists>"
      ]
     },
     "execution_count": 2160,
     "metadata": {},
     "output_type": "execute_result"
    },
    {
     "data": {
      "image/png": "[encoded data removed]",
      "text/plain": [
       "<Figure size 640x480 with 1 Axes>"
      ]
     },
     "metadata": {},
     "output_type": "display_data"
    }
   ],
   "source": [
    "x = np.array(df_average_baseball_grading[df_average_baseball_grading['average']!='nan'].grading)\n",
    "y = np.array(df_average_baseball_grading[df_average_baseball_grading['average']!='nan'].average)\n",
    "y = y.astype(np.float)\n",
    "plt.barh(x, y)"
   ]
  },
  {
   "cell_type": "markdown",
   "id": "07ecaa86",
   "metadata": {},
   "source": [
    "<h2>Basketball</h2>"
   ]
  },
  {
   "cell_type": "code",
   "execution_count": 2161,
   "id": "ed3fe02f",
   "metadata": {},
   "outputs": [],
   "source": [
    "patterns_basketball_grading = ['BGS', 'PSA', 'Beckett', 'GEM', 'DNA', 'SGC', 'CSG', 'HGA', 'ISA', 'GMA']\n",
    "\n",
    "\n",
    "for pattern in patterns_basketball_grading:\n",
    "    full_data[pattern+\"_basketball\"] = 0\n",
    "    for i in range(len(full_data)):\n",
    "        if(full_data.at[i,'cat']==3):\n",
    "            try:\n",
    "                if(re.match(\".*\"+pattern+\".*\", full_data.at[i,'title'])):\n",
    "                    full_data.at[i,pattern+\"_basketball\"]=1\n",
    "            except:\n",
    "                    full_data.at[i,pattern+\"_basketball\"]=0\n",
    "\n",
    "\n"
   ]
  },
  {
   "cell_type": "code",
   "execution_count": 2162,
   "id": "9945a8f4",
   "metadata": {},
   "outputs": [
    {
     "data": {
      "text/html": [
       "<div>\n",
       "<style scoped>\n",
       "    .dataframe tbody tr th:only-of-type {\n",
       "        vertical-align: middle;\n",
       "    }\n",
       "\n",
       "    .dataframe tbody tr th {\n",
       "        vertical-align: top;\n",
       "    }\n",
       "\n",
       "    .dataframe thead th {\n",
       "        text-align: right;\n",
       "    }\n",
       "</style>\n",
       "<table border=\"1\" class=\"dataframe\">\n",
       "  <thead>\n",
       "    <tr style=\"text-align: right;\">\n",
       "      <th></th>\n",
       "      <th>grading</th>\n",
       "      <th>average</th>\n",
       "    </tr>\n",
       "  </thead>\n",
       "  <tbody>\n",
       "    <tr>\n",
       "      <th>0</th>\n",
       "      <td>GMA</td>\n",
       "      <td>nan</td>\n",
       "    </tr>\n",
       "    <tr>\n",
       "      <th>1</th>\n",
       "      <td>ISA</td>\n",
       "      <td>nan</td>\n",
       "    </tr>\n",
       "    <tr>\n",
       "      <th>2</th>\n",
       "      <td>HGA</td>\n",
       "      <td>nan</td>\n",
       "    </tr>\n",
       "    <tr>\n",
       "      <th>3</th>\n",
       "      <td>CSG</td>\n",
       "      <td>164.625</td>\n",
       "    </tr>\n",
       "    <tr>\n",
       "      <th>4</th>\n",
       "      <td>SGC</td>\n",
       "      <td>434.1236442516269</td>\n",
       "    </tr>\n",
       "    <tr>\n",
       "      <th>5</th>\n",
       "      <td>DNA</td>\n",
       "      <td>5049.778398510242</td>\n",
       "    </tr>\n",
       "    <tr>\n",
       "      <th>6</th>\n",
       "      <td>GEM</td>\n",
       "      <td>3072.564316860465</td>\n",
       "    </tr>\n",
       "    <tr>\n",
       "      <th>7</th>\n",
       "      <td>Beckett</td>\n",
       "      <td>11258.149253731342</td>\n",
       "    </tr>\n",
       "    <tr>\n",
       "      <th>8</th>\n",
       "      <td>PSA</td>\n",
       "      <td>1225.2597815567538</td>\n",
       "    </tr>\n",
       "    <tr>\n",
       "      <th>9</th>\n",
       "      <td>BGS</td>\n",
       "      <td>5947.874789915966</td>\n",
       "    </tr>\n",
       "  </tbody>\n",
       "</table>\n",
       "</div>"
      ],
      "text/plain": [
       "   grading             average\n",
       "0      GMA                 nan\n",
       "1      ISA                 nan\n",
       "2      HGA                 nan\n",
       "3      CSG             164.625\n",
       "4      SGC   434.1236442516269\n",
       "5      DNA   5049.778398510242\n",
       "6      GEM   3072.564316860465\n",
       "7  Beckett  11258.149253731342\n",
       "8      PSA  1225.2597815567538\n",
       "9      BGS   5947.874789915966"
      ]
     },
     "execution_count": 2162,
     "metadata": {},
     "output_type": "execute_result"
    }
   ],
   "source": [
    "df_average_basketball_grading = pd.DataFrame()\n",
    "for i in range(len(patterns_basketball_grading)):\n",
    "    row = pd.DataFrame({'grading':patterns_basketball_grading[i], 'average':str(full_data[(full_data['cat']==3) & full_data[patterns_basketball_grading[i]+'_basketball']==1].price_cln.mean())}, index=[0])\n",
    "    df_average_basketball_grading = pd.concat([row,df_average_basketball_grading.loc[:]]).reset_index(drop=True)\n",
    "df_average_basketball_grading"
   ]
  },
  {
   "cell_type": "code",
   "execution_count": 2163,
   "id": "1e470b54",
   "metadata": {},
   "outputs": [
    {
     "name": "stderr",
     "output_type": "stream",
     "text": [
      "C:\\Users\\motti\\AppData\\Local\\Temp\\ipykernel_19792\\1329030733.py:3: DeprecationWarning: `np.float` is a deprecated alias for the builtin `float`. To silence this warning, use `float` by itself. Doing this will not modify any behavior and is safe. If you specifically wanted the numpy scalar type, use `np.float64` here.\n",
      "Deprecated in NumPy 1.20; for more details and guidance: https://numpy.org/devdocs/release/1.20.0-notes.html#deprecations\n",
      "  y = y.astype(np.float)\n"
     ]
    },
    {
     "data": {
      "text/plain": [
       "<BarContainer object of 7 artists>"
      ]
     },
     "execution_count": 2163,
     "metadata": {},
     "output_type": "execute_result"
    },
    {
     "data": {
      "image/png": "[encoded data removed]",
      "text/plain": [
       "<Figure size 640x480 with 1 Axes>"
      ]
     },
     "metadata": {},
     "output_type": "display_data"
    }
   ],
   "source": [
    "x = np.array(df_average_basketball_grading[df_average_basketball_grading['average']!='nan'].grading)\n",
    "y = np.array(df_average_basketball_grading[df_average_basketball_grading['average']!='nan'].average)\n",
    "y = y.astype(np.float)\n",
    "plt.barh(x, y)"
   ]
  },
  {
   "cell_type": "markdown",
   "id": "88c7e47f",
   "metadata": {},
   "source": [
    "<h2>Hockey</h2>"
   ]
  },
  {
   "cell_type": "code",
   "execution_count": 2164,
   "id": "7cebb590",
   "metadata": {},
   "outputs": [],
   "source": [
    "patterns_hockey_grading = ['BGS', 'PSA', 'Beckett', 'GEM', 'DNA', 'SGC', 'CSG', 'HGA', 'ISA', 'GMA']\n",
    "\n",
    "\n",
    "for pattern in patterns_hockey_grading:\n",
    "    full_data[pattern+\"_hockey\"] = 0\n",
    "    for i in range(len(full_data)):\n",
    "        if(full_data.at[i,'cat']==4):\n",
    "            try:\n",
    "                if(re.match(\".*\"+pattern+\".*\", full_data.at[i,'title'])):\n",
    "                    full_data.at[i,pattern+\"_hockey\"]=1\n",
    "            except:\n",
    "                    full_data.at[i,pattern+\"_hockey\"]=0\n",
    "\n",
    "\n"
   ]
  },
  {
   "cell_type": "code",
   "execution_count": 2165,
   "id": "25aa6127",
   "metadata": {},
   "outputs": [
    {
     "data": {
      "text/html": [
       "<div>\n",
       "<style scoped>\n",
       "    .dataframe tbody tr th:only-of-type {\n",
       "        vertical-align: middle;\n",
       "    }\n",
       "\n",
       "    .dataframe tbody tr th {\n",
       "        vertical-align: top;\n",
       "    }\n",
       "\n",
       "    .dataframe thead th {\n",
       "        text-align: right;\n",
       "    }\n",
       "</style>\n",
       "<table border=\"1\" class=\"dataframe\">\n",
       "  <thead>\n",
       "    <tr style=\"text-align: right;\">\n",
       "      <th></th>\n",
       "      <th>grading</th>\n",
       "      <th>average</th>\n",
       "    </tr>\n",
       "  </thead>\n",
       "  <tbody>\n",
       "    <tr>\n",
       "      <th>0</th>\n",
       "      <td>GMA</td>\n",
       "      <td>nan</td>\n",
       "    </tr>\n",
       "    <tr>\n",
       "      <th>1</th>\n",
       "      <td>ISA</td>\n",
       "      <td>nan</td>\n",
       "    </tr>\n",
       "    <tr>\n",
       "      <th>2</th>\n",
       "      <td>HGA</td>\n",
       "      <td>nan</td>\n",
       "    </tr>\n",
       "    <tr>\n",
       "      <th>3</th>\n",
       "      <td>CSG</td>\n",
       "      <td>nan</td>\n",
       "    </tr>\n",
       "    <tr>\n",
       "      <th>4</th>\n",
       "      <td>SGC</td>\n",
       "      <td>3509.0</td>\n",
       "    </tr>\n",
       "    <tr>\n",
       "      <th>5</th>\n",
       "      <td>DNA</td>\n",
       "      <td>858.595041322314</td>\n",
       "    </tr>\n",
       "    <tr>\n",
       "      <th>6</th>\n",
       "      <td>GEM</td>\n",
       "      <td>977.6454545454545</td>\n",
       "    </tr>\n",
       "    <tr>\n",
       "      <th>7</th>\n",
       "      <td>Beckett</td>\n",
       "      <td>11385.758620689656</td>\n",
       "    </tr>\n",
       "    <tr>\n",
       "      <th>8</th>\n",
       "      <td>PSA</td>\n",
       "      <td>496.0</td>\n",
       "    </tr>\n",
       "    <tr>\n",
       "      <th>9</th>\n",
       "      <td>BGS</td>\n",
       "      <td>6843.246153846154</td>\n",
       "    </tr>\n",
       "  </tbody>\n",
       "</table>\n",
       "</div>"
      ],
      "text/plain": [
       "   grading             average\n",
       "0      GMA                 nan\n",
       "1      ISA                 nan\n",
       "2      HGA                 nan\n",
       "3      CSG                 nan\n",
       "4      SGC              3509.0\n",
       "5      DNA    858.595041322314\n",
       "6      GEM   977.6454545454545\n",
       "7  Beckett  11385.758620689656\n",
       "8      PSA               496.0\n",
       "9      BGS   6843.246153846154"
      ]
     },
     "execution_count": 2165,
     "metadata": {},
     "output_type": "execute_result"
    }
   ],
   "source": [
    "df_average_hockey_grading = pd.DataFrame()\n",
    "for i in range(len(patterns_hockey_grading)):\n",
    "    row = pd.DataFrame({'grading':patterns_hockey_grading[i], 'average':str(full_data[(full_data['cat']==4) & full_data[patterns_hockey_grading[i]+'_hockey']==1].price_cln.mean())}, index=[0])\n",
    "    df_average_hockey_grading = pd.concat([row,df_average_hockey_grading.loc[:]]).reset_index(drop=True)\n",
    "df_average_hockey_grading"
   ]
  },
  {
   "cell_type": "code",
   "execution_count": 2166,
   "id": "4cc491cf",
   "metadata": {},
   "outputs": [
    {
     "name": "stderr",
     "output_type": "stream",
     "text": [
      "C:\\Users\\motti\\AppData\\Local\\Temp\\ipykernel_19792\\924461308.py:3: DeprecationWarning: `np.float` is a deprecated alias for the builtin `float`. To silence this warning, use `float` by itself. Doing this will not modify any behavior and is safe. If you specifically wanted the numpy scalar type, use `np.float64` here.\n",
      "Deprecated in NumPy 1.20; for more details and guidance: https://numpy.org/devdocs/release/1.20.0-notes.html#deprecations\n",
      "  y = y.astype(np.float)\n"
     ]
    },
    {
     "data": {
      "text/plain": [
       "<BarContainer object of 6 artists>"
      ]
     },
     "execution_count": 2166,
     "metadata": {},
     "output_type": "execute_result"
    },
    {
     "data": {
      "image/png": "[encoded data removed]",
      "text/plain": [
       "<Figure size 640x480 with 1 Axes>"
      ]
     },
     "metadata": {},
     "output_type": "display_data"
    }
   ],
   "source": [
    "x = np.array(df_average_hockey_grading[df_average_hockey_grading['average']!='nan'].grading)\n",
    "y = np.array(df_average_hockey_grading[df_average_hockey_grading['average']!='nan'].average)\n",
    "y = y.astype(np.float)\n",
    "plt.barh(x, y)"
   ]
  },
  {
   "cell_type": "markdown",
   "id": "699ed37a",
   "metadata": {},
   "source": [
    "<h1>What about types of packs? There are packs that are more expensive? Let's see...</h1>\n",
    "<h3>All types are Panini's packs</h3>"
   ]
  },
  {
   "cell_type": "markdown",
   "id": "4b0ffe2e",
   "metadata": {},
   "source": [
    "<h2>Football</h2>"
   ]
  },
  {
   "cell_type": "code",
   "execution_count": 2167,
   "id": "1d3a1249",
   "metadata": {},
   "outputs": [],
   "source": [
    "patterns_football_pack = ['Flawless', 'National Treasures', 'Eminence', 'Immaculate', 'Opulence', 'Impeccable', 'Noir', 'One and One', 'Select', 'Spectra', 'Prizm', 'Optic', 'Mosaic']\n",
    "\n",
    "for pattern in patterns_football_pack:\n",
    "    full_data[pattern+\"_football\"] = 0\n",
    "    for i in range(len(full_data)):\n",
    "        if(full_data.at[i,'cat']==1):\n",
    "            try:\n",
    "                if(re.match(\".*\"+pattern+\".*\", full_data.at[i,'title'])):\n",
    "                    full_data.at[i,pattern+\"_football\"]=1\n",
    "            except:\n",
    "                    full_data.at[i,pattern+\"_football\"]=0\n",
    "\n",
    "\n"
   ]
  },
  {
   "cell_type": "code",
   "execution_count": 2168,
   "id": "8db8b2c4",
   "metadata": {},
   "outputs": [
    {
     "data": {
      "text/html": [
       "<div>\n",
       "<style scoped>\n",
       "    .dataframe tbody tr th:only-of-type {\n",
       "        vertical-align: middle;\n",
       "    }\n",
       "\n",
       "    .dataframe tbody tr th {\n",
       "        vertical-align: top;\n",
       "    }\n",
       "\n",
       "    .dataframe thead th {\n",
       "        text-align: right;\n",
       "    }\n",
       "</style>\n",
       "<table border=\"1\" class=\"dataframe\">\n",
       "  <thead>\n",
       "    <tr style=\"text-align: right;\">\n",
       "      <th></th>\n",
       "      <th>pack</th>\n",
       "      <th>average</th>\n",
       "    </tr>\n",
       "  </thead>\n",
       "  <tbody>\n",
       "    <tr>\n",
       "      <th>0</th>\n",
       "      <td>Mosaic</td>\n",
       "      <td>127.10924369747899</td>\n",
       "    </tr>\n",
       "    <tr>\n",
       "      <th>1</th>\n",
       "      <td>Optic</td>\n",
       "      <td>1082.3858024691358</td>\n",
       "    </tr>\n",
       "    <tr>\n",
       "      <th>2</th>\n",
       "      <td>Prizm</td>\n",
       "      <td>1084.6361149110808</td>\n",
       "    </tr>\n",
       "    <tr>\n",
       "      <th>3</th>\n",
       "      <td>Spectra</td>\n",
       "      <td>360.30434782608694</td>\n",
       "    </tr>\n",
       "    <tr>\n",
       "      <th>4</th>\n",
       "      <td>Select</td>\n",
       "      <td>457.93905817174516</td>\n",
       "    </tr>\n",
       "    <tr>\n",
       "      <th>5</th>\n",
       "      <td>One and One</td>\n",
       "      <td>nan</td>\n",
       "    </tr>\n",
       "    <tr>\n",
       "      <th>6</th>\n",
       "      <td>Noir</td>\n",
       "      <td>nan</td>\n",
       "    </tr>\n",
       "    <tr>\n",
       "      <th>7</th>\n",
       "      <td>Impeccable</td>\n",
       "      <td>617.5</td>\n",
       "    </tr>\n",
       "    <tr>\n",
       "      <th>8</th>\n",
       "      <td>Opulence</td>\n",
       "      <td>nan</td>\n",
       "    </tr>\n",
       "    <tr>\n",
       "      <th>9</th>\n",
       "      <td>Immaculate</td>\n",
       "      <td>1636.157894736842</td>\n",
       "    </tr>\n",
       "    <tr>\n",
       "      <th>10</th>\n",
       "      <td>Eminence</td>\n",
       "      <td>1862.0</td>\n",
       "    </tr>\n",
       "    <tr>\n",
       "      <th>11</th>\n",
       "      <td>National Treasures</td>\n",
       "      <td>10871.729591836734</td>\n",
       "    </tr>\n",
       "    <tr>\n",
       "      <th>12</th>\n",
       "      <td>Flawless</td>\n",
       "      <td>4767.0</td>\n",
       "    </tr>\n",
       "  </tbody>\n",
       "</table>\n",
       "</div>"
      ],
      "text/plain": [
       "                  pack             average\n",
       "0               Mosaic  127.10924369747899\n",
       "1                Optic  1082.3858024691358\n",
       "2                Prizm  1084.6361149110808\n",
       "3              Spectra  360.30434782608694\n",
       "4               Select  457.93905817174516\n",
       "5          One and One                 nan\n",
       "6                 Noir                 nan\n",
       "7           Impeccable               617.5\n",
       "8             Opulence                 nan\n",
       "9           Immaculate   1636.157894736842\n",
       "10            Eminence              1862.0\n",
       "11  National Treasures  10871.729591836734\n",
       "12            Flawless              4767.0"
      ]
     },
     "execution_count": 2168,
     "metadata": {},
     "output_type": "execute_result"
    }
   ],
   "source": [
    "df_average_football_pack = pd.DataFrame()\n",
    "for i in range(len(patterns_football_pack)):\n",
    "    row = pd.DataFrame({'pack':patterns_football_pack[i], 'average':str(full_data[(full_data['cat']==1) & full_data[patterns_football_pack[i]+'_football']==1].price_cln.mean())}, index=[0])\n",
    "    df_average_football_pack = pd.concat([row,df_average_football_pack.loc[:]]).reset_index(drop=True)\n",
    "df_average_football_pack"
   ]
  },
  {
   "cell_type": "code",
   "execution_count": 2169,
   "id": "773f2b64",
   "metadata": {},
   "outputs": [
    {
     "name": "stderr",
     "output_type": "stream",
     "text": [
      "C:\\Users\\motti\\AppData\\Local\\Temp\\ipykernel_19792\\1823757561.py:3: DeprecationWarning: `np.float` is a deprecated alias for the builtin `float`. To silence this warning, use `float` by itself. Doing this will not modify any behavior and is safe. If you specifically wanted the numpy scalar type, use `np.float64` here.\n",
      "Deprecated in NumPy 1.20; for more details and guidance: https://numpy.org/devdocs/release/1.20.0-notes.html#deprecations\n",
      "  y = y.astype(np.float)\n"
     ]
    },
    {
     "data": {
      "text/plain": [
       "<BarContainer object of 10 artists>"
      ]
     },
     "execution_count": 2169,
     "metadata": {},
     "output_type": "execute_result"
    },
    {
     "data": {
      "image/png": "[encoded data removed]",
      "text/plain": [
       "<Figure size 640x480 with 1 Axes>"
      ]
     },
     "metadata": {},
     "output_type": "display_data"
    }
   ],
   "source": [
    "x = np.array(df_average_football_pack[df_average_football_pack['average']!='nan'].pack)\n",
    "y = np.array(df_average_football_pack[df_average_football_pack['average']!='nan'].average)\n",
    "y = y.astype(np.float)\n",
    "plt.barh(x, y)"
   ]
  },
  {
   "cell_type": "markdown",
   "id": "e49f562d",
   "metadata": {},
   "source": [
    "<h2>Baseball</h2>"
   ]
  },
  {
   "cell_type": "code",
   "execution_count": 2170,
   "id": "7f12e05e",
   "metadata": {},
   "outputs": [],
   "source": [
    "patterns_baseball_pack = ['Flawless', 'National Treasures', 'Eminence', 'Immaculate', 'Opulence', 'Impeccable', 'Noir', 'One and One', 'Select', 'Spectra', 'Prizm', 'Optic', 'Mosaic']\n",
    "\n",
    "for pattern in patterns_baseball_pack:\n",
    "    full_data[pattern+\"_baseball\"] = 0\n",
    "    for i in range(len(full_data)):\n",
    "        if(full_data.at[i,'cat']==2):\n",
    "            try:\n",
    "                if(re.match(\".*\"+pattern+\".*\", full_data.at[i,'title'])):\n",
    "                    full_data.at[i,pattern+\"_baseball\"]=1\n",
    "            except:\n",
    "                    full_data.at[i,pattern+\"_baseball\"]=0\n",
    "\n",
    "\n"
   ]
  },
  {
   "cell_type": "code",
   "execution_count": 2171,
   "id": "880d0330",
   "metadata": {},
   "outputs": [
    {
     "data": {
      "text/html": [
       "<div>\n",
       "<style scoped>\n",
       "    .dataframe tbody tr th:only-of-type {\n",
       "        vertical-align: middle;\n",
       "    }\n",
       "\n",
       "    .dataframe tbody tr th {\n",
       "        vertical-align: top;\n",
       "    }\n",
       "\n",
       "    .dataframe thead th {\n",
       "        text-align: right;\n",
       "    }\n",
       "</style>\n",
       "<table border=\"1\" class=\"dataframe\">\n",
       "  <thead>\n",
       "    <tr style=\"text-align: right;\">\n",
       "      <th></th>\n",
       "      <th>pack</th>\n",
       "      <th>average</th>\n",
       "    </tr>\n",
       "  </thead>\n",
       "  <tbody>\n",
       "    <tr>\n",
       "      <th>0</th>\n",
       "      <td>Mosaic</td>\n",
       "      <td>53.0</td>\n",
       "    </tr>\n",
       "    <tr>\n",
       "      <th>1</th>\n",
       "      <td>Optic</td>\n",
       "      <td>216.17333333333335</td>\n",
       "    </tr>\n",
       "    <tr>\n",
       "      <th>2</th>\n",
       "      <td>Prizm</td>\n",
       "      <td>133.83064516129033</td>\n",
       "    </tr>\n",
       "    <tr>\n",
       "      <th>3</th>\n",
       "      <td>Spectra</td>\n",
       "      <td>28.0</td>\n",
       "    </tr>\n",
       "    <tr>\n",
       "      <th>4</th>\n",
       "      <td>Select</td>\n",
       "      <td>268.0</td>\n",
       "    </tr>\n",
       "    <tr>\n",
       "      <th>5</th>\n",
       "      <td>One and One</td>\n",
       "      <td>40.0</td>\n",
       "    </tr>\n",
       "    <tr>\n",
       "      <th>6</th>\n",
       "      <td>Noir</td>\n",
       "      <td>nan</td>\n",
       "    </tr>\n",
       "    <tr>\n",
       "      <th>7</th>\n",
       "      <td>Impeccable</td>\n",
       "      <td>nan</td>\n",
       "    </tr>\n",
       "    <tr>\n",
       "      <th>8</th>\n",
       "      <td>Opulence</td>\n",
       "      <td>nan</td>\n",
       "    </tr>\n",
       "    <tr>\n",
       "      <th>9</th>\n",
       "      <td>Immaculate</td>\n",
       "      <td>209.34782608695653</td>\n",
       "    </tr>\n",
       "    <tr>\n",
       "      <th>10</th>\n",
       "      <td>Eminence</td>\n",
       "      <td>nan</td>\n",
       "    </tr>\n",
       "    <tr>\n",
       "      <th>11</th>\n",
       "      <td>National Treasures</td>\n",
       "      <td>540.3</td>\n",
       "    </tr>\n",
       "    <tr>\n",
       "      <th>12</th>\n",
       "      <td>Flawless</td>\n",
       "      <td>8068.7692307692305</td>\n",
       "    </tr>\n",
       "  </tbody>\n",
       "</table>\n",
       "</div>"
      ],
      "text/plain": [
       "                  pack             average\n",
       "0               Mosaic                53.0\n",
       "1                Optic  216.17333333333335\n",
       "2                Prizm  133.83064516129033\n",
       "3              Spectra                28.0\n",
       "4               Select               268.0\n",
       "5          One and One                40.0\n",
       "6                 Noir                 nan\n",
       "7           Impeccable                 nan\n",
       "8             Opulence                 nan\n",
       "9           Immaculate  209.34782608695653\n",
       "10            Eminence                 nan\n",
       "11  National Treasures               540.3\n",
       "12            Flawless  8068.7692307692305"
      ]
     },
     "execution_count": 2171,
     "metadata": {},
     "output_type": "execute_result"
    }
   ],
   "source": [
    "df_average_baseball_pack = pd.DataFrame()\n",
    "for i in range(len(patterns_baseball_pack)):\n",
    "    row = pd.DataFrame({'pack':patterns_baseball_pack[i], 'average':str(full_data[(full_data['cat']==2) & full_data[patterns_baseball_pack[i]+'_baseball']==1].price_cln.mean())}, index=[0])\n",
    "    df_average_baseball_pack = pd.concat([row,df_average_baseball_pack.loc[:]]).reset_index(drop=True)\n",
    "df_average_baseball_pack"
   ]
  },
  {
   "cell_type": "code",
   "execution_count": 2172,
   "id": "6f5b9a96",
   "metadata": {},
   "outputs": [
    {
     "name": "stderr",
     "output_type": "stream",
     "text": [
      "C:\\Users\\motti\\AppData\\Local\\Temp\\ipykernel_19792\\1239351055.py:3: DeprecationWarning: `np.float` is a deprecated alias for the builtin `float`. To silence this warning, use `float` by itself. Doing this will not modify any behavior and is safe. If you specifically wanted the numpy scalar type, use `np.float64` here.\n",
      "Deprecated in NumPy 1.20; for more details and guidance: https://numpy.org/devdocs/release/1.20.0-notes.html#deprecations\n",
      "  y = y.astype(np.float)\n"
     ]
    },
    {
     "data": {
      "text/plain": [
       "<BarContainer object of 9 artists>"
      ]
     },
     "execution_count": 2172,
     "metadata": {},
     "output_type": "execute_result"
    },
    {
     "data": {
      "image/png": "[encoded data removed]",
      "text/plain": [
       "<Figure size 640x480 with 1 Axes>"
      ]
     },
     "metadata": {},
     "output_type": "display_data"
    }
   ],
   "source": [
    "x = np.array(df_average_baseball_pack[df_average_baseball_pack['average']!='nan'].pack)\n",
    "y = np.array(df_average_baseball_pack[df_average_baseball_pack['average']!='nan'].average)\n",
    "y = y.astype(np.float)\n",
    "plt.barh(x, y)"
   ]
  },
  {
   "cell_type": "markdown",
   "id": "6cb5a887",
   "metadata": {},
   "source": [
    "<h2>Basketball</h2>"
   ]
  },
  {
   "cell_type": "code",
   "execution_count": 2173,
   "id": "ba1a74c2",
   "metadata": {},
   "outputs": [],
   "source": [
    "patterns_basketball_pack = ['Flawless', 'National Treasures', 'Eminence', 'Immaculate', 'Opulence', 'Impeccable', 'Noir', 'One and One', 'Select', 'Spectra', 'Prizm', 'Optic', 'Mosaic']\n",
    "\n",
    "for pattern in patterns_basketball_pack:\n",
    "    full_data[pattern+\"_basketball\"] = 0\n",
    "    for i in range(len(full_data)):\n",
    "        if(full_data.at[i,'cat']==3):\n",
    "            try:\n",
    "                if(re.match(\".*\"+pattern+\".*\", full_data.at[i,'title'])):\n",
    "                    full_data.at[i,pattern+\"_basketball\"]=1\n",
    "            except:\n",
    "                    full_data.at[i,pattern+\"_basketball\"]=0\n",
    "\n",
    "\n"
   ]
  },
  {
   "cell_type": "code",
   "execution_count": 2174,
   "id": "0382e46c",
   "metadata": {},
   "outputs": [
    {
     "data": {
      "text/html": [
       "<div>\n",
       "<style scoped>\n",
       "    .dataframe tbody tr th:only-of-type {\n",
       "        vertical-align: middle;\n",
       "    }\n",
       "\n",
       "    .dataframe tbody tr th {\n",
       "        vertical-align: top;\n",
       "    }\n",
       "\n",
       "    .dataframe thead th {\n",
       "        text-align: right;\n",
       "    }\n",
       "</style>\n",
       "<table border=\"1\" class=\"dataframe\">\n",
       "  <thead>\n",
       "    <tr style=\"text-align: right;\">\n",
       "      <th></th>\n",
       "      <th>pack</th>\n",
       "      <th>average</th>\n",
       "    </tr>\n",
       "  </thead>\n",
       "  <tbody>\n",
       "    <tr>\n",
       "      <th>0</th>\n",
       "      <td>Mosaic</td>\n",
       "      <td>255.1386554621849</td>\n",
       "    </tr>\n",
       "    <tr>\n",
       "      <th>1</th>\n",
       "      <td>Optic</td>\n",
       "      <td>628.7272727272727</td>\n",
       "    </tr>\n",
       "    <tr>\n",
       "      <th>2</th>\n",
       "      <td>Prizm</td>\n",
       "      <td>799.8537134283571</td>\n",
       "    </tr>\n",
       "    <tr>\n",
       "      <th>3</th>\n",
       "      <td>Spectra</td>\n",
       "      <td>743.974025974026</td>\n",
       "    </tr>\n",
       "    <tr>\n",
       "      <th>4</th>\n",
       "      <td>Select</td>\n",
       "      <td>406.8343023255814</td>\n",
       "    </tr>\n",
       "    <tr>\n",
       "      <th>5</th>\n",
       "      <td>One and One</td>\n",
       "      <td>444.94736842105266</td>\n",
       "    </tr>\n",
       "    <tr>\n",
       "      <th>6</th>\n",
       "      <td>Noir</td>\n",
       "      <td>418.6842105263158</td>\n",
       "    </tr>\n",
       "    <tr>\n",
       "      <th>7</th>\n",
       "      <td>Impeccable</td>\n",
       "      <td>654.4642857142857</td>\n",
       "    </tr>\n",
       "    <tr>\n",
       "      <th>8</th>\n",
       "      <td>Opulence</td>\n",
       "      <td>2220.0</td>\n",
       "    </tr>\n",
       "    <tr>\n",
       "      <th>9</th>\n",
       "      <td>Immaculate</td>\n",
       "      <td>2909.9220779220777</td>\n",
       "    </tr>\n",
       "    <tr>\n",
       "      <th>10</th>\n",
       "      <td>Eminence</td>\n",
       "      <td>1982.8461538461538</td>\n",
       "    </tr>\n",
       "    <tr>\n",
       "      <th>11</th>\n",
       "      <td>National Treasures</td>\n",
       "      <td>6441.414790996784</td>\n",
       "    </tr>\n",
       "    <tr>\n",
       "      <th>12</th>\n",
       "      <td>Flawless</td>\n",
       "      <td>5445.067164179104</td>\n",
       "    </tr>\n",
       "  </tbody>\n",
       "</table>\n",
       "</div>"
      ],
      "text/plain": [
       "                  pack             average\n",
       "0               Mosaic   255.1386554621849\n",
       "1                Optic   628.7272727272727\n",
       "2                Prizm   799.8537134283571\n",
       "3              Spectra    743.974025974026\n",
       "4               Select   406.8343023255814\n",
       "5          One and One  444.94736842105266\n",
       "6                 Noir   418.6842105263158\n",
       "7           Impeccable   654.4642857142857\n",
       "8             Opulence              2220.0\n",
       "9           Immaculate  2909.9220779220777\n",
       "10            Eminence  1982.8461538461538\n",
       "11  National Treasures   6441.414790996784\n",
       "12            Flawless   5445.067164179104"
      ]
     },
     "execution_count": 2174,
     "metadata": {},
     "output_type": "execute_result"
    }
   ],
   "source": [
    "df_average_basketball_pack = pd.DataFrame()\n",
    "for i in range(len(patterns_basketball_pack)):\n",
    "    row = pd.DataFrame({'pack':patterns_basketball_pack[i], 'average':str(full_data[(full_data['cat']==3) & full_data[patterns_basketball_pack[i]+'_basketball']==1].price_cln.mean())}, index=[0])\n",
    "    df_average_basketball_pack = pd.concat([row,df_average_basketball_pack.loc[:]]).reset_index(drop=True)\n",
    "df_average_basketball_pack"
   ]
  },
  {
   "cell_type": "code",
   "execution_count": 2175,
   "id": "57b809f4",
   "metadata": {},
   "outputs": [
    {
     "name": "stderr",
     "output_type": "stream",
     "text": [
      "C:\\Users\\motti\\AppData\\Local\\Temp\\ipykernel_19792\\2005864083.py:3: DeprecationWarning: `np.float` is a deprecated alias for the builtin `float`. To silence this warning, use `float` by itself. Doing this will not modify any behavior and is safe. If you specifically wanted the numpy scalar type, use `np.float64` here.\n",
      "Deprecated in NumPy 1.20; for more details and guidance: https://numpy.org/devdocs/release/1.20.0-notes.html#deprecations\n",
      "  y = y.astype(np.float)\n"
     ]
    },
    {
     "data": {
      "text/plain": [
       "<BarContainer object of 13 artists>"
      ]
     },
     "execution_count": 2175,
     "metadata": {},
     "output_type": "execute_result"
    },
    {
     "data": {
      "image/png": "[encoded data removed]",
      "text/plain": [
       "<Figure size 640x480 with 1 Axes>"
      ]
     },
     "metadata": {},
     "output_type": "display_data"
    }
   ],
   "source": [
    "x = np.array(df_average_basketball_pack[df_average_basketball_pack['average']!='nan'].pack)\n",
    "y = np.array(df_average_basketball_pack[df_average_basketball_pack['average']!='nan'].average)\n",
    "y = y.astype(np.float)\n",
    "plt.barh(x, y)"
   ]
  },
  {
   "cell_type": "markdown",
   "id": "d8db07de",
   "metadata": {},
   "source": [
    "<h2>Hockey</h2>"
   ]
  },
  {
   "cell_type": "code",
   "execution_count": 2176,
   "id": "04bea06a",
   "metadata": {},
   "outputs": [],
   "source": [
    "patterns_hockey_pack = ['Flawless', 'National Treasures', 'Eminence', 'Immaculate', 'Opulence', 'Impeccable', 'Noir', 'One and One', 'Select', 'Spectra', 'Prizm', 'Optic', 'Mosaic']\n",
    "\n",
    "for pattern in patterns_hockey_pack:\n",
    "    full_data[pattern+\"_hockey\"] = 0\n",
    "    for i in range(len(full_data)):\n",
    "        if(full_data.at[i,'cat']==4):\n",
    "            try:\n",
    "                if(re.match(\".*\"+pattern+\".*\", full_data.at[i,'title'])):\n",
    "                    full_data.at[i,pattern+\"_hockey\"]=1\n",
    "            except:\n",
    "                    full_data.at[i,pattern+\"_hockey\"]=0\n",
    "\n",
    "\n"
   ]
  },
  {
   "cell_type": "code",
   "execution_count": 2177,
   "id": "acba3799",
   "metadata": {},
   "outputs": [
    {
     "data": {
      "text/html": [
       "<div>\n",
       "<style scoped>\n",
       "    .dataframe tbody tr th:only-of-type {\n",
       "        vertical-align: middle;\n",
       "    }\n",
       "\n",
       "    .dataframe tbody tr th {\n",
       "        vertical-align: top;\n",
       "    }\n",
       "\n",
       "    .dataframe thead th {\n",
       "        text-align: right;\n",
       "    }\n",
       "</style>\n",
       "<table border=\"1\" class=\"dataframe\">\n",
       "  <thead>\n",
       "    <tr style=\"text-align: right;\">\n",
       "      <th></th>\n",
       "      <th>pack</th>\n",
       "      <th>average</th>\n",
       "    </tr>\n",
       "  </thead>\n",
       "  <tbody>\n",
       "    <tr>\n",
       "      <th>0</th>\n",
       "      <td>Mosaic</td>\n",
       "      <td>nan</td>\n",
       "    </tr>\n",
       "    <tr>\n",
       "      <th>1</th>\n",
       "      <td>Optic</td>\n",
       "      <td>nan</td>\n",
       "    </tr>\n",
       "    <tr>\n",
       "      <th>2</th>\n",
       "      <td>Prizm</td>\n",
       "      <td>35.0</td>\n",
       "    </tr>\n",
       "    <tr>\n",
       "      <th>3</th>\n",
       "      <td>Spectra</td>\n",
       "      <td>nan</td>\n",
       "    </tr>\n",
       "    <tr>\n",
       "      <th>4</th>\n",
       "      <td>Select</td>\n",
       "      <td>21.125</td>\n",
       "    </tr>\n",
       "    <tr>\n",
       "      <th>5</th>\n",
       "      <td>One and One</td>\n",
       "      <td>nan</td>\n",
       "    </tr>\n",
       "    <tr>\n",
       "      <th>6</th>\n",
       "      <td>Noir</td>\n",
       "      <td>nan</td>\n",
       "    </tr>\n",
       "    <tr>\n",
       "      <th>7</th>\n",
       "      <td>Impeccable</td>\n",
       "      <td>nan</td>\n",
       "    </tr>\n",
       "    <tr>\n",
       "      <th>8</th>\n",
       "      <td>Opulence</td>\n",
       "      <td>nan</td>\n",
       "    </tr>\n",
       "    <tr>\n",
       "      <th>9</th>\n",
       "      <td>Immaculate</td>\n",
       "      <td>nan</td>\n",
       "    </tr>\n",
       "    <tr>\n",
       "      <th>10</th>\n",
       "      <td>Eminence</td>\n",
       "      <td>nan</td>\n",
       "    </tr>\n",
       "    <tr>\n",
       "      <th>11</th>\n",
       "      <td>National Treasures</td>\n",
       "      <td>270.6</td>\n",
       "    </tr>\n",
       "    <tr>\n",
       "      <th>12</th>\n",
       "      <td>Flawless</td>\n",
       "      <td>nan</td>\n",
       "    </tr>\n",
       "  </tbody>\n",
       "</table>\n",
       "</div>"
      ],
      "text/plain": [
       "                  pack average\n",
       "0               Mosaic     nan\n",
       "1                Optic     nan\n",
       "2                Prizm    35.0\n",
       "3              Spectra     nan\n",
       "4               Select  21.125\n",
       "5          One and One     nan\n",
       "6                 Noir     nan\n",
       "7           Impeccable     nan\n",
       "8             Opulence     nan\n",
       "9           Immaculate     nan\n",
       "10            Eminence     nan\n",
       "11  National Treasures   270.6\n",
       "12            Flawless     nan"
      ]
     },
     "execution_count": 2177,
     "metadata": {},
     "output_type": "execute_result"
    }
   ],
   "source": [
    "df_average_hockey_pack = pd.DataFrame()\n",
    "for i in range(len(patterns_hockey_pack)):\n",
    "    row = pd.DataFrame({'pack':patterns_hockey_pack[i], 'average':str(full_data[(full_data['cat']==4) & full_data[patterns_hockey_pack[i]+'_hockey']==1].price_cln.mean())}, index=[0])\n",
    "    df_average_hockey_pack = pd.concat([row,df_average_hockey_pack.loc[:]]).reset_index(drop=True)\n",
    "df_average_hockey_pack"
   ]
  },
  {
   "cell_type": "code",
   "execution_count": 2178,
   "id": "b41506f1",
   "metadata": {},
   "outputs": [
    {
     "name": "stderr",
     "output_type": "stream",
     "text": [
      "C:\\Users\\motti\\AppData\\Local\\Temp\\ipykernel_19792\\3224962508.py:3: DeprecationWarning: `np.float` is a deprecated alias for the builtin `float`. To silence this warning, use `float` by itself. Doing this will not modify any behavior and is safe. If you specifically wanted the numpy scalar type, use `np.float64` here.\n",
      "Deprecated in NumPy 1.20; for more details and guidance: https://numpy.org/devdocs/release/1.20.0-notes.html#deprecations\n",
      "  y = y.astype(np.float)\n"
     ]
    },
    {
     "data": {
      "text/plain": [
       "<BarContainer object of 3 artists>"
      ]
     },
     "execution_count": 2178,
     "metadata": {},
     "output_type": "execute_result"
    },
    {
     "data": {
      "image/png": "[encoded data removed]",
      "text/plain": [
       "<Figure size 640x480 with 1 Axes>"
      ]
     },
     "metadata": {},
     "output_type": "display_data"
    }
   ],
   "source": [
    "x = np.array(df_average_hockey_pack[df_average_hockey_pack['average']!='nan'].pack)\n",
    "y = np.array(df_average_hockey_pack[df_average_hockey_pack['average']!='nan'].average)\n",
    "y = y.astype(np.float)\n",
    "plt.barh(x, y)"
   ]
  },
  {
   "cell_type": "markdown",
   "id": "e3ee14c8",
   "metadata": {},
   "source": [
    "<h1>Card's rank is mostly defined by color, let's check what are expensive colors</h1>"
   ]
  },
  {
   "cell_type": "markdown",
   "id": "2d071be2",
   "metadata": {},
   "source": [
    "<h2>Football</h2>"
   ]
  },
  {
   "cell_type": "code",
   "execution_count": 2179,
   "id": "1f1a80c1",
   "metadata": {},
   "outputs": [],
   "source": [
    "patterns_football_color = ['Silver', 'Blue', 'Gold', 'Black', 'Green', 'Hyper', 'Orange', 'Pink', 'Purple', 'Red', 'White', 'Mojo', 'Bronze', 'Platinum', 'Viny']\n",
    "\n",
    "for pattern in patterns_football_color:\n",
    "    full_data[pattern+\"_football\"] = 0\n",
    "    for i in range(len(full_data)):\n",
    "        if(full_data.at[i,'cat']==1):\n",
    "            try:\n",
    "                if(re.match(\".*\"+pattern+\".*\", full_data.at[i,'title'])):\n",
    "                    full_data.at[i,pattern+\"_football\"]=1\n",
    "            except:\n",
    "                    full_data.at[i,pattern+\"_football\"]=0\n",
    "\n"
   ]
  },
  {
   "cell_type": "code",
   "execution_count": 2180,
   "id": "8e190ca6",
   "metadata": {},
   "outputs": [
    {
     "data": {
      "text/html": [
       "<div>\n",
       "<style scoped>\n",
       "    .dataframe tbody tr th:only-of-type {\n",
       "        vertical-align: middle;\n",
       "    }\n",
       "\n",
       "    .dataframe tbody tr th {\n",
       "        vertical-align: top;\n",
       "    }\n",
       "\n",
       "    .dataframe thead th {\n",
       "        text-align: right;\n",
       "    }\n",
       "</style>\n",
       "<table border=\"1\" class=\"dataframe\">\n",
       "  <thead>\n",
       "    <tr style=\"text-align: right;\">\n",
       "      <th></th>\n",
       "      <th>color</th>\n",
       "      <th>average</th>\n",
       "    </tr>\n",
       "  </thead>\n",
       "  <tbody>\n",
       "    <tr>\n",
       "      <th>0</th>\n",
       "      <td>Viny</td>\n",
       "      <td>10814.9375</td>\n",
       "    </tr>\n",
       "    <tr>\n",
       "      <th>1</th>\n",
       "      <td>Platinum</td>\n",
       "      <td>7447.403508771929</td>\n",
       "    </tr>\n",
       "    <tr>\n",
       "      <th>2</th>\n",
       "      <td>Bronze</td>\n",
       "      <td>1507.0714285714287</td>\n",
       "    </tr>\n",
       "    <tr>\n",
       "      <th>3</th>\n",
       "      <td>Mojo</td>\n",
       "      <td>165.4</td>\n",
       "    </tr>\n",
       "    <tr>\n",
       "      <th>4</th>\n",
       "      <td>White</td>\n",
       "      <td>370.9741379310345</td>\n",
       "    </tr>\n",
       "    <tr>\n",
       "      <th>5</th>\n",
       "      <td>Red</td>\n",
       "      <td>799.3782608695652</td>\n",
       "    </tr>\n",
       "    <tr>\n",
       "      <th>6</th>\n",
       "      <td>Purple</td>\n",
       "      <td>324.1025641025641</td>\n",
       "    </tr>\n",
       "    <tr>\n",
       "      <th>7</th>\n",
       "      <td>Pink</td>\n",
       "      <td>74.26086956521739</td>\n",
       "    </tr>\n",
       "    <tr>\n",
       "      <th>8</th>\n",
       "      <td>Orange</td>\n",
       "      <td>246.47169811320754</td>\n",
       "    </tr>\n",
       "    <tr>\n",
       "      <th>9</th>\n",
       "      <td>Hyper</td>\n",
       "      <td>190.47619047619048</td>\n",
       "    </tr>\n",
       "    <tr>\n",
       "      <th>10</th>\n",
       "      <td>Green</td>\n",
       "      <td>1345.2645502645503</td>\n",
       "    </tr>\n",
       "    <tr>\n",
       "      <th>11</th>\n",
       "      <td>Black</td>\n",
       "      <td>3086.751479289941</td>\n",
       "    </tr>\n",
       "    <tr>\n",
       "      <th>12</th>\n",
       "      <td>Gold</td>\n",
       "      <td>2630.7290502793294</td>\n",
       "    </tr>\n",
       "    <tr>\n",
       "      <th>13</th>\n",
       "      <td>Blue</td>\n",
       "      <td>230.01673640167365</td>\n",
       "    </tr>\n",
       "    <tr>\n",
       "      <th>14</th>\n",
       "      <td>Silver</td>\n",
       "      <td>929.7875647668394</td>\n",
       "    </tr>\n",
       "  </tbody>\n",
       "</table>\n",
       "</div>"
      ],
      "text/plain": [
       "       color             average\n",
       "0       Viny          10814.9375\n",
       "1   Platinum   7447.403508771929\n",
       "2     Bronze  1507.0714285714287\n",
       "3       Mojo               165.4\n",
       "4      White   370.9741379310345\n",
       "5        Red   799.3782608695652\n",
       "6     Purple   324.1025641025641\n",
       "7       Pink   74.26086956521739\n",
       "8     Orange  246.47169811320754\n",
       "9      Hyper  190.47619047619048\n",
       "10     Green  1345.2645502645503\n",
       "11     Black   3086.751479289941\n",
       "12      Gold  2630.7290502793294\n",
       "13      Blue  230.01673640167365\n",
       "14    Silver   929.7875647668394"
      ]
     },
     "execution_count": 2180,
     "metadata": {},
     "output_type": "execute_result"
    }
   ],
   "source": [
    "df_average_football_color = pd.DataFrame()\n",
    "for i in range(len(patterns_football_color)):\n",
    "    row = pd.DataFrame({'color':patterns_football_color[i], 'average':str(full_data[(full_data['cat']==1)& full_data[patterns_football_color[i]+'_football']==1].price_cln.mean())}, index=[0])\n",
    "    df_average_football_color = pd.concat([row,df_average_football_color.loc[:]]).reset_index(drop=True)\n",
    "df_average_football_color"
   ]
  },
  {
   "cell_type": "code",
   "execution_count": 2181,
   "id": "be0d37af",
   "metadata": {},
   "outputs": [
    {
     "name": "stderr",
     "output_type": "stream",
     "text": [
      "C:\\Users\\motti\\AppData\\Local\\Temp\\ipykernel_19792\\3488577343.py:3: DeprecationWarning: `np.float` is a deprecated alias for the builtin `float`. To silence this warning, use `float` by itself. Doing this will not modify any behavior and is safe. If you specifically wanted the numpy scalar type, use `np.float64` here.\n",
      "Deprecated in NumPy 1.20; for more details and guidance: https://numpy.org/devdocs/release/1.20.0-notes.html#deprecations\n",
      "  y = y.astype(np.float)\n"
     ]
    },
    {
     "data": {
      "text/plain": [
       "<BarContainer object of 15 artists>"
      ]
     },
     "execution_count": 2181,
     "metadata": {},
     "output_type": "execute_result"
    },
    {
     "data": {
      "image/png": "[encoded data removed]",
      "text/plain": [
       "<Figure size 640x480 with 1 Axes>"
      ]
     },
     "metadata": {},
     "output_type": "display_data"
    }
   ],
   "source": [
    "x = np.array(df_average_football_color[df_average_football_color['average']!='nan'].color)\n",
    "y = np.array(df_average_football_color[df_average_football_color['average']!='nan'].average)\n",
    "y = y.astype(np.float)\n",
    "plt.barh(x, y)"
   ]
  },
  {
   "cell_type": "markdown",
   "id": "437ff386",
   "metadata": {},
   "source": [
    "<h2>Baseball</h2>"
   ]
  },
  {
   "cell_type": "code",
   "execution_count": 2182,
   "id": "673dddea",
   "metadata": {},
   "outputs": [],
   "source": [
    "patterns_baseball_color = ['Silver', 'Blue', 'Gold', 'Black', 'Green', 'Hyper', 'Orange', 'Pink', 'Purple', 'Red', 'White', 'Mojo', 'Bronze', 'Platinum', 'Viny']\n",
    "\n",
    "for pattern in patterns_baseball_color:\n",
    "    full_data[pattern+\"_baseball\"] = 0\n",
    "    for i in range(len(full_data)):\n",
    "        if(full_data.at[i,'cat']==2):\n",
    "            try:\n",
    "                if(re.match(\".*\"+pattern+\".*\", full_data.at[i,'title'])):\n",
    "                    full_data.at[i,pattern+\"_baseball\"]=1\n",
    "            except:\n",
    "                    full_data.at[i,pattern+\"_baseball\"]=0\n",
    "\n"
   ]
  },
  {
   "cell_type": "code",
   "execution_count": 2183,
   "id": "81d14220",
   "metadata": {},
   "outputs": [
    {
     "data": {
      "text/html": [
       "<div>\n",
       "<style scoped>\n",
       "    .dataframe tbody tr th:only-of-type {\n",
       "        vertical-align: middle;\n",
       "    }\n",
       "\n",
       "    .dataframe tbody tr th {\n",
       "        vertical-align: top;\n",
       "    }\n",
       "\n",
       "    .dataframe thead th {\n",
       "        text-align: right;\n",
       "    }\n",
       "</style>\n",
       "<table border=\"1\" class=\"dataframe\">\n",
       "  <thead>\n",
       "    <tr style=\"text-align: right;\">\n",
       "      <th></th>\n",
       "      <th>color</th>\n",
       "      <th>average</th>\n",
       "    </tr>\n",
       "  </thead>\n",
       "  <tbody>\n",
       "    <tr>\n",
       "      <th>0</th>\n",
       "      <td>Viny</td>\n",
       "      <td>1737.7777777777778</td>\n",
       "    </tr>\n",
       "    <tr>\n",
       "      <th>1</th>\n",
       "      <td>Platinum</td>\n",
       "      <td>183.10795454545453</td>\n",
       "    </tr>\n",
       "    <tr>\n",
       "      <th>2</th>\n",
       "      <td>Bronze</td>\n",
       "      <td>151.21428571428572</td>\n",
       "    </tr>\n",
       "    <tr>\n",
       "      <th>3</th>\n",
       "      <td>Mojo</td>\n",
       "      <td>95.5</td>\n",
       "    </tr>\n",
       "    <tr>\n",
       "      <th>4</th>\n",
       "      <td>White</td>\n",
       "      <td>1340.7704918032787</td>\n",
       "    </tr>\n",
       "    <tr>\n",
       "      <th>5</th>\n",
       "      <td>Red</td>\n",
       "      <td>4235.090909090909</td>\n",
       "    </tr>\n",
       "    <tr>\n",
       "      <th>6</th>\n",
       "      <td>Purple</td>\n",
       "      <td>360.63392857142856</td>\n",
       "    </tr>\n",
       "    <tr>\n",
       "      <th>7</th>\n",
       "      <td>Pink</td>\n",
       "      <td>81.5813953488372</td>\n",
       "    </tr>\n",
       "    <tr>\n",
       "      <th>8</th>\n",
       "      <td>Orange</td>\n",
       "      <td>2049.1039603960394</td>\n",
       "    </tr>\n",
       "    <tr>\n",
       "      <th>9</th>\n",
       "      <td>Hyper</td>\n",
       "      <td>17.5</td>\n",
       "    </tr>\n",
       "    <tr>\n",
       "      <th>10</th>\n",
       "      <td>Green</td>\n",
       "      <td>649.9377990430622</td>\n",
       "    </tr>\n",
       "    <tr>\n",
       "      <th>11</th>\n",
       "      <td>Black</td>\n",
       "      <td>821.1861471861472</td>\n",
       "    </tr>\n",
       "    <tr>\n",
       "      <th>12</th>\n",
       "      <td>Gold</td>\n",
       "      <td>1041.4934210526317</td>\n",
       "    </tr>\n",
       "    <tr>\n",
       "      <th>13</th>\n",
       "      <td>Blue</td>\n",
       "      <td>390.6792452830189</td>\n",
       "    </tr>\n",
       "    <tr>\n",
       "      <th>14</th>\n",
       "      <td>Silver</td>\n",
       "      <td>139.49659863945578</td>\n",
       "    </tr>\n",
       "  </tbody>\n",
       "</table>\n",
       "</div>"
      ],
      "text/plain": [
       "       color             average\n",
       "0       Viny  1737.7777777777778\n",
       "1   Platinum  183.10795454545453\n",
       "2     Bronze  151.21428571428572\n",
       "3       Mojo                95.5\n",
       "4      White  1340.7704918032787\n",
       "5        Red   4235.090909090909\n",
       "6     Purple  360.63392857142856\n",
       "7       Pink    81.5813953488372\n",
       "8     Orange  2049.1039603960394\n",
       "9      Hyper                17.5\n",
       "10     Green   649.9377990430622\n",
       "11     Black   821.1861471861472\n",
       "12      Gold  1041.4934210526317\n",
       "13      Blue   390.6792452830189\n",
       "14    Silver  139.49659863945578"
      ]
     },
     "execution_count": 2183,
     "metadata": {},
     "output_type": "execute_result"
    }
   ],
   "source": [
    "df_average_baseball_color = pd.DataFrame()\n",
    "for i in range(len(patterns_baseball_color)):\n",
    "    row = pd.DataFrame({'color':patterns_baseball_color[i], 'average':str(full_data[(full_data['cat']==2)& full_data[patterns_baseball_color[i]+'_baseball']==1].price_cln.mean())}, index=[0])\n",
    "    df_average_baseball_color = pd.concat([row,df_average_baseball_color.loc[:]]).reset_index(drop=True)\n",
    "df_average_baseball_color"
   ]
  },
  {
   "cell_type": "code",
   "execution_count": 2184,
   "id": "cab5bbba",
   "metadata": {},
   "outputs": [
    {
     "name": "stderr",
     "output_type": "stream",
     "text": [
      "C:\\Users\\motti\\AppData\\Local\\Temp\\ipykernel_19792\\702829414.py:3: DeprecationWarning: `np.float` is a deprecated alias for the builtin `float`. To silence this warning, use `float` by itself. Doing this will not modify any behavior and is safe. If you specifically wanted the numpy scalar type, use `np.float64` here.\n",
      "Deprecated in NumPy 1.20; for more details and guidance: https://numpy.org/devdocs/release/1.20.0-notes.html#deprecations\n",
      "  y = y.astype(np.float)\n"
     ]
    },
    {
     "data": {
      "text/plain": [
       "<BarContainer object of 15 artists>"
      ]
     },
     "execution_count": 2184,
     "metadata": {},
     "output_type": "execute_result"
    },
    {
     "data": {
      "image/png": "[encoded data removed]",
      "text/plain": [
       "<Figure size 640x480 with 1 Axes>"
      ]
     },
     "metadata": {},
     "output_type": "display_data"
    }
   ],
   "source": [
    "x = np.array(df_average_baseball_color[df_average_baseball_color['average']!='nan'].color)\n",
    "y = np.array(df_average_baseball_color[df_average_baseball_color['average']!='nan'].average)\n",
    "y = y.astype(np.float)\n",
    "plt.barh(x, y)"
   ]
  },
  {
   "cell_type": "markdown",
   "id": "56656aeb",
   "metadata": {},
   "source": [
    "Red?! Why? Ahhh...maybe on titles about baseball cards showed  also name of famous team \"Boston Red Sox\""
   ]
  },
  {
   "cell_type": "markdown",
   "id": "47377c28",
   "metadata": {},
   "source": [
    "<h2>Basketball</h2>"
   ]
  },
  {
   "cell_type": "code",
   "execution_count": 2185,
   "id": "40100236",
   "metadata": {},
   "outputs": [],
   "source": [
    "patterns_basketball_color = ['Silver', 'Blue', 'Gold', 'Black', 'Green', 'Hyper', 'Orange', 'Pink', 'Purple', 'Red', 'White', 'Mojo', 'Bronze', 'Platinum', 'Viny']\n",
    "\n",
    "for pattern in patterns_basketball_color:\n",
    "    full_data[pattern+\"_basketball\"] = 0\n",
    "    for i in range(len(full_data)):\n",
    "        if(full_data.at[i,'cat']==3):\n",
    "            try:\n",
    "                if(re.match(\".*\"+pattern+\".*\", full_data.at[i,'title'])):\n",
    "                    full_data.at[i,pattern+\"_basketball\"]=1\n",
    "            except:\n",
    "                    full_data.at[i,pattern+\"_basketball\"]=0\n",
    "\n"
   ]
  },
  {
   "cell_type": "code",
   "execution_count": 2186,
   "id": "f655af1d",
   "metadata": {},
   "outputs": [
    {
     "data": {
      "text/html": [
       "<div>\n",
       "<style scoped>\n",
       "    .dataframe tbody tr th:only-of-type {\n",
       "        vertical-align: middle;\n",
       "    }\n",
       "\n",
       "    .dataframe tbody tr th {\n",
       "        vertical-align: top;\n",
       "    }\n",
       "\n",
       "    .dataframe thead th {\n",
       "        text-align: right;\n",
       "    }\n",
       "</style>\n",
       "<table border=\"1\" class=\"dataframe\">\n",
       "  <thead>\n",
       "    <tr style=\"text-align: right;\">\n",
       "      <th></th>\n",
       "      <th>color</th>\n",
       "      <th>average</th>\n",
       "    </tr>\n",
       "  </thead>\n",
       "  <tbody>\n",
       "    <tr>\n",
       "      <th>0</th>\n",
       "      <td>Viny</td>\n",
       "      <td>10303.785714285714</td>\n",
       "    </tr>\n",
       "    <tr>\n",
       "      <th>1</th>\n",
       "      <td>Platinum</td>\n",
       "      <td>7231.575757575758</td>\n",
       "    </tr>\n",
       "    <tr>\n",
       "      <th>2</th>\n",
       "      <td>Bronze</td>\n",
       "      <td>644.3137254901961</td>\n",
       "    </tr>\n",
       "    <tr>\n",
       "      <th>3</th>\n",
       "      <td>Mojo</td>\n",
       "      <td>1432.142857142857</td>\n",
       "    </tr>\n",
       "    <tr>\n",
       "      <th>4</th>\n",
       "      <td>White</td>\n",
       "      <td>586.276923076923</td>\n",
       "    </tr>\n",
       "    <tr>\n",
       "      <th>5</th>\n",
       "      <td>Red</td>\n",
       "      <td>443.69436201780417</td>\n",
       "    </tr>\n",
       "    <tr>\n",
       "      <th>6</th>\n",
       "      <td>Purple</td>\n",
       "      <td>286.65986394557825</td>\n",
       "    </tr>\n",
       "    <tr>\n",
       "      <th>7</th>\n",
       "      <td>Pink</td>\n",
       "      <td>408.7096774193548</td>\n",
       "    </tr>\n",
       "    <tr>\n",
       "      <th>8</th>\n",
       "      <td>Orange</td>\n",
       "      <td>581.3680555555555</td>\n",
       "    </tr>\n",
       "    <tr>\n",
       "      <th>9</th>\n",
       "      <td>Hyper</td>\n",
       "      <td>90.75</td>\n",
       "    </tr>\n",
       "    <tr>\n",
       "      <th>10</th>\n",
       "      <td>Green</td>\n",
       "      <td>799.4576802507837</td>\n",
       "    </tr>\n",
       "    <tr>\n",
       "      <th>11</th>\n",
       "      <td>Black</td>\n",
       "      <td>2752.6008403361343</td>\n",
       "    </tr>\n",
       "    <tr>\n",
       "      <th>12</th>\n",
       "      <td>Gold</td>\n",
       "      <td>3812.742983751846</td>\n",
       "    </tr>\n",
       "    <tr>\n",
       "      <th>13</th>\n",
       "      <td>Blue</td>\n",
       "      <td>861.7945205479452</td>\n",
       "    </tr>\n",
       "    <tr>\n",
       "      <th>14</th>\n",
       "      <td>Silver</td>\n",
       "      <td>289.09615384615387</td>\n",
       "    </tr>\n",
       "  </tbody>\n",
       "</table>\n",
       "</div>"
      ],
      "text/plain": [
       "       color             average\n",
       "0       Viny  10303.785714285714\n",
       "1   Platinum   7231.575757575758\n",
       "2     Bronze   644.3137254901961\n",
       "3       Mojo   1432.142857142857\n",
       "4      White    586.276923076923\n",
       "5        Red  443.69436201780417\n",
       "6     Purple  286.65986394557825\n",
       "7       Pink   408.7096774193548\n",
       "8     Orange   581.3680555555555\n",
       "9      Hyper               90.75\n",
       "10     Green   799.4576802507837\n",
       "11     Black  2752.6008403361343\n",
       "12      Gold   3812.742983751846\n",
       "13      Blue   861.7945205479452\n",
       "14    Silver  289.09615384615387"
      ]
     },
     "execution_count": 2186,
     "metadata": {},
     "output_type": "execute_result"
    }
   ],
   "source": [
    "df_average_basketball_color = pd.DataFrame()\n",
    "for i in range(len(patterns_basketball_color)):\n",
    "    row = pd.DataFrame({'color':patterns_basketball_color[i], 'average':str(full_data[(full_data['cat']==3)& full_data[patterns_basketball_color[i]+'_basketball']==1].price_cln.mean())}, index=[0])\n",
    "    df_average_basketball_color = pd.concat([row,df_average_basketball_color.loc[:]]).reset_index(drop=True)\n",
    "df_average_basketball_color"
   ]
  },
  {
   "cell_type": "code",
   "execution_count": 2187,
   "id": "6ac3eee9",
   "metadata": {},
   "outputs": [
    {
     "name": "stderr",
     "output_type": "stream",
     "text": [
      "C:\\Users\\motti\\AppData\\Local\\Temp\\ipykernel_19792\\1504342628.py:3: DeprecationWarning: `np.float` is a deprecated alias for the builtin `float`. To silence this warning, use `float` by itself. Doing this will not modify any behavior and is safe. If you specifically wanted the numpy scalar type, use `np.float64` here.\n",
      "Deprecated in NumPy 1.20; for more details and guidance: https://numpy.org/devdocs/release/1.20.0-notes.html#deprecations\n",
      "  y = y.astype(np.float)\n"
     ]
    },
    {
     "data": {
      "text/plain": [
       "<BarContainer object of 15 artists>"
      ]
     },
     "execution_count": 2187,
     "metadata": {},
     "output_type": "execute_result"
    },
    {
     "data": {
      "image/png": "[encoded data removed]",
      "text/plain": [
       "<Figure size 640x480 with 1 Axes>"
      ]
     },
     "metadata": {},
     "output_type": "display_data"
    }
   ],
   "source": [
    "x = np.array(df_average_basketball_color[df_average_basketball_color['average']!='nan'].color)\n",
    "y = np.array(df_average_basketball_color[df_average_basketball_color['average']!='nan'].average)\n",
    "y = y.astype(np.float)\n",
    "plt.barh(x, y)"
   ]
  },
  {
   "cell_type": "markdown",
   "id": "ea641a7d",
   "metadata": {},
   "source": [
    "<h2>Hockey</h2>"
   ]
  },
  {
   "cell_type": "code",
   "execution_count": 2188,
   "id": "52bc1caf",
   "metadata": {},
   "outputs": [],
   "source": [
    "patterns_hockey_color = ['Silver', 'Blue', 'Gold', 'Black', 'Green', 'Hyper', 'Orange', 'Pink', 'Purple', 'Red', 'White', 'Mojo', 'Bronze', 'Platinum', 'Viny']\n",
    "\n",
    "for pattern in patterns_hockey_color:\n",
    "    full_data[pattern+\"_hockey\"] = 0\n",
    "    for i in range(len(full_data)):\n",
    "        if(full_data.at[i,'cat']==4):\n",
    "            try:\n",
    "                if(re.match(\".*\"+pattern+\".*\", full_data.at[i,'title'])):\n",
    "                    full_data.at[i,pattern+\"_hockey\"]=1\n",
    "            except:\n",
    "                    full_data.at[i,pattern+\"_hockey\"]=0\n",
    "\n"
   ]
  },
  {
   "cell_type": "code",
   "execution_count": 2189,
   "id": "779e3ab4",
   "metadata": {},
   "outputs": [
    {
     "data": {
      "text/html": [
       "<div>\n",
       "<style scoped>\n",
       "    .dataframe tbody tr th:only-of-type {\n",
       "        vertical-align: middle;\n",
       "    }\n",
       "\n",
       "    .dataframe tbody tr th {\n",
       "        vertical-align: top;\n",
       "    }\n",
       "\n",
       "    .dataframe thead th {\n",
       "        text-align: right;\n",
       "    }\n",
       "</style>\n",
       "<table border=\"1\" class=\"dataframe\">\n",
       "  <thead>\n",
       "    <tr style=\"text-align: right;\">\n",
       "      <th></th>\n",
       "      <th>color</th>\n",
       "      <th>average</th>\n",
       "    </tr>\n",
       "  </thead>\n",
       "  <tbody>\n",
       "    <tr>\n",
       "      <th>0</th>\n",
       "      <td>Viny</td>\n",
       "      <td>nan</td>\n",
       "    </tr>\n",
       "    <tr>\n",
       "      <th>1</th>\n",
       "      <td>Platinum</td>\n",
       "      <td>774.7777777777778</td>\n",
       "    </tr>\n",
       "    <tr>\n",
       "      <th>2</th>\n",
       "      <td>Bronze</td>\n",
       "      <td>16.0</td>\n",
       "    </tr>\n",
       "    <tr>\n",
       "      <th>3</th>\n",
       "      <td>Mojo</td>\n",
       "      <td>nan</td>\n",
       "    </tr>\n",
       "    <tr>\n",
       "      <th>4</th>\n",
       "      <td>White</td>\n",
       "      <td>179.0</td>\n",
       "    </tr>\n",
       "    <tr>\n",
       "      <th>5</th>\n",
       "      <td>Red</td>\n",
       "      <td>1180.1739130434783</td>\n",
       "    </tr>\n",
       "    <tr>\n",
       "      <th>6</th>\n",
       "      <td>Purple</td>\n",
       "      <td>727.75</td>\n",
       "    </tr>\n",
       "    <tr>\n",
       "      <th>7</th>\n",
       "      <td>Pink</td>\n",
       "      <td>nan</td>\n",
       "    </tr>\n",
       "    <tr>\n",
       "      <th>8</th>\n",
       "      <td>Orange</td>\n",
       "      <td>31.0</td>\n",
       "    </tr>\n",
       "    <tr>\n",
       "      <th>9</th>\n",
       "      <td>Hyper</td>\n",
       "      <td>nan</td>\n",
       "    </tr>\n",
       "    <tr>\n",
       "      <th>10</th>\n",
       "      <td>Green</td>\n",
       "      <td>1840.142857142857</td>\n",
       "    </tr>\n",
       "    <tr>\n",
       "      <th>11</th>\n",
       "      <td>Black</td>\n",
       "      <td>220.8780487804878</td>\n",
       "    </tr>\n",
       "    <tr>\n",
       "      <th>12</th>\n",
       "      <td>Gold</td>\n",
       "      <td>482.32</td>\n",
       "    </tr>\n",
       "    <tr>\n",
       "      <th>13</th>\n",
       "      <td>Blue</td>\n",
       "      <td>96.15</td>\n",
       "    </tr>\n",
       "    <tr>\n",
       "      <th>14</th>\n",
       "      <td>Silver</td>\n",
       "      <td>142.5</td>\n",
       "    </tr>\n",
       "  </tbody>\n",
       "</table>\n",
       "</div>"
      ],
      "text/plain": [
       "       color             average\n",
       "0       Viny                 nan\n",
       "1   Platinum   774.7777777777778\n",
       "2     Bronze                16.0\n",
       "3       Mojo                 nan\n",
       "4      White               179.0\n",
       "5        Red  1180.1739130434783\n",
       "6     Purple              727.75\n",
       "7       Pink                 nan\n",
       "8     Orange                31.0\n",
       "9      Hyper                 nan\n",
       "10     Green   1840.142857142857\n",
       "11     Black   220.8780487804878\n",
       "12      Gold              482.32\n",
       "13      Blue               96.15\n",
       "14    Silver               142.5"
      ]
     },
     "execution_count": 2189,
     "metadata": {},
     "output_type": "execute_result"
    }
   ],
   "source": [
    "df_average_hockey_color = pd.DataFrame()\n",
    "for i in range(len(patterns_hockey_color)):\n",
    "    row = pd.DataFrame({'color':patterns_hockey_color[i], 'average':str(full_data[(full_data['cat']==4)& full_data[patterns_hockey_color[i]+'_hockey']==1].price_cln.mean())}, index=[0])\n",
    "    df_average_hockey_color = pd.concat([row,df_average_hockey_color.loc[:]]).reset_index(drop=True)\n",
    "df_average_hockey_color"
   ]
  },
  {
   "cell_type": "code",
   "execution_count": 2190,
   "id": "e5f550e4",
   "metadata": {},
   "outputs": [
    {
     "name": "stderr",
     "output_type": "stream",
     "text": [
      "C:\\Users\\motti\\AppData\\Local\\Temp\\ipykernel_19792\\2572309677.py:3: DeprecationWarning: `np.float` is a deprecated alias for the builtin `float`. To silence this warning, use `float` by itself. Doing this will not modify any behavior and is safe. If you specifically wanted the numpy scalar type, use `np.float64` here.\n",
      "Deprecated in NumPy 1.20; for more details and guidance: https://numpy.org/devdocs/release/1.20.0-notes.html#deprecations\n",
      "  y = y.astype(np.float)\n"
     ]
    },
    {
     "data": {
      "text/plain": [
       "<BarContainer object of 11 artists>"
      ]
     },
     "execution_count": 2190,
     "metadata": {},
     "output_type": "execute_result"
    },
    {
     "data": {
      "image/png": "[encoded data removed]",
      "text/plain": [
       "<Figure size 640x480 with 1 Axes>"
      ]
     },
     "metadata": {},
     "output_type": "display_data"
    }
   ],
   "source": [
    "x = np.array(df_average_hockey_color[df_average_hockey_color['average']!='nan'].color)\n",
    "y = np.array(df_average_hockey_color[df_average_hockey_color['average']!='nan'].average)\n",
    "y = y.astype(np.float)\n",
    "plt.barh(x, y)"
   ]
  },
  {
   "cell_type": "markdown",
   "id": "b59a18c2",
   "metadata": {},
   "source": [
    "<h1>What about card's condition? Mint or MT means that card is more expensive?</h1>\n"
   ]
  },
  {
   "cell_type": "markdown",
   "id": "7c1b2b62",
   "metadata": {},
   "source": [
    "<h2>Football</h2>"
   ]
  },
  {
   "cell_type": "code",
   "execution_count": 2191,
   "id": "0142421a",
   "metadata": {},
   "outputs": [],
   "source": [
    "\n",
    "patterns_football_condition = ['MT', 'MINT','NM', 'EX', 'VG', 'GD','GOOD', 'FR']\n",
    "\n",
    "for pattern in patterns_football_condition:\n",
    "    full_data[pattern+\"_football\"] = 0\n",
    "    for i in range(len(full_data)):\n",
    "        if(full_data.at[i,'cat']==1):\n",
    "            try:\n",
    "                if(re.match(\".*\"+pattern+\".*\", full_data.at[i,'title'])):\n",
    "                    full_data.at[i,pattern+\"_football\"]=1\n",
    "            except:\n",
    "                    full_data.at[i,pattern+\"_football\"]=0\n",
    "\n"
   ]
  },
  {
   "cell_type": "code",
   "execution_count": 2192,
   "id": "e858e6ed",
   "metadata": {},
   "outputs": [
    {
     "data": {
      "text/html": [
       "<div>\n",
       "<style scoped>\n",
       "    .dataframe tbody tr th:only-of-type {\n",
       "        vertical-align: middle;\n",
       "    }\n",
       "\n",
       "    .dataframe tbody tr th {\n",
       "        vertical-align: top;\n",
       "    }\n",
       "\n",
       "    .dataframe thead th {\n",
       "        text-align: right;\n",
       "    }\n",
       "</style>\n",
       "<table border=\"1\" class=\"dataframe\">\n",
       "  <thead>\n",
       "    <tr style=\"text-align: right;\">\n",
       "      <th></th>\n",
       "      <th>condition</th>\n",
       "      <th>average</th>\n",
       "    </tr>\n",
       "  </thead>\n",
       "  <tbody>\n",
       "    <tr>\n",
       "      <th>0</th>\n",
       "      <td>FR</td>\n",
       "      <td>199.88888888888889</td>\n",
       "    </tr>\n",
       "    <tr>\n",
       "      <th>1</th>\n",
       "      <td>GOOD</td>\n",
       "      <td>83.0</td>\n",
       "    </tr>\n",
       "    <tr>\n",
       "      <th>2</th>\n",
       "      <td>GD</td>\n",
       "      <td>965.1538461538462</td>\n",
       "    </tr>\n",
       "    <tr>\n",
       "      <th>3</th>\n",
       "      <td>VG</td>\n",
       "      <td>561.5142857142857</td>\n",
       "    </tr>\n",
       "    <tr>\n",
       "      <th>4</th>\n",
       "      <td>EX</td>\n",
       "      <td>165.53470437017995</td>\n",
       "    </tr>\n",
       "    <tr>\n",
       "      <th>5</th>\n",
       "      <td>NM</td>\n",
       "      <td>1391.537061994609</td>\n",
       "    </tr>\n",
       "    <tr>\n",
       "      <th>6</th>\n",
       "      <td>MINT</td>\n",
       "      <td>1116.2471855115027</td>\n",
       "    </tr>\n",
       "    <tr>\n",
       "      <th>7</th>\n",
       "      <td>MT</td>\n",
       "      <td>1392.1181948424069</td>\n",
       "    </tr>\n",
       "  </tbody>\n",
       "</table>\n",
       "</div>"
      ],
      "text/plain": [
       "  condition             average\n",
       "0        FR  199.88888888888889\n",
       "1      GOOD                83.0\n",
       "2        GD   965.1538461538462\n",
       "3        VG   561.5142857142857\n",
       "4        EX  165.53470437017995\n",
       "5        NM   1391.537061994609\n",
       "6      MINT  1116.2471855115027\n",
       "7        MT  1392.1181948424069"
      ]
     },
     "execution_count": 2192,
     "metadata": {},
     "output_type": "execute_result"
    }
   ],
   "source": [
    "df_average_football_condition = pd.DataFrame()\n",
    "for i in range(len(patterns_football_condition)):\n",
    "    row = pd.DataFrame({'condition':patterns_football_condition[i], 'average':str(full_data[(full_data['cat']==1)& full_data[patterns_football_condition[i]+'_football']==1].price_cln.mean())}, index=[0])\n",
    "    df_average_football_condition = pd.concat([row,df_average_football_condition.loc[:]]).reset_index(drop=True)\n",
    "df_average_football_condition"
   ]
  },
  {
   "cell_type": "code",
   "execution_count": 2193,
   "id": "5a443597",
   "metadata": {},
   "outputs": [
    {
     "name": "stderr",
     "output_type": "stream",
     "text": [
      "C:\\Users\\motti\\AppData\\Local\\Temp\\ipykernel_19792\\2080099065.py:3: DeprecationWarning: `np.float` is a deprecated alias for the builtin `float`. To silence this warning, use `float` by itself. Doing this will not modify any behavior and is safe. If you specifically wanted the numpy scalar type, use `np.float64` here.\n",
      "Deprecated in NumPy 1.20; for more details and guidance: https://numpy.org/devdocs/release/1.20.0-notes.html#deprecations\n",
      "  y = y.astype(np.float)\n"
     ]
    },
    {
     "data": {
      "text/plain": [
       "<BarContainer object of 8 artists>"
      ]
     },
     "execution_count": 2193,
     "metadata": {},
     "output_type": "execute_result"
    },
    {
     "data": {
      "image/png": "[encoded data removed]",
      "text/plain": [
       "<Figure size 640x480 with 1 Axes>"
      ]
     },
     "metadata": {},
     "output_type": "display_data"
    }
   ],
   "source": [
    "x = np.array(df_average_football_condition[df_average_football_condition['average']!='nan'].condition)\n",
    "y = np.array(df_average_football_condition[df_average_football_condition['average']!='nan'].average)\n",
    "y = y.astype(np.float)\n",
    "plt.barh(x, y)"
   ]
  },
  {
   "cell_type": "markdown",
   "id": "2c72da6e",
   "metadata": {},
   "source": [
    "<h2>Baseball</h2>"
   ]
  },
  {
   "cell_type": "code",
   "execution_count": 2194,
   "id": "46bacec8",
   "metadata": {},
   "outputs": [],
   "source": [
    "\n",
    "patterns_baseball_condition = ['MT', 'MINT','NM', 'EX', 'VG', 'GD','GOOD', 'FR']\n",
    "\n",
    "for pattern in patterns_baseball_condition:\n",
    "    full_data[pattern+\"_baseball\"] = 0\n",
    "    for i in range(len(full_data)):\n",
    "        if(full_data.at[i,'cat']==2):\n",
    "            try:\n",
    "                if(re.match(\".*\"+pattern+\".*\", full_data.at[i,'title'])):\n",
    "                    #Here we can see why most card in condition of FR are expensive, maybe because those cards are more old and their value is higher\n",
    "                    #if(pattern == 'FR'):\n",
    "                    #    print(full_data.at[i,'link'])\n",
    "                    full_data.at[i,pattern+\"_baseball\"]=1\n",
    "            except:\n",
    "                    full_data.at[i,pattern+\"_baseball\"]=0\n",
    "\n"
   ]
  },
  {
   "cell_type": "code",
   "execution_count": 2195,
   "id": "4f21a7f1",
   "metadata": {},
   "outputs": [
    {
     "data": {
      "text/html": [
       "<div>\n",
       "<style scoped>\n",
       "    .dataframe tbody tr th:only-of-type {\n",
       "        vertical-align: middle;\n",
       "    }\n",
       "\n",
       "    .dataframe tbody tr th {\n",
       "        vertical-align: top;\n",
       "    }\n",
       "\n",
       "    .dataframe thead th {\n",
       "        text-align: right;\n",
       "    }\n",
       "</style>\n",
       "<table border=\"1\" class=\"dataframe\">\n",
       "  <thead>\n",
       "    <tr style=\"text-align: right;\">\n",
       "      <th></th>\n",
       "      <th>condition</th>\n",
       "      <th>average</th>\n",
       "    </tr>\n",
       "  </thead>\n",
       "  <tbody>\n",
       "    <tr>\n",
       "      <th>0</th>\n",
       "      <td>FR</td>\n",
       "      <td>2434.060606060606</td>\n",
       "    </tr>\n",
       "    <tr>\n",
       "      <th>1</th>\n",
       "      <td>GOOD</td>\n",
       "      <td>11400.0</td>\n",
       "    </tr>\n",
       "    <tr>\n",
       "      <th>2</th>\n",
       "      <td>GD</td>\n",
       "      <td>2016.6336633663366</td>\n",
       "    </tr>\n",
       "    <tr>\n",
       "      <th>3</th>\n",
       "      <td>VG</td>\n",
       "      <td>2016.909090909091</td>\n",
       "    </tr>\n",
       "    <tr>\n",
       "      <th>4</th>\n",
       "      <td>EX</td>\n",
       "      <td>1244.5533333333333</td>\n",
       "    </tr>\n",
       "    <tr>\n",
       "      <th>5</th>\n",
       "      <td>NM</td>\n",
       "      <td>634.0801796023092</td>\n",
       "    </tr>\n",
       "    <tr>\n",
       "      <th>6</th>\n",
       "      <td>MINT</td>\n",
       "      <td>862.4106164383562</td>\n",
       "    </tr>\n",
       "    <tr>\n",
       "      <th>7</th>\n",
       "      <td>MT</td>\n",
       "      <td>668.3697855291068</td>\n",
       "    </tr>\n",
       "  </tbody>\n",
       "</table>\n",
       "</div>"
      ],
      "text/plain": [
       "  condition             average\n",
       "0        FR   2434.060606060606\n",
       "1      GOOD             11400.0\n",
       "2        GD  2016.6336633663366\n",
       "3        VG   2016.909090909091\n",
       "4        EX  1244.5533333333333\n",
       "5        NM   634.0801796023092\n",
       "6      MINT   862.4106164383562\n",
       "7        MT   668.3697855291068"
      ]
     },
     "execution_count": 2195,
     "metadata": {},
     "output_type": "execute_result"
    }
   ],
   "source": [
    "df_average_baseball_condition = pd.DataFrame()\n",
    "for i in range(len(patterns_baseball_condition)):\n",
    "    row = pd.DataFrame({'condition':patterns_baseball_condition[i], 'average':str(full_data[(full_data['cat']==2)& full_data[patterns_baseball_condition[i]+'_baseball']==1].price_cln.mean())}, index=[0])\n",
    "    df_average_baseball_condition = pd.concat([row,df_average_baseball_condition.loc[:]]).reset_index(drop=True)\n",
    "df_average_baseball_condition"
   ]
  },
  {
   "cell_type": "code",
   "execution_count": 2196,
   "id": "071cf86b",
   "metadata": {},
   "outputs": [
    {
     "name": "stderr",
     "output_type": "stream",
     "text": [
      "C:\\Users\\motti\\AppData\\Local\\Temp\\ipykernel_19792\\3388700854.py:3: DeprecationWarning: `np.float` is a deprecated alias for the builtin `float`. To silence this warning, use `float` by itself. Doing this will not modify any behavior and is safe. If you specifically wanted the numpy scalar type, use `np.float64` here.\n",
      "Deprecated in NumPy 1.20; for more details and guidance: https://numpy.org/devdocs/release/1.20.0-notes.html#deprecations\n",
      "  y = y.astype(np.float)\n"
     ]
    },
    {
     "data": {
      "text/plain": [
       "<BarContainer object of 8 artists>"
      ]
     },
     "execution_count": 2196,
     "metadata": {},
     "output_type": "execute_result"
    },
    {
     "data": {
      "image/png": "[encoded data removed]",
      "text/plain": [
       "<Figure size 640x480 with 1 Axes>"
      ]
     },
     "metadata": {},
     "output_type": "display_data"
    }
   ],
   "source": [
    "x = np.array(df_average_baseball_condition[df_average_baseball_condition['average']!='nan'].condition)\n",
    "y = np.array(df_average_baseball_condition[df_average_baseball_condition['average']!='nan'].average)\n",
    "y = y.astype(np.float)\n",
    "plt.barh(x, y)"
   ]
  },
  {
   "cell_type": "markdown",
   "id": "d0ee7eea",
   "metadata": {},
   "source": [
    "What a surprise! Why do cards in condition of FR or GOOD are expensive than MINT or MT? I think that it's because that cards in fair condition are older therefore those cards are rare"
   ]
  },
  {
   "cell_type": "markdown",
   "id": "55765d23",
   "metadata": {},
   "source": [
    "<h2>Baketball</h2>"
   ]
  },
  {
   "cell_type": "code",
   "execution_count": 2197,
   "id": "4421d66a",
   "metadata": {},
   "outputs": [],
   "source": [
    "\n",
    "patterns_basketball_condition = ['MT', 'MINT','NM', 'EX', 'VG', 'GD','GOOD', 'FR']\n",
    "\n",
    "for pattern in patterns_basketball_condition:\n",
    "    full_data[pattern+\"_basketball\"] = 0\n",
    "    for i in range(len(full_data)):\n",
    "        if(full_data.at[i,'cat']==3):\n",
    "            try:\n",
    "                if(re.match(\".*\"+pattern+\".*\", full_data.at[i,'title'])):\n",
    "                    full_data.at[i,pattern+\"_basketball\"]=1\n",
    "            except:\n",
    "                    full_data.at[i,pattern+\"_basketball\"]=0\n",
    "\n"
   ]
  },
  {
   "cell_type": "code",
   "execution_count": 2198,
   "id": "24f51ef3",
   "metadata": {},
   "outputs": [
    {
     "data": {
      "text/html": [
       "<div>\n",
       "<style scoped>\n",
       "    .dataframe tbody tr th:only-of-type {\n",
       "        vertical-align: middle;\n",
       "    }\n",
       "\n",
       "    .dataframe tbody tr th {\n",
       "        vertical-align: top;\n",
       "    }\n",
       "\n",
       "    .dataframe thead th {\n",
       "        text-align: right;\n",
       "    }\n",
       "</style>\n",
       "<table border=\"1\" class=\"dataframe\">\n",
       "  <thead>\n",
       "    <tr style=\"text-align: right;\">\n",
       "      <th></th>\n",
       "      <th>condition</th>\n",
       "      <th>average</th>\n",
       "    </tr>\n",
       "  </thead>\n",
       "  <tbody>\n",
       "    <tr>\n",
       "      <th>0</th>\n",
       "      <td>FR</td>\n",
       "      <td>100.26666666666667</td>\n",
       "    </tr>\n",
       "    <tr>\n",
       "      <th>1</th>\n",
       "      <td>GOOD</td>\n",
       "      <td>nan</td>\n",
       "    </tr>\n",
       "    <tr>\n",
       "      <th>2</th>\n",
       "      <td>GD</td>\n",
       "      <td>549.875</td>\n",
       "    </tr>\n",
       "    <tr>\n",
       "      <th>3</th>\n",
       "      <td>VG</td>\n",
       "      <td>3131.4328358208954</td>\n",
       "    </tr>\n",
       "    <tr>\n",
       "      <th>4</th>\n",
       "      <td>EX</td>\n",
       "      <td>1075.8445692883895</td>\n",
       "    </tr>\n",
       "    <tr>\n",
       "      <th>5</th>\n",
       "      <td>NM</td>\n",
       "      <td>1316.6266924564798</td>\n",
       "    </tr>\n",
       "    <tr>\n",
       "      <th>6</th>\n",
       "      <td>MINT</td>\n",
       "      <td>1879.8796680497926</td>\n",
       "    </tr>\n",
       "    <tr>\n",
       "      <th>7</th>\n",
       "      <td>MT</td>\n",
       "      <td>1743.3588812980358</td>\n",
       "    </tr>\n",
       "  </tbody>\n",
       "</table>\n",
       "</div>"
      ],
      "text/plain": [
       "  condition             average\n",
       "0        FR  100.26666666666667\n",
       "1      GOOD                 nan\n",
       "2        GD             549.875\n",
       "3        VG  3131.4328358208954\n",
       "4        EX  1075.8445692883895\n",
       "5        NM  1316.6266924564798\n",
       "6      MINT  1879.8796680497926\n",
       "7        MT  1743.3588812980358"
      ]
     },
     "execution_count": 2198,
     "metadata": {},
     "output_type": "execute_result"
    }
   ],
   "source": [
    "df_average_basketball_condition = pd.DataFrame()\n",
    "for i in range(len(patterns_basketball_condition)):\n",
    "    row = pd.DataFrame({'condition':patterns_basketball_condition[i], 'average':str(full_data[(full_data['cat']==3)& full_data[patterns_basketball_condition[i]+'_basketball']==1].price_cln.mean())}, index=[0])\n",
    "    df_average_basketball_condition = pd.concat([row,df_average_basketball_condition.loc[:]]).reset_index(drop=True)\n",
    "df_average_basketball_condition"
   ]
  },
  {
   "cell_type": "code",
   "execution_count": 2199,
   "id": "cc9b376a",
   "metadata": {},
   "outputs": [
    {
     "name": "stderr",
     "output_type": "stream",
     "text": [
      "C:\\Users\\motti\\AppData\\Local\\Temp\\ipykernel_19792\\668477877.py:3: DeprecationWarning: `np.float` is a deprecated alias for the builtin `float`. To silence this warning, use `float` by itself. Doing this will not modify any behavior and is safe. If you specifically wanted the numpy scalar type, use `np.float64` here.\n",
      "Deprecated in NumPy 1.20; for more details and guidance: https://numpy.org/devdocs/release/1.20.0-notes.html#deprecations\n",
      "  y = y.astype(np.float)\n"
     ]
    },
    {
     "data": {
      "text/plain": [
       "<BarContainer object of 7 artists>"
      ]
     },
     "execution_count": 2199,
     "metadata": {},
     "output_type": "execute_result"
    },
    {
     "data": {
      "image/png": "[encoded data removed]",
      "text/plain": [
       "<Figure size 640x480 with 1 Axes>"
      ]
     },
     "metadata": {},
     "output_type": "display_data"
    }
   ],
   "source": [
    "x = np.array(df_average_basketball_condition[df_average_basketball_condition['average']!='nan'].condition)\n",
    "y = np.array(df_average_basketball_condition[df_average_basketball_condition['average']!='nan'].average)\n",
    "y = y.astype(np.float)\n",
    "plt.barh(x, y)"
   ]
  },
  {
   "cell_type": "markdown",
   "id": "b33b36f6",
   "metadata": {},
   "source": [
    "<h2>Hockey</h2>"
   ]
  },
  {
   "cell_type": "code",
   "execution_count": 2200,
   "id": "c6a2212c",
   "metadata": {},
   "outputs": [],
   "source": [
    "\n",
    "patterns_hockey_condition = ['MT', 'MINT','NM', 'EX', 'VG', 'GD','GOOD', 'FR']\n",
    "\n",
    "for pattern in patterns_hockey_condition:\n",
    "    full_data[pattern+\"_hockey\"] = 0\n",
    "    for i in range(len(full_data)):\n",
    "        if(full_data.at[i,'cat']==4):\n",
    "            try:\n",
    "                if(re.match(\".*\"+pattern+\".*\", full_data.at[i,'title'])):\n",
    "                    full_data.at[i,pattern+\"_hockey\"]=1\n",
    "            except:\n",
    "                    full_data.at[i,pattern+\"_hockey\"]=0\n",
    "\n"
   ]
  },
  {
   "cell_type": "code",
   "execution_count": 2201,
   "id": "af407518",
   "metadata": {},
   "outputs": [
    {
     "data": {
      "text/html": [
       "<div>\n",
       "<style scoped>\n",
       "    .dataframe tbody tr th:only-of-type {\n",
       "        vertical-align: middle;\n",
       "    }\n",
       "\n",
       "    .dataframe tbody tr th {\n",
       "        vertical-align: top;\n",
       "    }\n",
       "\n",
       "    .dataframe thead th {\n",
       "        text-align: right;\n",
       "    }\n",
       "</style>\n",
       "<table border=\"1\" class=\"dataframe\">\n",
       "  <thead>\n",
       "    <tr style=\"text-align: right;\">\n",
       "      <th></th>\n",
       "      <th>condition</th>\n",
       "      <th>average</th>\n",
       "    </tr>\n",
       "  </thead>\n",
       "  <tbody>\n",
       "    <tr>\n",
       "      <th>0</th>\n",
       "      <td>FR</td>\n",
       "      <td>267.5</td>\n",
       "    </tr>\n",
       "    <tr>\n",
       "      <th>1</th>\n",
       "      <td>GOOD</td>\n",
       "      <td>nan</td>\n",
       "    </tr>\n",
       "    <tr>\n",
       "      <th>2</th>\n",
       "      <td>GD</td>\n",
       "      <td>443.5</td>\n",
       "    </tr>\n",
       "    <tr>\n",
       "      <th>3</th>\n",
       "      <td>VG</td>\n",
       "      <td>922.8095238095239</td>\n",
       "    </tr>\n",
       "    <tr>\n",
       "      <th>4</th>\n",
       "      <td>EX</td>\n",
       "      <td>586.9753086419753</td>\n",
       "    </tr>\n",
       "    <tr>\n",
       "      <th>5</th>\n",
       "      <td>NM</td>\n",
       "      <td>943.6059907834101</td>\n",
       "    </tr>\n",
       "    <tr>\n",
       "      <th>6</th>\n",
       "      <td>MINT</td>\n",
       "      <td>1016.0196629213483</td>\n",
       "    </tr>\n",
       "    <tr>\n",
       "      <th>7</th>\n",
       "      <td>MT</td>\n",
       "      <td>1008.8968531468531</td>\n",
       "    </tr>\n",
       "  </tbody>\n",
       "</table>\n",
       "</div>"
      ],
      "text/plain": [
       "  condition             average\n",
       "0        FR               267.5\n",
       "1      GOOD                 nan\n",
       "2        GD               443.5\n",
       "3        VG   922.8095238095239\n",
       "4        EX   586.9753086419753\n",
       "5        NM   943.6059907834101\n",
       "6      MINT  1016.0196629213483\n",
       "7        MT  1008.8968531468531"
      ]
     },
     "execution_count": 2201,
     "metadata": {},
     "output_type": "execute_result"
    }
   ],
   "source": [
    "df_average_hockey_condition = pd.DataFrame()\n",
    "for i in range(len(patterns_hockey_condition)):\n",
    "    row = pd.DataFrame({'condition':patterns_hockey_condition[i], 'average':str(full_data[(full_data['cat']==4)& full_data[patterns_hockey_condition[i]+'_hockey']==1].price_cln.mean())}, index=[0])\n",
    "    df_average_hockey_condition = pd.concat([row,df_average_hockey_condition.loc[:]]).reset_index(drop=True)\n",
    "df_average_hockey_condition"
   ]
  },
  {
   "cell_type": "code",
   "execution_count": 2202,
   "id": "c31ff4e5",
   "metadata": {},
   "outputs": [
    {
     "name": "stderr",
     "output_type": "stream",
     "text": [
      "C:\\Users\\motti\\AppData\\Local\\Temp\\ipykernel_19792\\1374694798.py:3: DeprecationWarning: `np.float` is a deprecated alias for the builtin `float`. To silence this warning, use `float` by itself. Doing this will not modify any behavior and is safe. If you specifically wanted the numpy scalar type, use `np.float64` here.\n",
      "Deprecated in NumPy 1.20; for more details and guidance: https://numpy.org/devdocs/release/1.20.0-notes.html#deprecations\n",
      "  y = y.astype(np.float)\n"
     ]
    },
    {
     "data": {
      "text/plain": [
       "<BarContainer object of 7 artists>"
      ]
     },
     "execution_count": 2202,
     "metadata": {},
     "output_type": "execute_result"
    },
    {
     "data": {
      "image/png": "[encoded data removed]",
      "text/plain": [
       "<Figure size 640x480 with 1 Axes>"
      ]
     },
     "metadata": {},
     "output_type": "display_data"
    }
   ],
   "source": [
    "x = np.array(df_average_hockey_condition[df_average_hockey_condition['average']!='nan'].condition)\n",
    "y = np.array(df_average_hockey_condition[df_average_hockey_condition['average']!='nan'].average)\n",
    "y = y.astype(np.float)\n",
    "plt.barh(x, y)"
   ]
  },
  {
   "cell_type": "markdown",
   "id": "7fd911be",
   "metadata": {},
   "source": [
    "<h1>There are trading cards manufacturers that make more expensive cards? which?</h1>"
   ]
  },
  {
   "cell_type": "markdown",
   "id": "cf002ee2",
   "metadata": {},
   "source": [
    "<h2>Football</h2>"
   ]
  },
  {
   "cell_type": "code",
   "execution_count": 2203,
   "id": "398c6c28",
   "metadata": {},
   "outputs": [],
   "source": [
    "\n",
    "patterns_football_manufacturer = ['Topps', 'Upper Deck','Panini', 'In The Game', 'Press Pass', 'Tristar','SkyBox', 'Leaf', 'SAGE']\n",
    "\n",
    "for pattern in patterns_football_manufacturer:\n",
    "    full_data[pattern+\"_football\"] = 0\n",
    "    for i in range(len(full_data)):\n",
    "        if(full_data.at[i,'cat']==1):\n",
    "            try:\n",
    "                if(re.match(\".*\"+pattern+\".*\", full_data.at[i,'title'])):\n",
    "                    full_data.at[i,pattern+\"_football\"]=1\n",
    "            except:\n",
    "                    full_data.at[i,pattern+\"_football\"]=0\n",
    "\n"
   ]
  },
  {
   "cell_type": "code",
   "execution_count": 2204,
   "id": "15c6fd04",
   "metadata": {},
   "outputs": [
    {
     "data": {
      "text/html": [
       "<div>\n",
       "<style scoped>\n",
       "    .dataframe tbody tr th:only-of-type {\n",
       "        vertical-align: middle;\n",
       "    }\n",
       "\n",
       "    .dataframe tbody tr th {\n",
       "        vertical-align: top;\n",
       "    }\n",
       "\n",
       "    .dataframe thead th {\n",
       "        text-align: right;\n",
       "    }\n",
       "</style>\n",
       "<table border=\"1\" class=\"dataframe\">\n",
       "  <thead>\n",
       "    <tr style=\"text-align: right;\">\n",
       "      <th></th>\n",
       "      <th>manufacturer</th>\n",
       "      <th>average</th>\n",
       "    </tr>\n",
       "  </thead>\n",
       "  <tbody>\n",
       "    <tr>\n",
       "      <th>0</th>\n",
       "      <td>SAGE</td>\n",
       "      <td>nan</td>\n",
       "    </tr>\n",
       "    <tr>\n",
       "      <th>1</th>\n",
       "      <td>Leaf</td>\n",
       "      <td>107.23015873015873</td>\n",
       "    </tr>\n",
       "    <tr>\n",
       "      <th>2</th>\n",
       "      <td>SkyBox</td>\n",
       "      <td>134.54545454545453</td>\n",
       "    </tr>\n",
       "    <tr>\n",
       "      <th>3</th>\n",
       "      <td>Tristar</td>\n",
       "      <td>nan</td>\n",
       "    </tr>\n",
       "    <tr>\n",
       "      <th>4</th>\n",
       "      <td>Press Pass</td>\n",
       "      <td>550.8421052631579</td>\n",
       "    </tr>\n",
       "    <tr>\n",
       "      <th>5</th>\n",
       "      <td>In The Game</td>\n",
       "      <td>nan</td>\n",
       "    </tr>\n",
       "    <tr>\n",
       "      <th>6</th>\n",
       "      <td>Panini</td>\n",
       "      <td>1565.1386239782016</td>\n",
       "    </tr>\n",
       "    <tr>\n",
       "      <th>7</th>\n",
       "      <td>Upper Deck</td>\n",
       "      <td>1715.0412844036698</td>\n",
       "    </tr>\n",
       "    <tr>\n",
       "      <th>8</th>\n",
       "      <td>Topps</td>\n",
       "      <td>380.00493096646943</td>\n",
       "    </tr>\n",
       "  </tbody>\n",
       "</table>\n",
       "</div>"
      ],
      "text/plain": [
       "  manufacturer             average\n",
       "0         SAGE                 nan\n",
       "1         Leaf  107.23015873015873\n",
       "2       SkyBox  134.54545454545453\n",
       "3      Tristar                 nan\n",
       "4   Press Pass   550.8421052631579\n",
       "5  In The Game                 nan\n",
       "6       Panini  1565.1386239782016\n",
       "7   Upper Deck  1715.0412844036698\n",
       "8        Topps  380.00493096646943"
      ]
     },
     "execution_count": 2204,
     "metadata": {},
     "output_type": "execute_result"
    }
   ],
   "source": [
    "df_average_football_manufacturer = pd.DataFrame()\n",
    "for i in range(len(patterns_football_manufacturer)):\n",
    "    row = pd.DataFrame({'manufacturer':patterns_football_manufacturer[i], 'average':str(full_data[(full_data['cat']==1)& full_data[patterns_football_manufacturer[i]+'_football']==1].price_cln.mean())}, index=[0])\n",
    "    df_average_football_manufacturer = pd.concat([row,df_average_football_manufacturer.loc[:]]).reset_index(drop=True)\n",
    "df_average_football_manufacturer"
   ]
  },
  {
   "cell_type": "code",
   "execution_count": 2205,
   "id": "21e8f801",
   "metadata": {},
   "outputs": [
    {
     "name": "stderr",
     "output_type": "stream",
     "text": [
      "C:\\Users\\motti\\AppData\\Local\\Temp\\ipykernel_19792\\3749515697.py:3: DeprecationWarning: `np.float` is a deprecated alias for the builtin `float`. To silence this warning, use `float` by itself. Doing this will not modify any behavior and is safe. If you specifically wanted the numpy scalar type, use `np.float64` here.\n",
      "Deprecated in NumPy 1.20; for more details and guidance: https://numpy.org/devdocs/release/1.20.0-notes.html#deprecations\n",
      "  y = y.astype(np.float)\n"
     ]
    },
    {
     "data": {
      "text/plain": [
       "<BarContainer object of 6 artists>"
      ]
     },
     "execution_count": 2205,
     "metadata": {},
     "output_type": "execute_result"
    },
    {
     "data": {
      "image/png": "[encoded data removed]",
      "text/plain": [
       "<Figure size 640x480 with 1 Axes>"
      ]
     },
     "metadata": {},
     "output_type": "display_data"
    }
   ],
   "source": [
    "x = np.array(df_average_football_manufacturer[df_average_football_manufacturer['average']!='nan'].manufacturer)\n",
    "y = np.array(df_average_football_manufacturer[df_average_football_manufacturer['average']!='nan'].average)\n",
    "y = y.astype(np.float)\n",
    "plt.barh(x, y)"
   ]
  },
  {
   "cell_type": "markdown",
   "id": "2f897ed9",
   "metadata": {},
   "source": [
    "<h2>Baseball</h2>"
   ]
  },
  {
   "cell_type": "code",
   "execution_count": 2206,
   "id": "b77cca52",
   "metadata": {},
   "outputs": [],
   "source": [
    "\n",
    "patterns_baseball_manufacturer = ['Topps', 'Upper Deck','Panini', 'In The Game', 'Press Pass', 'Tristar','SkyBox', 'Leaf', 'SAGE']\n",
    "\n",
    "for pattern in patterns_baseball_manufacturer:\n",
    "    full_data[pattern+\"_baseball\"] = 0\n",
    "    for i in range(len(full_data)):\n",
    "        if(full_data.at[i,'cat']==2):\n",
    "            try:\n",
    "                if(re.match(\".*\"+pattern+\".*\", full_data.at[i,'title'])):\n",
    "                    full_data.at[i,pattern+\"_baseball\"]=1\n",
    "            except:\n",
    "                    full_data.at[i,pattern+\"_baseball\"]=0\n",
    "\n"
   ]
  },
  {
   "cell_type": "code",
   "execution_count": 2207,
   "id": "1734801c",
   "metadata": {},
   "outputs": [
    {
     "data": {
      "text/html": [
       "<div>\n",
       "<style scoped>\n",
       "    .dataframe tbody tr th:only-of-type {\n",
       "        vertical-align: middle;\n",
       "    }\n",
       "\n",
       "    .dataframe tbody tr th {\n",
       "        vertical-align: top;\n",
       "    }\n",
       "\n",
       "    .dataframe thead th {\n",
       "        text-align: right;\n",
       "    }\n",
       "</style>\n",
       "<table border=\"1\" class=\"dataframe\">\n",
       "  <thead>\n",
       "    <tr style=\"text-align: right;\">\n",
       "      <th></th>\n",
       "      <th>manufacturer</th>\n",
       "      <th>average</th>\n",
       "    </tr>\n",
       "  </thead>\n",
       "  <tbody>\n",
       "    <tr>\n",
       "      <th>0</th>\n",
       "      <td>SAGE</td>\n",
       "      <td>nan</td>\n",
       "    </tr>\n",
       "    <tr>\n",
       "      <th>1</th>\n",
       "      <td>Leaf</td>\n",
       "      <td>699.6355140186915</td>\n",
       "    </tr>\n",
       "    <tr>\n",
       "      <th>2</th>\n",
       "      <td>SkyBox</td>\n",
       "      <td>4359.1</td>\n",
       "    </tr>\n",
       "    <tr>\n",
       "      <th>3</th>\n",
       "      <td>Tristar</td>\n",
       "      <td>269.0</td>\n",
       "    </tr>\n",
       "    <tr>\n",
       "      <th>4</th>\n",
       "      <td>Press Pass</td>\n",
       "      <td>nan</td>\n",
       "    </tr>\n",
       "    <tr>\n",
       "      <th>5</th>\n",
       "      <td>In The Game</td>\n",
       "      <td>13.0</td>\n",
       "    </tr>\n",
       "    <tr>\n",
       "      <th>6</th>\n",
       "      <td>Panini</td>\n",
       "      <td>584.8834745762712</td>\n",
       "    </tr>\n",
       "    <tr>\n",
       "      <th>7</th>\n",
       "      <td>Upper Deck</td>\n",
       "      <td>616.6917960088692</td>\n",
       "    </tr>\n",
       "    <tr>\n",
       "      <th>8</th>\n",
       "      <td>Topps</td>\n",
       "      <td>662.7442042198489</td>\n",
       "    </tr>\n",
       "  </tbody>\n",
       "</table>\n",
       "</div>"
      ],
      "text/plain": [
       "  manufacturer            average\n",
       "0         SAGE                nan\n",
       "1         Leaf  699.6355140186915\n",
       "2       SkyBox             4359.1\n",
       "3      Tristar              269.0\n",
       "4   Press Pass                nan\n",
       "5  In The Game               13.0\n",
       "6       Panini  584.8834745762712\n",
       "7   Upper Deck  616.6917960088692\n",
       "8        Topps  662.7442042198489"
      ]
     },
     "execution_count": 2207,
     "metadata": {},
     "output_type": "execute_result"
    }
   ],
   "source": [
    "df_average_baseball_manufacturer = pd.DataFrame()\n",
    "for i in range(len(patterns_baseball_manufacturer)):\n",
    "    row = pd.DataFrame({'manufacturer':patterns_baseball_manufacturer[i], 'average':str(full_data[(full_data['cat']==2)& full_data[patterns_baseball_manufacturer[i]+'_baseball']==1].price_cln.mean())}, index=[0])\n",
    "    df_average_baseball_manufacturer = pd.concat([row,df_average_baseball_manufacturer.loc[:]]).reset_index(drop=True)\n",
    "df_average_baseball_manufacturer"
   ]
  },
  {
   "cell_type": "code",
   "execution_count": 2208,
   "id": "c33104b1",
   "metadata": {},
   "outputs": [
    {
     "name": "stderr",
     "output_type": "stream",
     "text": [
      "C:\\Users\\motti\\AppData\\Local\\Temp\\ipykernel_19792\\2340069780.py:3: DeprecationWarning: `np.float` is a deprecated alias for the builtin `float`. To silence this warning, use `float` by itself. Doing this will not modify any behavior and is safe. If you specifically wanted the numpy scalar type, use `np.float64` here.\n",
      "Deprecated in NumPy 1.20; for more details and guidance: https://numpy.org/devdocs/release/1.20.0-notes.html#deprecations\n",
      "  y = y.astype(np.float)\n"
     ]
    },
    {
     "data": {
      "text/plain": [
       "<BarContainer object of 7 artists>"
      ]
     },
     "execution_count": 2208,
     "metadata": {},
     "output_type": "execute_result"
    },
    {
     "data": {
      "image/png": "[encoded data removed]",
      "text/plain": [
       "<Figure size 640x480 with 1 Axes>"
      ]
     },
     "metadata": {},
     "output_type": "display_data"
    }
   ],
   "source": [
    "x = np.array(df_average_baseball_manufacturer[df_average_baseball_manufacturer['average']!='nan'].manufacturer)\n",
    "y = np.array(df_average_baseball_manufacturer[df_average_baseball_manufacturer['average']!='nan'].average)\n",
    "y = y.astype(np.float)\n",
    "plt.barh(x, y)"
   ]
  },
  {
   "cell_type": "markdown",
   "id": "da57b8a8",
   "metadata": {},
   "source": [
    "<h2>Basketball</h2>"
   ]
  },
  {
   "cell_type": "code",
   "execution_count": 2209,
   "id": "c9b10c96",
   "metadata": {},
   "outputs": [],
   "source": [
    "\n",
    "patterns_basketball_manufacturer = ['Topps', 'Upper Deck','Panini', 'In The Game', 'Press Pass', 'Tristar','SkyBox', 'Leaf', 'SAGE']\n",
    "\n",
    "for pattern in patterns_basketball_manufacturer:\n",
    "    full_data[pattern+\"_basketball\"] = 0\n",
    "    for i in range(len(full_data)):\n",
    "        if(full_data.at[i,'cat']==3):\n",
    "            try:\n",
    "                if(re.match(\".*\"+pattern+\".*\", full_data.at[i,'title'])):\n",
    "                    full_data.at[i,pattern+\"_basketball\"]=1\n",
    "            except:\n",
    "                    full_data.at[i,pattern+\"_basketball\"]=0\n",
    "\n"
   ]
  },
  {
   "cell_type": "code",
   "execution_count": 2210,
   "id": "cfdaca9c",
   "metadata": {},
   "outputs": [
    {
     "data": {
      "text/html": [
       "<div>\n",
       "<style scoped>\n",
       "    .dataframe tbody tr th:only-of-type {\n",
       "        vertical-align: middle;\n",
       "    }\n",
       "\n",
       "    .dataframe tbody tr th {\n",
       "        vertical-align: top;\n",
       "    }\n",
       "\n",
       "    .dataframe thead th {\n",
       "        text-align: right;\n",
       "    }\n",
       "</style>\n",
       "<table border=\"1\" class=\"dataframe\">\n",
       "  <thead>\n",
       "    <tr style=\"text-align: right;\">\n",
       "      <th></th>\n",
       "      <th>manufacturer</th>\n",
       "      <th>average</th>\n",
       "    </tr>\n",
       "  </thead>\n",
       "  <tbody>\n",
       "    <tr>\n",
       "      <th>0</th>\n",
       "      <td>SAGE</td>\n",
       "      <td>nan</td>\n",
       "    </tr>\n",
       "    <tr>\n",
       "      <th>1</th>\n",
       "      <td>Leaf</td>\n",
       "      <td>220.54545454545453</td>\n",
       "    </tr>\n",
       "    <tr>\n",
       "      <th>2</th>\n",
       "      <td>SkyBox</td>\n",
       "      <td>2516.0923482849603</td>\n",
       "    </tr>\n",
       "    <tr>\n",
       "      <th>3</th>\n",
       "      <td>Tristar</td>\n",
       "      <td>nan</td>\n",
       "    </tr>\n",
       "    <tr>\n",
       "      <th>4</th>\n",
       "      <td>Press Pass</td>\n",
       "      <td>446.5</td>\n",
       "    </tr>\n",
       "    <tr>\n",
       "      <th>5</th>\n",
       "      <td>In The Game</td>\n",
       "      <td>841.0</td>\n",
       "    </tr>\n",
       "    <tr>\n",
       "      <th>6</th>\n",
       "      <td>Panini</td>\n",
       "      <td>1245.3744594250827</td>\n",
       "    </tr>\n",
       "    <tr>\n",
       "      <th>7</th>\n",
       "      <td>Upper Deck</td>\n",
       "      <td>2802.4946682464456</td>\n",
       "    </tr>\n",
       "    <tr>\n",
       "      <th>8</th>\n",
       "      <td>Topps</td>\n",
       "      <td>1752.6157501697217</td>\n",
       "    </tr>\n",
       "  </tbody>\n",
       "</table>\n",
       "</div>"
      ],
      "text/plain": [
       "  manufacturer             average\n",
       "0         SAGE                 nan\n",
       "1         Leaf  220.54545454545453\n",
       "2       SkyBox  2516.0923482849603\n",
       "3      Tristar                 nan\n",
       "4   Press Pass               446.5\n",
       "5  In The Game               841.0\n",
       "6       Panini  1245.3744594250827\n",
       "7   Upper Deck  2802.4946682464456\n",
       "8        Topps  1752.6157501697217"
      ]
     },
     "execution_count": 2210,
     "metadata": {},
     "output_type": "execute_result"
    }
   ],
   "source": [
    "df_average_basketball_manufacturer = pd.DataFrame()\n",
    "for i in range(len(patterns_basketball_manufacturer)):\n",
    "    row = pd.DataFrame({'manufacturer':patterns_basketball_manufacturer[i], 'average':str(full_data[(full_data['cat']==3)& full_data[patterns_basketball_manufacturer[i]+'_basketball']==1].price_cln.mean())}, index=[0])\n",
    "    df_average_basketball_manufacturer = pd.concat([row,df_average_basketball_manufacturer.loc[:]]).reset_index(drop=True)\n",
    "df_average_basketball_manufacturer"
   ]
  },
  {
   "cell_type": "code",
   "execution_count": 2211,
   "id": "eb873cb4",
   "metadata": {},
   "outputs": [
    {
     "name": "stderr",
     "output_type": "stream",
     "text": [
      "C:\\Users\\motti\\AppData\\Local\\Temp\\ipykernel_19792\\789729603.py:3: DeprecationWarning: `np.float` is a deprecated alias for the builtin `float`. To silence this warning, use `float` by itself. Doing this will not modify any behavior and is safe. If you specifically wanted the numpy scalar type, use `np.float64` here.\n",
      "Deprecated in NumPy 1.20; for more details and guidance: https://numpy.org/devdocs/release/1.20.0-notes.html#deprecations\n",
      "  y = y.astype(np.float)\n"
     ]
    },
    {
     "data": {
      "text/plain": [
       "<BarContainer object of 7 artists>"
      ]
     },
     "execution_count": 2211,
     "metadata": {},
     "output_type": "execute_result"
    },
    {
     "data": {
      "image/png": "[encoded data removed]",
      "text/plain": [
       "<Figure size 640x480 with 1 Axes>"
      ]
     },
     "metadata": {},
     "output_type": "display_data"
    }
   ],
   "source": [
    "x = np.array(df_average_basketball_manufacturer[df_average_basketball_manufacturer['average']!='nan'].manufacturer)\n",
    "y = np.array(df_average_basketball_manufacturer[df_average_basketball_manufacturer['average']!='nan'].average)\n",
    "y = y.astype(np.float)\n",
    "plt.barh(x, y)"
   ]
  },
  {
   "cell_type": "markdown",
   "id": "73e60801",
   "metadata": {},
   "source": [
    "<h2>Hockey</h2>"
   ]
  },
  {
   "cell_type": "code",
   "execution_count": 2212,
   "id": "8fe8d8e9",
   "metadata": {},
   "outputs": [],
   "source": [
    "\n",
    "patterns_hockey_manufacturer = ['Topps', 'Upper Deck','Panini', 'In The Game', 'Press Pass', 'Tristar','SkyBox', 'Leaf', 'SAGE']\n",
    "\n",
    "for pattern in patterns_hockey_manufacturer:\n",
    "    full_data[pattern+\"_hockey\"] = 0\n",
    "    for i in range(len(full_data)):\n",
    "        if(full_data.at[i,'cat']==4):\n",
    "            try:\n",
    "                if(re.match(\".*\"+pattern+\".*\", full_data.at[i,'title'])):\n",
    "                    full_data.at[i,pattern+\"_hockey\"]=1\n",
    "            except:\n",
    "                    full_data.at[i,pattern+\"_hockey\"]=0\n",
    "\n"
   ]
  },
  {
   "cell_type": "code",
   "execution_count": 2213,
   "id": "3cf63d68",
   "metadata": {},
   "outputs": [
    {
     "data": {
      "text/html": [
       "<div>\n",
       "<style scoped>\n",
       "    .dataframe tbody tr th:only-of-type {\n",
       "        vertical-align: middle;\n",
       "    }\n",
       "\n",
       "    .dataframe tbody tr th {\n",
       "        vertical-align: top;\n",
       "    }\n",
       "\n",
       "    .dataframe thead th {\n",
       "        text-align: right;\n",
       "    }\n",
       "</style>\n",
       "<table border=\"1\" class=\"dataframe\">\n",
       "  <thead>\n",
       "    <tr style=\"text-align: right;\">\n",
       "      <th></th>\n",
       "      <th>manufacturer</th>\n",
       "      <th>average</th>\n",
       "    </tr>\n",
       "  </thead>\n",
       "  <tbody>\n",
       "    <tr>\n",
       "      <th>0</th>\n",
       "      <td>SAGE</td>\n",
       "      <td>nan</td>\n",
       "    </tr>\n",
       "    <tr>\n",
       "      <th>1</th>\n",
       "      <td>Leaf</td>\n",
       "      <td>84.125</td>\n",
       "    </tr>\n",
       "    <tr>\n",
       "      <th>2</th>\n",
       "      <td>SkyBox</td>\n",
       "      <td>998.76</td>\n",
       "    </tr>\n",
       "    <tr>\n",
       "      <th>3</th>\n",
       "      <td>Tristar</td>\n",
       "      <td>nan</td>\n",
       "    </tr>\n",
       "    <tr>\n",
       "      <th>4</th>\n",
       "      <td>Press Pass</td>\n",
       "      <td>nan</td>\n",
       "    </tr>\n",
       "    <tr>\n",
       "      <th>5</th>\n",
       "      <td>In The Game</td>\n",
       "      <td>182.375</td>\n",
       "    </tr>\n",
       "    <tr>\n",
       "      <th>6</th>\n",
       "      <td>Panini</td>\n",
       "      <td>400.05555555555554</td>\n",
       "    </tr>\n",
       "    <tr>\n",
       "      <th>7</th>\n",
       "      <td>Upper Deck</td>\n",
       "      <td>1189.4708333333333</td>\n",
       "    </tr>\n",
       "    <tr>\n",
       "      <th>8</th>\n",
       "      <td>Topps</td>\n",
       "      <td>607.7553956834532</td>\n",
       "    </tr>\n",
       "  </tbody>\n",
       "</table>\n",
       "</div>"
      ],
      "text/plain": [
       "  manufacturer             average\n",
       "0         SAGE                 nan\n",
       "1         Leaf              84.125\n",
       "2       SkyBox              998.76\n",
       "3      Tristar                 nan\n",
       "4   Press Pass                 nan\n",
       "5  In The Game             182.375\n",
       "6       Panini  400.05555555555554\n",
       "7   Upper Deck  1189.4708333333333\n",
       "8        Topps   607.7553956834532"
      ]
     },
     "execution_count": 2213,
     "metadata": {},
     "output_type": "execute_result"
    }
   ],
   "source": [
    "df_average_hockey_manufacturer = pd.DataFrame()\n",
    "for i in range(len(patterns_hockey_manufacturer)):\n",
    "    row = pd.DataFrame({'manufacturer':patterns_hockey_manufacturer[i], 'average':str(full_data[(full_data['cat']==4)& full_data[patterns_hockey_manufacturer[i]+'_hockey']==1].price_cln.mean())}, index=[0])\n",
    "    df_average_hockey_manufacturer = pd.concat([row,df_average_hockey_manufacturer.loc[:]]).reset_index(drop=True)\n",
    "df_average_hockey_manufacturer\n"
   ]
  },
  {
   "cell_type": "code",
   "execution_count": 2214,
   "id": "496cb6a5",
   "metadata": {},
   "outputs": [
    {
     "name": "stderr",
     "output_type": "stream",
     "text": [
      "C:\\Users\\motti\\AppData\\Local\\Temp\\ipykernel_19792\\20994128.py:3: DeprecationWarning: `np.float` is a deprecated alias for the builtin `float`. To silence this warning, use `float` by itself. Doing this will not modify any behavior and is safe. If you specifically wanted the numpy scalar type, use `np.float64` here.\n",
      "Deprecated in NumPy 1.20; for more details and guidance: https://numpy.org/devdocs/release/1.20.0-notes.html#deprecations\n",
      "  y = y.astype(np.float)\n"
     ]
    },
    {
     "data": {
      "text/plain": [
       "<BarContainer object of 6 artists>"
      ]
     },
     "execution_count": 2214,
     "metadata": {},
     "output_type": "execute_result"
    },
    {
     "data": {
      "image/png": "[encoded data removed]",
      "text/plain": [
       "<Figure size 640x480 with 1 Axes>"
      ]
     },
     "metadata": {},
     "output_type": "display_data"
    }
   ],
   "source": [
    "x = np.array(df_average_hockey_manufacturer[df_average_hockey_manufacturer['average']!='nan'].manufacturer)\n",
    "y = np.array(df_average_hockey_manufacturer[df_average_hockey_manufacturer['average']!='nan'].average)\n",
    "y = y.astype(np.float)\n",
    "plt.barh(x, y)"
   ]
  },
  {
   "cell_type": "markdown",
   "id": "c01d92a2",
   "metadata": {},
   "source": [
    "After I finished to create visual graphs that based on categories from words list, let's check what about years of cards or number of bids, they have any correlation with end price?"
   ]
  },
  {
   "cell_type": "code",
   "execution_count": 2215,
   "id": "741a3cd5",
   "metadata": {},
   "outputs": [
    {
     "data": {
      "text/plain": [
       "0     2000 Playoff Contenders Championship Ticket Au...\n",
       "1     1976 Topps #148 Walter Payton Rookie Card – PS...\n",
       "2     2021 Panini National Treasures Rookie Patch Au...\n",
       "3     2000 Playoff Contenders Championship Ticket Au...\n",
       "4     1933 Sport Kings #6 Jim Thorpe, Football - PSA...\n",
       "5     1981 Topps #216 Joe Montana Rookie Card – PSA ...\n",
       "6     1933 Sport Kings #4 Red Grange, Football - PSA...\n",
       "7     2000 Bowman Chrome Refractor #236 Tom Brady Ro...\n",
       "8     2000 Bowman Chrome Refractor #236 Tom Brady Ro...\n",
       "9     2017 Panini National Treasures Rookie Patch Au...\n",
       "10    2017 Panini Donruss Optic Rated Rookie Autogra...\n",
       "11    2017 Panini National Treasures Rookie Patch Au...\n",
       "12    2017 Panini National Treasures Rookie Patch Au...\n",
       "13    2017 Panini National Treasures Rookie Patch Au...\n",
       "14    2018 Panini National Treasures Rookie Patch Au...\n",
       "15    2018 Panini Contenders Super Bowl Ticket Autog...\n",
       "16    2020 Panini National Treasures Rookie Patch Au...\n",
       "17    2021 Panini National Treasures Rookie Patch Au...\n",
       "18    2000 Playoff Contenders Rookie Ticket Autograp...\n",
       "19    1958 Topps #62 Jim Brown Rookie Card - BVG NM-...\n",
       "Name: title, dtype: object"
      ]
     },
     "execution_count": 2215,
     "metadata": {},
     "output_type": "execute_result"
    }
   ],
   "source": [
    "full_data['title'].head(20)"
   ]
  },
  {
   "cell_type": "markdown",
   "id": "363542aa",
   "metadata": {},
   "source": [
    "We can see that all titles begin with year of series, so we can use at Regular Expression to extricate years and crate new column for year, let's start do"
   ]
  },
  {
   "cell_type": "code",
   "execution_count": 2216,
   "id": "e9c9421b",
   "metadata": {},
   "outputs": [],
   "source": [
    "for i in range(len(full_data)):\n",
    "    try:\n",
    "        pattern_year = \"^([1-2][0-9][0-9][0-9]).*\"\n",
    "        full_data.at[i,'year'] = float(re.match(pattern_year, full_data.at[i,'title']).groups(0)[0])\n",
    "    except:\n",
    "        full_data.at[i,'year']=None\n"
   ]
  },
  {
   "cell_type": "code",
   "execution_count": 2217,
   "id": "2d38b367",
   "metadata": {},
   "outputs": [
    {
     "data": {
      "text/plain": [
       "0"
      ]
     },
     "execution_count": 2217,
     "metadata": {},
     "output_type": "execute_result"
    }
   ],
   "source": [
    "full_data[full_data['year'].isnull()].year.count()"
   ]
  },
  {
   "cell_type": "markdown",
   "id": "3f98b76c",
   "metadata": {},
   "source": [
    "Excellent! We have not null values in years!\n",
    "Now we can check the correlation betweem end price to year by scatter plot"
   ]
  },
  {
   "cell_type": "code",
   "execution_count": 2218,
   "id": "8583cb58",
   "metadata": {},
   "outputs": [
    {
     "data": {
      "image/png": "[encoded data removed]",
      "text/plain": [
       "<Figure size 640x480 with 1 Axes>"
      ]
     },
     "metadata": {},
     "output_type": "display_data"
    }
   ],
   "source": [
    "fig = plt.figure()\n",
    "ax = plt.axes()\n",
    "ax.scatter(full_data.price_cln, full_data.year)\n",
    "plt.xlabel('End price')\n",
    "plt.ylabel('Year')\n",
    "plt.show()"
   ]
  },
  {
   "cell_type": "markdown",
   "id": "c0339d8b",
   "metadata": {},
   "source": [
    "We need to filter exceptional values like price over 200000 or year after 2023 and to try again with scatter plot"
   ]
  },
  {
   "cell_type": "code",
   "execution_count": 2219,
   "id": "b7d0fd46",
   "metadata": {},
   "outputs": [],
   "source": [
    "full_data_cln = full_data[(full_data['year']<=2023) & (full_data['price_cln']<=200000)].copy()"
   ]
  },
  {
   "cell_type": "code",
   "execution_count": 2220,
   "id": "12d8381d",
   "metadata": {},
   "outputs": [
    {
     "data": {
      "image/png": "[encoded data removed]",
      "text/plain": [
       "<Figure size 640x480 with 1 Axes>"
      ]
     },
     "metadata": {},
     "output_type": "display_data"
    }
   ],
   "source": [
    "fig = plt.figure()\n",
    "ax = plt.axes()\n",
    "ax.scatter(full_data_cln.price_cln, full_data_cln.year)\n",
    "plt.xlabel('End price')\n",
    "plt.ylabel('Year')\n",
    "plt.show()"
   ]
  },
  {
   "cell_type": "markdown",
   "id": "4d20033d",
   "metadata": {},
   "source": [
    "It looks like no any correlation between year to end price"
   ]
  },
  {
   "cell_type": "markdown",
   "id": "797990c8",
   "metadata": {},
   "source": [
    "Let's check if there is any correlation between amount of bids to end price, again, by scatter plot"
   ]
  },
  {
   "cell_type": "code",
   "execution_count": 2221,
   "id": "d1f3a743",
   "metadata": {},
   "outputs": [
    {
     "data": {
      "image/png": "[encoded data removed]",
      "text/plain": [
       "<Figure size 640x480 with 1 Axes>"
      ]
     },
     "metadata": {},
     "output_type": "display_data"
    }
   ],
   "source": [
    "fig = plt.figure()\n",
    "ax = plt.axes()\n",
    "ax.scatter(full_data_cln.price_cln, full_data_cln.bids)\n",
    "plt.xlabel('End price')\n",
    "plt.ylabel('bids')\n",
    "plt.show()"
   ]
  },
  {
   "cell_type": "markdown",
   "id": "cfddaeb3",
   "metadata": {},
   "source": [
    "I think that this chart shows there's no any correlation as well"
   ]
  },
  {
   "cell_type": "markdown",
   "id": "ff21b673",
   "metadata": {},
   "source": [
    "Maybe type of sport can be enough significant for end price?"
   ]
  },
  {
   "cell_type": "code",
   "execution_count": 2222,
   "id": "1bbcd44b",
   "metadata": {},
   "outputs": [
    {
     "data": {
      "image/png": "[encoded data removed]",
      "text/plain": [
       "<Figure size 640x480 with 1 Axes>"
      ]
     },
     "metadata": {},
     "output_type": "display_data"
    }
   ],
   "source": [
    "fig = plt.figure()\n",
    "ax = plt.axes()\n",
    "ax.scatter(full_data_cln.price_cln, full_data_cln.cat)\n",
    "plt.xlabel('End price')\n",
    "plt.ylabel('Type of sport')\n",
    "plt.show()"
   ]
  },
  {
   "cell_type": "markdown",
   "id": "e44b2a69",
   "metadata": {},
   "source": [
    "We can see that most expensive are in category no.3 that is Basketball, maybe most expensive cards belong to basketball"
   ]
  },
  {
   "cell_type": "markdown",
   "id": "88a6c0f9",
   "metadata": {},
   "source": [
    "Let's try to summarize the findings and conclude from this"
   ]
  },
  {
   "cell_type": "markdown",
   "id": "b722b678",
   "metadata": {},
   "source": [
    "We found that:\n",
    "<ul>\n",
    "    <li>The signed cards are expensive than average</li>\n",
    "    <li>BGS (is also called as 'Beckett') - grading company that by their checking makes card more expensive</li>\n",
    "    <li>Cards with Viny, Platinum, Black and Gold colors are more expensive</li>\n",
    "    <li>'National Treasures' and 'Flawless' cards are more expensive</li>\n",
    "    <li>It's diffiault to say who is the player that makes card more expensive but if the player is on top of best players of all time, it could be more expensive</li>\n",
    "    <li>'MINT' or 'MT' Card conditions should to be importent part of making card more expensive but not in baseball</li>\n",
    "    <li>Trading cards manufacturing companies 'Upper Deck' and 'SkyBox' make card more expensive but I'll check also Panini because it is very populary</li>\n",
    "    <li>Basketball cards should be more expensive</li>\n",
    "    </ul>"
   ]
  },
  {
   "cell_type": "markdown",
   "id": "a96a1235",
   "metadata": {},
   "source": [
    "<h1>Learning Machine</h1>"
   ]
  },
  {
   "cell_type": "markdown",
   "id": "1f887579",
   "metadata": {},
   "source": [
    "Now I need to ask myself, \"What does 'more expensive' card mean?\", I think it's good idea to divide the list of prices to two groups by the ratio of 20:80, in other words, in the group of 20%, cards are expensive and in another group, cards are not expensive, so I asked myself where is the limit between those both groups, maybe 1500$ is the limit? Let's check "
   ]
  },
  {
   "cell_type": "code",
   "execution_count": 2223,
   "id": "ad1b819f",
   "metadata": {},
   "outputs": [
    {
     "name": "stdout",
     "output_type": "stream",
     "text": [
      "The limit is 1500\n",
      "Cards which less from 1500$:  90.74%\n",
      "Cards which more than 1500$:  9.26%\n"
     ]
    }
   ],
   "source": [
    "limit = 1500\n",
    "less_from_limit = \"{:2.2%}\".format(full_data_cln[full_data_cln['price_cln']<=limit]['price_cln'].count() /full_data_cln['price_cln'].count())\n",
    "more_from_limit = \"{:2.2%}\".format(full_data_cln[full_data_cln['price_cln']>limit]['price_cln'].count() /full_data_cln['price_cln'].count())\n",
    "print('The limit is {}'.format(limit))\n",
    "print('Cards which less from {}$: '.format(limit) ,less_from_limit)\n",
    "print('Cards which more than {}$: '.format(limit) ,more_from_limit)\n"
   ]
  },
  {
   "cell_type": "markdown",
   "id": "d69217ca",
   "metadata": {},
   "source": [
    "Nope! I need lower limit, maybe 500$?"
   ]
  },
  {
   "cell_type": "code",
   "execution_count": 2224,
   "id": "47fc1982",
   "metadata": {},
   "outputs": [
    {
     "name": "stdout",
     "output_type": "stream",
     "text": [
      "The limit is 500\n",
      "Cards which less from 500$:  83.78%\n",
      "Cards which more than 500$:  16.22%\n"
     ]
    }
   ],
   "source": [
    "limit = 500\n",
    "less_from_limit = \"{:2.2%}\".format(full_data_cln[full_data_cln['price_cln']<=limit]['price_cln'].count() /full_data_cln['price_cln'].count())\n",
    "more_from_limit = \"{:2.2%}\".format(full_data_cln[full_data_cln['price_cln']>limit]['price_cln'].count() /full_data_cln['price_cln'].count())\n",
    "print('The limit is {}'.format(limit))\n",
    "print('Cards which less from {}$: '.format(limit) ,less_from_limit)\n",
    "print('Cards which more than {}$: '.format(limit) ,more_from_limit)\n"
   ]
  },
  {
   "cell_type": "markdown",
   "id": "14ab3558",
   "metadata": {},
   "source": [
    "No...maybe 330$?"
   ]
  },
  {
   "cell_type": "code",
   "execution_count": 2225,
   "id": "6f876226",
   "metadata": {},
   "outputs": [
    {
     "name": "stdout",
     "output_type": "stream",
     "text": [
      "The limit is 330\n",
      "Cards which less from 330$:  80.00%\n",
      "Cards which more than 330$:  20.00%\n"
     ]
    }
   ],
   "source": [
    "limit = 330\n",
    "less_from_limit = \"{:2.2%}\".format(full_data_cln[full_data_cln['price_cln']<=limit]['price_cln'].count() /full_data_cln['price_cln'].count())\n",
    "more_from_limit = \"{:2.2%}\".format(full_data_cln[full_data_cln['price_cln']>limit]['price_cln'].count() /full_data_cln['price_cln'].count())\n",
    "print('The limit is {}'.format(limit))\n",
    "print('Cards which less from {}$: '.format(limit) ,less_from_limit)\n",
    "print('Cards which more than {}$: '.format(limit) ,more_from_limit)\n"
   ]
  },
  {
   "cell_type": "markdown",
   "id": "07b87679",
   "metadata": {},
   "source": [
    "Yeahhh! I found the limit which is 330$"
   ]
  },
  {
   "cell_type": "code",
   "execution_count": null,
   "id": "a5382b0c",
   "metadata": {},
   "outputs": [],
   "source": []
  },
  {
   "cell_type": "markdown",
   "id": "f15e4790",
   "metadata": {},
   "source": [
    "Let's add new column if the card is expensive or not (less or more limit of 330$)"
   ]
  },
  {
   "cell_type": "code",
   "execution_count": 2226,
   "id": "5bb40d6f",
   "metadata": {},
   "outputs": [],
   "source": [
    "full_data_cln.reset_index(drop=True, inplace=True)\n",
    "\n",
    "full_data_cln['expensive'] = 0\n",
    "for i in range(len(full_data_cln)):\n",
    "    if(full_data_cln.at[i,'price_cln']>limit):\n",
    "        full_data_cln.at[i, 'expensive']=1"
   ]
  },
  {
   "cell_type": "code",
   "execution_count": 2227,
   "id": "04a692a0",
   "metadata": {},
   "outputs": [
    {
     "data": {
      "text/plain": [
       "0    19254\n",
       "1     4813\n",
       "Name: expensive, dtype: int64"
      ]
     },
     "execution_count": 2227,
     "metadata": {},
     "output_type": "execute_result"
    }
   ],
   "source": [
    "full_data_cln['expensive'].value_counts()"
   ]
  },
  {
   "cell_type": "markdown",
   "id": "386e319a",
   "metadata": {},
   "source": [
    "Great! Like I wanted, we have the ratio of 20:80, full_data_cln['expensive'] will be target at learning machine"
   ]
  },
  {
   "cell_type": "markdown",
   "id": "8af6e0cc",
   "metadata": {},
   "source": [
    "I need also to create some columns that are union of 'BGS', 'Beckett', 'Signed', 'National Treasures', etc..."
   ]
  },
  {
   "cell_type": "markdown",
   "id": "c937b67e",
   "metadata": {},
   "source": [
    "<h5>Union of Signed columns</h5>"
   ]
  },
  {
   "cell_type": "code",
   "execution_count": 2228,
   "id": "647ff2f9",
   "metadata": {},
   "outputs": [],
   "source": [
    "signed = ['Autograph', 'Autographs', 'Signatures', 'Signed']\n",
    "features_signed = []\n",
    "for s in signed:\n",
    "    for i in ['_football', '_baseball', '_basketball', '_hockey']:\n",
    "        features_signed.append(s+\"\"+i)\n"
   ]
  },
  {
   "cell_type": "code",
   "execution_count": 2229,
   "id": "ca854a57",
   "metadata": {},
   "outputs": [],
   "source": [
    "full_data_cln['signed_learning'] = 0\n",
    "for i in range(len(full_data_cln)):\n",
    "    s = 0;\n",
    "    for feature in features_signed:\n",
    "        s = s|full_data_cln.at[i,feature]\n",
    "    full_data_cln.at[i,'signed_learning']=s"
   ]
  },
  {
   "cell_type": "code",
   "execution_count": 2230,
   "id": "20318fe6",
   "metadata": {},
   "outputs": [
    {
     "data": {
      "text/plain": [
       "0    18427\n",
       "1     5640\n",
       "Name: signed_learning, dtype: int64"
      ]
     },
     "execution_count": 2230,
     "metadata": {},
     "output_type": "execute_result"
    }
   ],
   "source": [
    "full_data_cln['signed_learning'].value_counts()"
   ]
  },
  {
   "cell_type": "markdown",
   "id": "94452c41",
   "metadata": {},
   "source": [
    "<h5>Union of BGS and Beckett columns</h5>"
   ]
  },
  {
   "cell_type": "code",
   "execution_count": 2231,
   "id": "a65ab118",
   "metadata": {},
   "outputs": [],
   "source": [
    "grading_companies = ['BGS','Beckett']\n",
    "features_grading = []\n",
    "for s in grading_companies:\n",
    "    for i in ['_football', '_baseball', '_basketball', '_hockey']:\n",
    "        features_grading.append(s+\"\"+i)\n"
   ]
  },
  {
   "cell_type": "code",
   "execution_count": 2232,
   "id": "6939985d",
   "metadata": {},
   "outputs": [],
   "source": [
    "full_data_cln['grading_learning'] = 0\n",
    "for i in range(len(full_data_cln)):\n",
    "    s = 0;\n",
    "    for feature in features_grading:\n",
    "        s = s|full_data_cln.at[i,feature]\n",
    "    full_data_cln.at[i,'grading_learning']=s"
   ]
  },
  {
   "cell_type": "code",
   "execution_count": 2233,
   "id": "95ec615d",
   "metadata": {},
   "outputs": [
    {
     "data": {
      "text/plain": [
       "0    21738\n",
       "1     2329\n",
       "Name: grading_learning, dtype: int64"
      ]
     },
     "execution_count": 2233,
     "metadata": {},
     "output_type": "execute_result"
    }
   ],
   "source": [
    "full_data_cln['grading_learning'].value_counts()"
   ]
  },
  {
   "cell_type": "code",
   "execution_count": 2234,
   "id": "707ab979",
   "metadata": {},
   "outputs": [],
   "source": [
    "#ccc = full_data_cln[full_data_cln['grading_learning']==1]\n",
    "#ccc[['BGS_football', 'BGS_baseball', 'BGS_basketball', 'BGS_hockey', 'Beckett_football', 'Beckett_baseball', 'Beckett_basketball', 'Beckett_hockey']].tail(1800).head(25)"
   ]
  },
  {
   "cell_type": "markdown",
   "id": "6cccf343",
   "metadata": {},
   "source": [
    "<h5>Union of Viny and Platinum columns</h5>"
   ]
  },
  {
   "cell_type": "code",
   "execution_count": 2235,
   "id": "286bf5b9",
   "metadata": {},
   "outputs": [],
   "source": [
    "full_data_cln['viny_learning'] = 0\n",
    "for i in range(len(full_data_cln)):\n",
    "    s = 0\n",
    "    for feature in ['Viny_football', 'Viny_baseball', 'Viny_basketball', 'Viny_hockey']:\n",
    "        s = s|full_data_cln.at[i,feature]\n",
    "    full_data_cln.at[i,'viny_learning']=s"
   ]
  },
  {
   "cell_type": "code",
   "execution_count": 2236,
   "id": "92f5a378",
   "metadata": {},
   "outputs": [
    {
     "data": {
      "text/plain": [
       "0    24028\n",
       "1       39\n",
       "Name: viny_learning, dtype: int64"
      ]
     },
     "execution_count": 2236,
     "metadata": {},
     "output_type": "execute_result"
    }
   ],
   "source": [
    "full_data_cln['viny_learning'].value_counts()"
   ]
  },
  {
   "cell_type": "code",
   "execution_count": 2237,
   "id": "cf3288f4",
   "metadata": {},
   "outputs": [],
   "source": [
    "full_data_cln['platinum_learning'] = 0\n",
    "for i in range(len(full_data_cln)):\n",
    "    s = 0\n",
    "    for feature in ['Platinum_football', 'Platinum_baseball', 'Platinum_basketball', 'Platinum_hockey']:\n",
    "        s = s|full_data_cln.at[i,feature]\n",
    "    full_data_cln.at[i,'platinum_learning']=s"
   ]
  },
  {
   "cell_type": "code",
   "execution_count": 2238,
   "id": "4a3ac2e0",
   "metadata": {},
   "outputs": [
    {
     "data": {
      "text/plain": [
       "0    23761\n",
       "1      306\n",
       "Name: platinum_learning, dtype: int64"
      ]
     },
     "execution_count": 2238,
     "metadata": {},
     "output_type": "execute_result"
    }
   ],
   "source": [
    "full_data_cln['platinum_learning'].value_counts()"
   ]
  },
  {
   "cell_type": "markdown",
   "id": "73b98886",
   "metadata": {},
   "source": [
    "<h5>Union of 'National Treasures' and 'Flawless' columns</h5>"
   ]
  },
  {
   "cell_type": "code",
   "execution_count": 2239,
   "id": "cd6acfe8",
   "metadata": {},
   "outputs": [],
   "source": [
    "full_data_cln['national_treasures_learning'] = 0\n",
    "for i in range(len(full_data_cln)):\n",
    "    s = 0\n",
    "    for feature in ['National Treasures_football', 'National Treasures_baseball', 'National Treasures_basketball', 'National Treasures_hockey']:\n",
    "        s = s|full_data_cln.at[i,feature]\n",
    "    full_data_cln.at[i,'national_treasures_learning']=s"
   ]
  },
  {
   "cell_type": "code",
   "execution_count": 2240,
   "id": "54382177",
   "metadata": {},
   "outputs": [
    {
     "data": {
      "text/plain": [
       "0    23541\n",
       "1      526\n",
       "Name: national_treasures_learning, dtype: int64"
      ]
     },
     "execution_count": 2240,
     "metadata": {},
     "output_type": "execute_result"
    }
   ],
   "source": [
    "full_data_cln['national_treasures_learning'].value_counts()"
   ]
  },
  {
   "cell_type": "code",
   "execution_count": 2241,
   "id": "0f20a368",
   "metadata": {},
   "outputs": [],
   "source": [
    "full_data_cln['flawless_learning'] = 0\n",
    "for i in range(len(full_data_cln)):\n",
    "    s = 0\n",
    "    for feature in ['Flawless_football', 'Flawless_baseball', 'Flawless_basketball', 'Flawless_hockey']:\n",
    "        s = s|full_data_cln.at[i,feature]\n",
    "    full_data_cln.at[i,'flawless_learning']=s"
   ]
  },
  {
   "cell_type": "code",
   "execution_count": 2242,
   "id": "35a4407c",
   "metadata": {},
   "outputs": [
    {
     "data": {
      "text/plain": [
       "0    23793\n",
       "1      274\n",
       "Name: flawless_learning, dtype: int64"
      ]
     },
     "execution_count": 2242,
     "metadata": {},
     "output_type": "execute_result"
    }
   ],
   "source": [
    "full_data_cln['flawless_learning'].value_counts()"
   ]
  },
  {
   "cell_type": "code",
   "execution_count": 2243,
   "id": "11fbb08d",
   "metadata": {},
   "outputs": [],
   "source": [
    "card_conditions = ['MINT','MT']\n",
    "features_condition = []\n",
    "for s in card_conditions:\n",
    "    for i in ['_football', '_baseball', '_basketball', '_hockey']:\n",
    "        features_condition.append(s+\"\"+i)\n"
   ]
  },
  {
   "cell_type": "code",
   "execution_count": 2244,
   "id": "d5f30012",
   "metadata": {},
   "outputs": [],
   "source": [
    "full_data_cln['condition_learning'] = 0\n",
    "for i in range(len(full_data_cln)):\n",
    "    s = 0;\n",
    "    for feature in features_condition:\n",
    "        s = s|full_data_cln.at[i,feature]\n",
    "    full_data_cln.at[i,'condition_learning']=s"
   ]
  },
  {
   "cell_type": "code",
   "execution_count": 2245,
   "id": "dfa919b1",
   "metadata": {},
   "outputs": [
    {
     "data": {
      "text/plain": [
       "1    20504\n",
       "0     3563\n",
       "Name: condition_learning, dtype: int64"
      ]
     },
     "execution_count": 2245,
     "metadata": {},
     "output_type": "execute_result"
    }
   ],
   "source": [
    "full_data_cln['condition_learning'].value_counts()"
   ]
  },
  {
   "cell_type": "code",
   "execution_count": 2246,
   "id": "70601d0e",
   "metadata": {},
   "outputs": [],
   "source": [
    "full_data_cln['upper_deck_learning'] = 0\n",
    "for i in range(len(full_data_cln)):\n",
    "    s = 0\n",
    "    for feature in ['Upper Deck_football', 'Upper Deck_baseball', 'Upper Deck_basketball', 'Upper Deck_hockey']:\n",
    "        s = s|full_data_cln.at[i,feature]\n",
    "    full_data_cln.at[i,'upper_deck_learning']=s"
   ]
  },
  {
   "cell_type": "code",
   "execution_count": 2247,
   "id": "4e139bf5",
   "metadata": {},
   "outputs": [
    {
     "data": {
      "text/plain": [
       "0    21238\n",
       "1     2829\n",
       "Name: upper_deck_learning, dtype: int64"
      ]
     },
     "execution_count": 2247,
     "metadata": {},
     "output_type": "execute_result"
    }
   ],
   "source": [
    "full_data_cln['upper_deck_learning'].value_counts()"
   ]
  },
  {
   "cell_type": "code",
   "execution_count": 2248,
   "id": "51930864",
   "metadata": {},
   "outputs": [],
   "source": [
    "full_data_cln['skybox_learning'] = 0\n",
    "for i in range(len(full_data_cln)):\n",
    "    s = 0\n",
    "    for feature in ['SkyBox_football', 'SkyBox_baseball', 'SkyBox_hockey']:\n",
    "        s = s|full_data_cln.at[i,feature]\n",
    "    full_data_cln.at[i,'skybox_learning']=s"
   ]
  },
  {
   "cell_type": "code",
   "execution_count": 2249,
   "id": "8304d4c5",
   "metadata": {},
   "outputs": [
    {
     "data": {
      "text/plain": [
       "0    23925\n",
       "1      142\n",
       "Name: skybox_learning, dtype: int64"
      ]
     },
     "execution_count": 2249,
     "metadata": {},
     "output_type": "execute_result"
    }
   ],
   "source": [
    "full_data_cln['skybox_learning'].value_counts()"
   ]
  },
  {
   "cell_type": "code",
   "execution_count": 2250,
   "id": "4f2396d4",
   "metadata": {},
   "outputs": [],
   "source": [
    "full_data_cln['panini_learning'] = 0\n",
    "for i in range(len(full_data_cln)):\n",
    "    s = 0\n",
    "    for feature in ['Panini_football', 'Panini_baseball', 'Panini_hockey']:\n",
    "        s = s|full_data_cln.at[i,feature]\n",
    "    full_data_cln.at[i,'panini_learning']=s"
   ]
  },
  {
   "cell_type": "code",
   "execution_count": 2251,
   "id": "82caa4cf",
   "metadata": {},
   "outputs": [
    {
     "data": {
      "text/plain": [
       "0    20654\n",
       "1     3413\n",
       "Name: panini_learning, dtype: int64"
      ]
     },
     "execution_count": 2251,
     "metadata": {},
     "output_type": "execute_result"
    }
   ],
   "source": [
    "full_data_cln['panini_learning'].value_counts()"
   ]
  },
  {
   "cell_type": "markdown",
   "id": "5614e0ce",
   "metadata": {},
   "source": [
    "Let's use model of Decision Trees because most columns are binary and this model is effiecial"
   ]
  },
  {
   "cell_type": "code",
   "execution_count": 2252,
   "id": "80180991",
   "metadata": {},
   "outputs": [],
   "source": [
    "FEATURES_TRAIN = ['signed_learning','grading_learning','viny_learning','platinum_learning','national_treasures_learning','flawless_learning','condition_learning','upper_deck_learning','skybox_learning','panini_learning']\n",
    "FEATURE_TARGER = 'expensive'\n",
    "X_train, X_test, y_train, y_test = train_test_split(full_data_cln[FEATURES_TRAIN].values, full_data_cln[FEATURE_TARGER].values, random_state=1, test_size=0.5)\n",
    "decisionTree = tree.DecisionTreeClassifier()\n",
    "decisionTree = decisionTree.fit(X_train, y_train)\n",
    "y_pred_train = decisionTree.predict(X_test)"
   ]
  },
  {
   "cell_type": "code",
   "execution_count": 2253,
   "id": "0373b005",
   "metadata": {},
   "outputs": [
    {
     "name": "stdout",
     "output_type": "stream",
     "text": [
      "Accuracy on training data=  0.8186653369899444\n",
      "Accuracy on test data=  0.8196775801894632\n"
     ]
    }
   ],
   "source": [
    "y_pred_train = decisionTree.predict(X_train)\n",
    "print('Accuracy on training data= ', metrics.accuracy_score(y_true = y_train, y_pred = y_pred_train))\n",
    "\n",
    "y_pred = decisionTree.predict(X_test)\n",
    "print('Accuracy on test data= ', metrics.accuracy_score(y_true = y_test, y_pred = y_pred))"
   ]
  },
  {
   "cell_type": "markdown",
   "id": "ab541c60",
   "metadata": {},
   "source": [
    "Nice! maybe we can improve the accuracy if we add more columns that are non-binary like bids, year or categories (type of sport)? Let's try..."
   ]
  },
  {
   "cell_type": "code",
   "execution_count": 2254,
   "id": "67fd0106",
   "metadata": {},
   "outputs": [],
   "source": [
    "FEATURES_TRAIN = ['cat','bids','year','signed_learning','grading_learning','viny_learning','platinum_learning','national_treasures_learning','flawless_learning','condition_learning','upper_deck_learning','skybox_learning','panini_learning']\n",
    "FEATURE_TARGER = 'expensive'\n",
    "X_train, X_test, y_train, y_test = train_test_split(full_data_cln[FEATURES_TRAIN].values, full_data_cln[FEATURE_TARGER].values, random_state=1, test_size=0.5)\n",
    "decisionTree = tree.DecisionTreeClassifier()\n",
    "decisionTree = decisionTree.fit(X_train, y_train)\n",
    "y_pred_train = decisionTree.predict(X_test)"
   ]
  },
  {
   "cell_type": "code",
   "execution_count": 2255,
   "id": "b261eaf2",
   "metadata": {},
   "outputs": [
    {
     "name": "stdout",
     "output_type": "stream",
     "text": [
      "Accuracy on training data=  0.9732402559627691\n",
      "Accuracy on test data=  0.8770151238158551\n"
     ]
    }
   ],
   "source": [
    "y_pred_train = decisionTree.predict(X_train)\n",
    "print('Accuracy on training data= ', metrics.accuracy_score(y_true = y_train, y_pred = y_pred_train))\n",
    "\n",
    "y_pred = decisionTree.predict(X_test)\n",
    "print('Accuracy on test data= ', metrics.accuracy_score(y_true = y_test, y_pred = y_pred))"
   ]
  },
  {
   "cell_type": "markdown",
   "id": "f4eaf7ee",
   "metadata": {},
   "source": [
    "Ohh! We have better results! Let's check this with accuracy, percision, recall and 1f score"
   ]
  },
  {
   "cell_type": "code",
   "execution_count": 2256,
   "id": "4961d835",
   "metadata": {},
   "outputs": [
    {
     "name": "stdout",
     "output_type": "stream",
     "text": [
      "Accuracy score:  0.8770151238158551\n",
      "Precision score:  0.7029384756657484\n",
      "Recall score:  0.6476311336717429\n",
      "F1 score:  0.6741523557904007\n"
     ]
    }
   ],
   "source": [
    "print(\"Accuracy score: \", metrics.accuracy_score(y_test, y_pred))\n",
    "print(\"Precision score: \",metrics.precision_score(y_test, y_pred))\n",
    "print(\"Recall score: \",metrics.recall_score(y_test, y_pred))\n",
    "print(\"F1 score: \",metrics.f1_score(y_test, y_pred))"
   ]
  },
  {
   "cell_type": "markdown",
   "id": "28bc9604",
   "metadata": {},
   "source": [
    "Okay, the results are not the best but those results are enough good"
   ]
  },
  {
   "cell_type": "markdown",
   "id": "9cd96b5a",
   "metadata": {},
   "source": [
    "<h2>Summary</h2>"
   ]
  },
  {
   "cell_type": "markdown",
   "id": "7c8e0346",
   "metadata": {},
   "source": [
    "I took four dataframes whick each dataframe is type of sport (football, baseball, basketball and hockey), I gave each sport number of category so:\n",
    "<ol>\n",
    "    <li>football</li>\n",
    "     <li>baseball</li>\n",
    "     <li>basketball</li>\n",
    "     <li>hockey</li>\n",
    "    </ol>\n",
    "and union those dataframes to one dataframe.\n",
    "I did content analysis on titles by using of CountVectorizer, I got 100 the most common words in titles, I divided them manually to some categories like names of players, grading companies, types of packs, etc..and I searched on Google what are another names for those categories like Babe Ruth (name of baseball player who not showed in the list of 100 common words) or Upper Deck (name of manufacturing company) so I could to find what are details that make card more expensive by using of EDA.\n",
    "\n",
    "I divided list of end prices to two groups and defined them \"expensive\" and \"not expensive\", what was the limit of price what divided them? I used in dividing of 20:80 so group of 20 is expesive and another group is not expensive, I found that the limit is 330$\n",
    "\n",
    "After this, I begined with learning machine, I decided to use in Decision Trees because most features (columns) are binary and it's easy to arrive results by using of those features.\n",
    "\n",
    "I got good results from Decision trees model but precision, recall and f1 scores are not the best, they enough good.\n",
    "\n",
    "I decided not use in content analysis on description because most of them are without data or irrelevant information, which focuses on a sentimental description of cards.\n",
    "\n",
    "I really enjoyed doing the project, I learned a lot! Thanks\n"
   ]
  },
  {
   "cell_type": "code",
   "execution_count": null,
   "id": "f5583211",
   "metadata": {},
   "outputs": [],
   "source": []
  }
 ],
 "metadata": {
  "kernelspec": {
   "display_name": "Python 3 (ipykernel)",
   "language": "python",
   "name": "python3"
  },
  "language_info": {
   "codemirror_mode": {
    "name": "ipython",
    "version": 3
   },
   "file_extension": ".py",
   "mimetype": "text/x-python",
   "name": "python",
   "nbconvert_exporter": "python",
   "pygments_lexer": "ipython3",
   "version": "3.9.13"
  }
 },
 "nbformat": 4,
 "nbformat_minor": 5
}
